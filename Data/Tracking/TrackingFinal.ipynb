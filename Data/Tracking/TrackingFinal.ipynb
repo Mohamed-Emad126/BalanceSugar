{
 "cells": [
  {
   "cell_type": "markdown",
   "metadata": {
    "id": "nmyvcNKrDs8g"
   },
   "source": [
    "# UCI Irvine Diabetes Dataset AIM94"
   ]
  },
  {
   "cell_type": "markdown",
   "metadata": {
    "id": "FWhes3kdhP-5"
   },
   "source": [
    "# 1.Read data"
   ]
  },
  {
   "cell_type": "code",
   "execution_count": 1,
   "metadata": {
    "id": "i9yDPxcKDs8h"
   },
   "outputs": [],
   "source": [
    "import math\n",
    "import numpy as np\n",
    "import pandas as pd\n",
    "import seaborn as sns\n",
    "sns.set_style('whitegrid')\n",
    "import matplotlib.pyplot as plt\n",
    "plt.style.use(\"fivethirtyeight\")\n",
    "\n",
    "import keras\n",
    "from keras.models import Sequential\n",
    "from keras.callbacks import EarlyStopping ,ReduceLROnPlateau  \n",
    "from keras.layers import Dense, LSTM, Dropout\n",
    "\n",
    "from sklearn.preprocessing import MinMaxScaler\n",
    "from sklearn.model_selection import train_test_split\n",
    "from sklearn.metrics import mean_squared_error, mean_absolute_error\n",
    "from tensorflow.keras.callbacks import LearningRateScheduler  \n",
    "from sklearn.model_selection import KFold  \n",
    "from lifelines.utils import datetimes_to_durations"
   ]
  },
  {
   "cell_type": "code",
   "execution_count": 2,
   "metadata": {
    "colab": {
     "base_uri": "https://localhost:8080/",
     "height": 424
    },
    "id": "0C4h-ybmOO2r",
    "outputId": "4acbbbe6-ecf7-4b0b-ad50-e677b640d033"
   },
   "outputs": [
    {
     "data": {
      "text/html": [
       "<div>\n",
       "<style scoped>\n",
       "    .dataframe tbody tr th:only-of-type {\n",
       "        vertical-align: middle;\n",
       "    }\n",
       "\n",
       "    .dataframe tbody tr th {\n",
       "        vertical-align: top;\n",
       "    }\n",
       "\n",
       "    .dataframe thead th {\n",
       "        text-align: right;\n",
       "    }\n",
       "</style>\n",
       "<table border=\"1\" class=\"dataframe\">\n",
       "  <thead>\n",
       "    <tr style=\"text-align: right;\">\n",
       "      <th></th>\n",
       "      <th>Unnamed: 0</th>\n",
       "      <th>id</th>\n",
       "      <th>date</th>\n",
       "      <th>time</th>\n",
       "      <th>code</th>\n",
       "      <th>value</th>\n",
       "      <th>val</th>\n",
       "    </tr>\n",
       "  </thead>\n",
       "  <tbody>\n",
       "    <tr>\n",
       "      <th>0</th>\n",
       "      <td>0</td>\n",
       "      <td>1</td>\n",
       "      <td>04-21-1991</td>\n",
       "      <td>9:09</td>\n",
       "      <td>58</td>\n",
       "      <td>100</td>\n",
       "      <td>100.0</td>\n",
       "    </tr>\n",
       "    <tr>\n",
       "      <th>1</th>\n",
       "      <td>3</td>\n",
       "      <td>1</td>\n",
       "      <td>04-21-1991</td>\n",
       "      <td>17:08</td>\n",
       "      <td>62</td>\n",
       "      <td>119</td>\n",
       "      <td>119.0</td>\n",
       "    </tr>\n",
       "    <tr>\n",
       "      <th>2</th>\n",
       "      <td>5</td>\n",
       "      <td>1</td>\n",
       "      <td>04-21-1991</td>\n",
       "      <td>22:51</td>\n",
       "      <td>48</td>\n",
       "      <td>123</td>\n",
       "      <td>123.0</td>\n",
       "    </tr>\n",
       "    <tr>\n",
       "      <th>3</th>\n",
       "      <td>6</td>\n",
       "      <td>1</td>\n",
       "      <td>04-22-1991</td>\n",
       "      <td>7:35</td>\n",
       "      <td>58</td>\n",
       "      <td>216</td>\n",
       "      <td>216.0</td>\n",
       "    </tr>\n",
       "    <tr>\n",
       "      <th>4</th>\n",
       "      <td>10</td>\n",
       "      <td>1</td>\n",
       "      <td>04-22-1991</td>\n",
       "      <td>16:56</td>\n",
       "      <td>62</td>\n",
       "      <td>211</td>\n",
       "      <td>211.0</td>\n",
       "    </tr>\n",
       "    <tr>\n",
       "      <th>...</th>\n",
       "      <td>...</td>\n",
       "      <td>...</td>\n",
       "      <td>...</td>\n",
       "      <td>...</td>\n",
       "      <td>...</td>\n",
       "      <td>...</td>\n",
       "      <td>...</td>\n",
       "    </tr>\n",
       "    <tr>\n",
       "      <th>13637</th>\n",
       "      <td>29314</td>\n",
       "      <td>70</td>\n",
       "      <td>05-07-1989</td>\n",
       "      <td>12:00</td>\n",
       "      <td>60</td>\n",
       "      <td>151</td>\n",
       "      <td>151.0</td>\n",
       "    </tr>\n",
       "    <tr>\n",
       "      <th>13638</th>\n",
       "      <td>29317</td>\n",
       "      <td>70</td>\n",
       "      <td>05-07-1989</td>\n",
       "      <td>22:00</td>\n",
       "      <td>48</td>\n",
       "      <td>265</td>\n",
       "      <td>265.0</td>\n",
       "    </tr>\n",
       "    <tr>\n",
       "      <th>13639</th>\n",
       "      <td>29318</td>\n",
       "      <td>70</td>\n",
       "      <td>05-08-1989</td>\n",
       "      <td>08:00</td>\n",
       "      <td>58</td>\n",
       "      <td>248</td>\n",
       "      <td>248.0</td>\n",
       "    </tr>\n",
       "    <tr>\n",
       "      <th>13640</th>\n",
       "      <td>29323</td>\n",
       "      <td>70</td>\n",
       "      <td>05-08-1989</td>\n",
       "      <td>22:00</td>\n",
       "      <td>48</td>\n",
       "      <td>145</td>\n",
       "      <td>145.0</td>\n",
       "    </tr>\n",
       "    <tr>\n",
       "      <th>13641</th>\n",
       "      <td>29324</td>\n",
       "      <td>70</td>\n",
       "      <td>05-09-1989</td>\n",
       "      <td>08:00</td>\n",
       "      <td>58</td>\n",
       "      <td>259</td>\n",
       "      <td>259.0</td>\n",
       "    </tr>\n",
       "  </tbody>\n",
       "</table>\n",
       "<p>13642 rows × 7 columns</p>\n",
       "</div>"
      ],
      "text/plain": [
       "       Unnamed: 0  id        date   time  code  value    val\n",
       "0               0   1  04-21-1991   9:09    58    100  100.0\n",
       "1               3   1  04-21-1991  17:08    62    119  119.0\n",
       "2               5   1  04-21-1991  22:51    48    123  123.0\n",
       "3               6   1  04-22-1991   7:35    58    216  216.0\n",
       "4              10   1  04-22-1991  16:56    62    211  211.0\n",
       "...           ...  ..         ...    ...   ...    ...    ...\n",
       "13637       29314  70  05-07-1989  12:00    60    151  151.0\n",
       "13638       29317  70  05-07-1989  22:00    48    265  265.0\n",
       "13639       29318  70  05-08-1989  08:00    58    248  248.0\n",
       "13640       29323  70  05-08-1989  22:00    48    145  145.0\n",
       "13641       29324  70  05-09-1989  08:00    58    259  259.0\n",
       "\n",
       "[13642 rows x 7 columns]"
      ]
     },
     "execution_count": 2,
     "metadata": {},
     "output_type": "execute_result"
    }
   ],
   "source": [
    "df= pd.read_csv(\"C:\\\\Users\\\\Hp\\\\Downloads\\\\blood_glucose.csv\")\n",
    "df"
   ]
  },
  {
   "cell_type": "markdown",
   "metadata": {
    "id": "aIzR8ETMhLEU"
   },
   "source": [
    "# 2. Preprocess the Data"
   ]
  },
  {
   "cell_type": "markdown",
   "metadata": {
    "id": "R04Ich0f1e54"
   },
   "source": [
    "## a.Filter and Clean Data"
   ]
  },
  {
   "cell_type": "code",
   "execution_count": 3,
   "metadata": {
    "colab": {
     "base_uri": "https://localhost:8080/",
     "height": 241
    },
    "id": "fwa-bVXPDs8j",
    "outputId": "c80c5510-2b5b-465d-d8b4-b809d2b92a94"
   },
   "outputs": [
    {
     "data": {
      "text/plain": [
       "Unnamed: 0      int64\n",
       "id              int64\n",
       "date           object\n",
       "time           object\n",
       "code            int64\n",
       "value           int64\n",
       "val           float64\n",
       "dtype: object"
      ]
     },
     "execution_count": 3,
     "metadata": {},
     "output_type": "execute_result"
    }
   ],
   "source": [
    "df.dtypes"
   ]
  },
  {
   "cell_type": "markdown",
   "metadata": {
    "id": "xFKVDa2x2MF-"
   },
   "source": [
    "###\n",
    "Cannot convert values to_numeric() here because some of them are things like \"hi\" and \"lo\". Need to filter down to blood glucose measurements first.\n",
    "\n",
    "Key to code fields below. Note that we have categorical variables in this dataset (hypoglycemic symptoms, etc.). The Code field is deciphered as follows:\n",
    "\n",
    "33 = Regular insulin dose\n",
    "\n",
    "34 = NPH insulin dose\n",
    "\n",
    "35 = UltraLente insulin dose\n",
    "\n",
    "48 = Unspecified blood glucose measurement\n",
    "\n",
    "57 = Unspecified blood glucose measurement\n",
    "\n",
    "58 = Pre-breakfast blood glucose measurement\n",
    "\n",
    "59 = Post-breakfast blood glucose measurement\n",
    "\n",
    "60 = Pre-lunch blood glucose measurement\n",
    "\n",
    "61 = Post-lunch blood glucose measurement\n",
    "\n",
    "62 = Pre-supper blood glucose measurement\n",
    "\n",
    "63 = Post-supper blood glucose measurement\n",
    "\n",
    "64 = Pre-snack blood glucose measurement\n",
    "\n",
    "65 = Hypoglycemic symptoms\n",
    "\n",
    "66 = Typical meal ingestion\n",
    "\n",
    "67 = More-than-usual meal ingestion\n",
    "\n",
    "68 = Less-than-usual meal ingestion\n",
    "\n",
    "69 = Typical exercise activity\n",
    "\n",
    "70 = More-than-usual exercise activity\n",
    "\n",
    "71 = Less-than-usual exercise activity\n",
    "\n",
    "72 = Unspecified special event"
   ]
  },
  {
   "cell_type": "markdown",
   "metadata": {
    "id": "lSqWOFVQ1pjZ"
   },
   "source": [
    "### Filter down to blood glucose measurements only."
   ]
  },
  {
   "cell_type": "code",
   "execution_count": 4,
   "metadata": {
    "colab": {
     "base_uri": "https://localhost:8080/",
     "height": 206
    },
    "id": "oMysSama1mgH",
    "outputId": "674a0080-8f13-4654-df1e-a3edbf028dbd"
   },
   "outputs": [],
   "source": [
    "# blood_glucose = df[(df['code'] >= 58) & (df['code'] <= 68)]\n",
    "# blood_glucose.head()"
   ]
  },
  {
   "cell_type": "code",
   "execution_count": 5,
   "metadata": {},
   "outputs": [
    {
     "data": {
      "text/html": [
       "<div>\n",
       "<style scoped>\n",
       "    .dataframe tbody tr th:only-of-type {\n",
       "        vertical-align: middle;\n",
       "    }\n",
       "\n",
       "    .dataframe tbody tr th {\n",
       "        vertical-align: top;\n",
       "    }\n",
       "\n",
       "    .dataframe thead th {\n",
       "        text-align: right;\n",
       "    }\n",
       "</style>\n",
       "<table border=\"1\" class=\"dataframe\">\n",
       "  <thead>\n",
       "    <tr style=\"text-align: right;\">\n",
       "      <th></th>\n",
       "      <th>Unnamed: 0</th>\n",
       "      <th>id</th>\n",
       "      <th>date</th>\n",
       "      <th>time</th>\n",
       "      <th>code</th>\n",
       "      <th>value</th>\n",
       "      <th>val</th>\n",
       "    </tr>\n",
       "  </thead>\n",
       "  <tbody>\n",
       "    <tr>\n",
       "      <th>0</th>\n",
       "      <td>0</td>\n",
       "      <td>1</td>\n",
       "      <td>04-21-1991</td>\n",
       "      <td>9:09</td>\n",
       "      <td>58</td>\n",
       "      <td>100</td>\n",
       "      <td>100.0</td>\n",
       "    </tr>\n",
       "    <tr>\n",
       "      <th>1</th>\n",
       "      <td>3</td>\n",
       "      <td>1</td>\n",
       "      <td>04-21-1991</td>\n",
       "      <td>17:08</td>\n",
       "      <td>62</td>\n",
       "      <td>119</td>\n",
       "      <td>119.0</td>\n",
       "    </tr>\n",
       "    <tr>\n",
       "      <th>2</th>\n",
       "      <td>5</td>\n",
       "      <td>1</td>\n",
       "      <td>04-21-1991</td>\n",
       "      <td>22:51</td>\n",
       "      <td>48</td>\n",
       "      <td>123</td>\n",
       "      <td>123.0</td>\n",
       "    </tr>\n",
       "    <tr>\n",
       "      <th>3</th>\n",
       "      <td>6</td>\n",
       "      <td>1</td>\n",
       "      <td>04-22-1991</td>\n",
       "      <td>7:35</td>\n",
       "      <td>58</td>\n",
       "      <td>216</td>\n",
       "      <td>216.0</td>\n",
       "    </tr>\n",
       "    <tr>\n",
       "      <th>4</th>\n",
       "      <td>10</td>\n",
       "      <td>1</td>\n",
       "      <td>04-22-1991</td>\n",
       "      <td>16:56</td>\n",
       "      <td>62</td>\n",
       "      <td>211</td>\n",
       "      <td>211.0</td>\n",
       "    </tr>\n",
       "  </tbody>\n",
       "</table>\n",
       "</div>"
      ],
      "text/plain": [
       "   Unnamed: 0  id        date   time  code  value    val\n",
       "0           0   1  04-21-1991   9:09    58    100  100.0\n",
       "1           3   1  04-21-1991  17:08    62    119  119.0\n",
       "2           5   1  04-21-1991  22:51    48    123  123.0\n",
       "3           6   1  04-22-1991   7:35    58    216  216.0\n",
       "4          10   1  04-22-1991  16:56    62    211  211.0"
      ]
     },
     "execution_count": 5,
     "metadata": {},
     "output_type": "execute_result"
    }
   ],
   "source": [
    "blood_glucose = df\n",
    "blood_glucose.head()"
   ]
  },
  {
   "cell_type": "code",
   "execution_count": 6,
   "metadata": {},
   "outputs": [
    {
     "data": {
      "text/plain": [
       "(13642, 7)"
      ]
     },
     "execution_count": 6,
     "metadata": {},
     "output_type": "execute_result"
    }
   ],
   "source": [
    "blood_glucose.shape"
   ]
  },
  {
   "cell_type": "code",
   "execution_count": 7,
   "metadata": {
    "colab": {
     "base_uri": "https://localhost:8080/"
    },
    "id": "mZM2oi2m3aVf",
    "outputId": "df965df7-d0bc-41c7-97c5-5e69a2204321"
   },
   "outputs": [],
   "source": [
    "# Convert 'value' to numeric, handle non-numeric values as NaN\n",
    "blood_glucose['value'] = pd.to_numeric(blood_glucose['value'], errors='coerce')"
   ]
  },
  {
   "cell_type": "markdown",
   "metadata": {
    "id": "mKePH5iG4TeA"
   },
   "source": [
    "### b.clean up that dirty data"
   ]
  },
  {
   "cell_type": "code",
   "execution_count": 8,
   "metadata": {
    "id": "0L08dhx031eo"
   },
   "outputs": [],
   "source": [
    "blood_glucose = blood_glucose[blood_glucose['value'].notnull()]"
   ]
  },
  {
   "cell_type": "code",
   "execution_count": 9,
   "metadata": {},
   "outputs": [],
   "source": [
    "# blood_glucose['date'] = pd.to_datetime(blood_glucose['date'] , errors='coerce')\n",
    "# # # Extract the day part\n",
    "# # blood_glucose['day'] = blood_glucose['date'].dt.day\n",
    "# # Convert 'time' column to datetime\n",
    "# blood_glucose['time'] = pd.to_datetime(blood_glucose['time'], errors='coerce')\n",
    "\n",
    "# # Convert 'time' to hours and minutes format \"HH:MM\"\n",
    "# blood_glucose['time'] = blood_glucose['time'].dt.hour\n"
   ]
  },
  {
   "cell_type": "code",
   "execution_count": 10,
   "metadata": {
    "colab": {
     "base_uri": "https://localhost:8080/"
    },
    "id": "7j_rytDM4sBW",
    "outputId": "d4f238ed-4169-4e6f-9529-7581683fa370"
   },
   "outputs": [],
   "source": [
    "# Step 1: Combine 'date' and 'time' into a single 'datetime' column without specifying format\n",
    "blood_glucose['datetime'] = pd.to_datetime(\n",
    "    blood_glucose['date'] + ' ' + blood_glucose['time'], errors='coerce'\n",
    ")\n",
    "\n",
    "# # Check for any failed conversions\n",
    "# print(blood_glucose[blood_glucose['datetime'].isna()])\n",
    "\n",
    "\n",
    "\n",
    "\n",
    "# # # Step 2: Extract the hour from the 'datetime' column\n",
    "# # blood_glucose['hour'] = blood_glucose['datetime'].dt.hour"
   ]
  },
  {
   "cell_type": "code",
   "execution_count": 11,
   "metadata": {},
   "outputs": [],
   "source": [
    "# meal_context_map =  {\n",
    "#         33: 'regular_insulin_dose',\n",
    "#         34: 'nph_insulin_dose',\n",
    "#         35: 'ultralente_insulin_dose',\n",
    "#         48: 'unspecified_blood_glucose',\n",
    "#         57: 'unspecified_blood_glucose',\n",
    "#         58: 'pre_breakfast',\n",
    "#         59: 'post_breakfast',\n",
    "#         60: 'pre_lunch',\n",
    "#         61: 'post_lunch',\n",
    "#         62: 'pre_supper',\n",
    "#         63: 'post_supper',\n",
    "#         64: 'pre_snack',\n",
    "#         65: 'hypoglycemic_symptoms',\n",
    "#         66: 'typical_meal',\n",
    "#         67: 'large_meal',\n",
    "#         68: 'small_meal',\n",
    "#         69: 'typical_exercise',\n",
    "#         70: 'more_than_usual_exercise',\n",
    "#         71: 'less_than_usual_exercise',\n",
    "#         72: 'unspecified_special_event'\n",
    "#     }\n",
    "\n",
    "# # Add meal context column\n",
    "# blood_glucose['meal_context'] = blood_glucose['code'].map(meal_context_map)"
   ]
  },
  {
   "cell_type": "code",
   "execution_count": 12,
   "metadata": {
    "colab": {
     "base_uri": "https://localhost:8080/",
     "height": 424
    },
    "id": "ITnBuFUc4r-c",
    "outputId": "14848341-7be1-4b7a-abf1-bd7e25b5b31f"
   },
   "outputs": [
    {
     "name": "stdout",
     "output_type": "stream",
     "text": [
      "Missing values:\n",
      "Unnamed: 0    0\n",
      "id            0\n",
      "date          0\n",
      "time          0\n",
      "code          0\n",
      "value         0\n",
      "val           0\n",
      "datetime      5\n",
      "dtype: int64\n"
     ]
    }
   ],
   "source": [
    "# Check for missing values\n",
    "print(\"Missing values:\")\n",
    "print(blood_glucose.isnull().sum())"
   ]
  },
  {
   "cell_type": "code",
   "execution_count": 13,
   "metadata": {},
   "outputs": [
    {
     "name": "stdout",
     "output_type": "stream",
     "text": [
      "Missing values:\n",
      "Unnamed: 0    0\n",
      "id            0\n",
      "date          0\n",
      "time          0\n",
      "code          0\n",
      "value         0\n",
      "val           0\n",
      "datetime      0\n",
      "dtype: int64\n"
     ]
    }
   ],
   "source": [
    "# Drop rows with missing datetime values\n",
    "blood_glucose = blood_glucose.dropna()\n",
    "# Check for missing values\n",
    "print(\"Missing values:\")\n",
    "print(blood_glucose.isnull().sum())"
   ]
  },
  {
   "cell_type": "code",
   "execution_count": 14,
   "metadata": {},
   "outputs": [
    {
     "name": "stdout",
     "output_type": "stream",
     "text": [
      "Unnamed: 0             int64\n",
      "id                     int64\n",
      "date                  object\n",
      "time                  object\n",
      "code                   int64\n",
      "value                  int64\n",
      "val                  float64\n",
      "datetime      datetime64[ns]\n",
      "dtype: object\n"
     ]
    }
   ],
   "source": [
    "print(blood_glucose.dtypes)\n"
   ]
  },
  {
   "cell_type": "code",
   "execution_count": 15,
   "metadata": {},
   "outputs": [],
   "source": [
    "blood_glucose.drop(['val','date','time','id','Unnamed: 0'], axis=1, inplace=True)"
   ]
  },
  {
   "cell_type": "code",
   "execution_count": 16,
   "metadata": {
    "colab": {
     "base_uri": "https://localhost:8080/"
    },
    "id": "5lhyQI_T_zNA",
    "outputId": "4614a99b-e682-4e86-a813-42530139d3e3"
   },
   "outputs": [
    {
     "name": "stdout",
     "output_type": "stream",
     "text": [
      "Checking for NaNs in the dataset:\n",
      "code        0\n",
      "value       0\n",
      "datetime    0\n",
      "dtype: int64\n",
      "                 datetime  value  code\n",
      "0     1991-04-21 09:09:00    100    58\n",
      "1     1991-04-21 17:08:00    119    62\n",
      "2     1991-04-21 22:51:00    123    48\n",
      "3     1991-04-22 07:35:00    216    58\n",
      "4     1991-04-22 16:56:00    211    62\n",
      "...                   ...    ...   ...\n",
      "13637 1989-05-07 12:00:00    151    60\n",
      "13638 1989-05-07 22:00:00    265    48\n",
      "13639 1989-05-08 08:00:00    248    58\n",
      "13640 1989-05-08 22:00:00    145    48\n",
      "13641 1989-05-09 08:00:00    259    58\n",
      "\n",
      "[13637 rows x 3 columns]\n"
     ]
    }
   ],
   "source": [
    "# # Step 3: Classification function based on 'code' and 'value'\n",
    "# def classify_glucose(row):\n",
    "#     value = row['value']\n",
    "#     code = row['code']\n",
    "\n",
    "#     if code in [59, 61, 63]:  # Post-meal (0-2 hours)\n",
    "#         if value >= 300:\n",
    "#             return 'Dangerous'\n",
    "#         elif 140 <= value <= 220:\n",
    "#             return 'High'\n",
    "#         elif 90 <= value < 140:\n",
    "#             return 'Normal'\n",
    "#         elif 80 <= value < 90:\n",
    "#             return 'Low'\n",
    "#         else:\n",
    "#             return 'Dangerous'\n",
    "\n",
    "#     elif code in [58, 60, 62]:  # Pre-meal (2-4 hours)\n",
    "#         if value >= 200:\n",
    "#             return 'Dangerous'\n",
    "#         elif 130 <= value < 200:\n",
    "#             return 'High'\n",
    "#         elif 90 <= value < 130:\n",
    "#             return 'Normal'\n",
    "#         elif 70 <= value < 90:\n",
    "#             return 'Low'\n",
    "#         else:\n",
    "#             return 'Dangerous'\n",
    "\n",
    "#     elif code in [64, 66, 67, 68]:  # Longer durations (4-8 hours)\n",
    "#         if value >= 180:\n",
    "#             return 'Dangerous'\n",
    "#         elif 120 <= value < 180:\n",
    "#             return 'High'\n",
    "#         elif 80 <= value < 120:\n",
    "#             return 'Normal'\n",
    "#         elif 60 <= value < 80:\n",
    "#             return 'Low'\n",
    "#         else:\n",
    "#             return 'Dangerous'\n",
    "\n",
    "#     else:  # Unknown context (8+ hours)\n",
    "#         if value >= 180:\n",
    "#             return 'Dangerous'\n",
    "#         elif 120 <= value < 180:\n",
    "#             return 'High'\n",
    "#         elif 80 <= value < 120:\n",
    "#             return 'Normal'\n",
    "#         elif 60 <= value < 80:\n",
    "#             return 'Low'\n",
    "#         else:\n",
    "#             return 'Dangerous'\n",
    "\n",
    "# # Apply classification\n",
    "# blood_glucose['classification'] = blood_glucose.apply(classify_glucose, axis=1)\n",
    "\n",
    "\n",
    "\n",
    "# # Create an event column (1 if the glucose value exceeds a certain threshold)\n",
    "# threshold = 180  # You can change this threshold based on your definition of an event\n",
    "# blood_glucose['event'] = (blood_glucose['value'] >= threshold).astype(int)\n",
    "\n",
    "# Check for NaNs in the DataFrame\n",
    "print(\"Checking for NaNs in the dataset:\")\n",
    "print(blood_glucose.isnull().sum())\n",
    "\n",
    "\n",
    "# Step 5: Display the DataFrame with classifications\n",
    "print(blood_glucose[['datetime' ,'value', 'code']])"
   ]
  },
  {
   "cell_type": "code",
   "execution_count": 17,
   "metadata": {},
   "outputs": [],
   "source": [
    "# blood_glucose.set_index('datetime', inplace=True)"
   ]
  },
  {
   "cell_type": "code",
   "execution_count": 18,
   "metadata": {},
   "outputs": [
    {
     "data": {
      "text/html": [
       "<div>\n",
       "<style scoped>\n",
       "    .dataframe tbody tr th:only-of-type {\n",
       "        vertical-align: middle;\n",
       "    }\n",
       "\n",
       "    .dataframe tbody tr th {\n",
       "        vertical-align: top;\n",
       "    }\n",
       "\n",
       "    .dataframe thead th {\n",
       "        text-align: right;\n",
       "    }\n",
       "</style>\n",
       "<table border=\"1\" class=\"dataframe\">\n",
       "  <thead>\n",
       "    <tr style=\"text-align: right;\">\n",
       "      <th></th>\n",
       "      <th>code</th>\n",
       "      <th>value</th>\n",
       "      <th>datetime</th>\n",
       "    </tr>\n",
       "  </thead>\n",
       "  <tbody>\n",
       "    <tr>\n",
       "      <th>0</th>\n",
       "      <td>58</td>\n",
       "      <td>100</td>\n",
       "      <td>1991-04-21 09:09:00</td>\n",
       "    </tr>\n",
       "    <tr>\n",
       "      <th>1</th>\n",
       "      <td>62</td>\n",
       "      <td>119</td>\n",
       "      <td>1991-04-21 17:08:00</td>\n",
       "    </tr>\n",
       "    <tr>\n",
       "      <th>2</th>\n",
       "      <td>48</td>\n",
       "      <td>123</td>\n",
       "      <td>1991-04-21 22:51:00</td>\n",
       "    </tr>\n",
       "    <tr>\n",
       "      <th>3</th>\n",
       "      <td>58</td>\n",
       "      <td>216</td>\n",
       "      <td>1991-04-22 07:35:00</td>\n",
       "    </tr>\n",
       "    <tr>\n",
       "      <th>4</th>\n",
       "      <td>62</td>\n",
       "      <td>211</td>\n",
       "      <td>1991-04-22 16:56:00</td>\n",
       "    </tr>\n",
       "    <tr>\n",
       "      <th>...</th>\n",
       "      <td>...</td>\n",
       "      <td>...</td>\n",
       "      <td>...</td>\n",
       "    </tr>\n",
       "    <tr>\n",
       "      <th>13637</th>\n",
       "      <td>60</td>\n",
       "      <td>151</td>\n",
       "      <td>1989-05-07 12:00:00</td>\n",
       "    </tr>\n",
       "    <tr>\n",
       "      <th>13638</th>\n",
       "      <td>48</td>\n",
       "      <td>265</td>\n",
       "      <td>1989-05-07 22:00:00</td>\n",
       "    </tr>\n",
       "    <tr>\n",
       "      <th>13639</th>\n",
       "      <td>58</td>\n",
       "      <td>248</td>\n",
       "      <td>1989-05-08 08:00:00</td>\n",
       "    </tr>\n",
       "    <tr>\n",
       "      <th>13640</th>\n",
       "      <td>48</td>\n",
       "      <td>145</td>\n",
       "      <td>1989-05-08 22:00:00</td>\n",
       "    </tr>\n",
       "    <tr>\n",
       "      <th>13641</th>\n",
       "      <td>58</td>\n",
       "      <td>259</td>\n",
       "      <td>1989-05-09 08:00:00</td>\n",
       "    </tr>\n",
       "  </tbody>\n",
       "</table>\n",
       "<p>13637 rows × 3 columns</p>\n",
       "</div>"
      ],
      "text/plain": [
       "       code  value            datetime\n",
       "0        58    100 1991-04-21 09:09:00\n",
       "1        62    119 1991-04-21 17:08:00\n",
       "2        48    123 1991-04-21 22:51:00\n",
       "3        58    216 1991-04-22 07:35:00\n",
       "4        62    211 1991-04-22 16:56:00\n",
       "...     ...    ...                 ...\n",
       "13637    60    151 1989-05-07 12:00:00\n",
       "13638    48    265 1989-05-07 22:00:00\n",
       "13639    58    248 1989-05-08 08:00:00\n",
       "13640    48    145 1989-05-08 22:00:00\n",
       "13641    58    259 1989-05-09 08:00:00\n",
       "\n",
       "[13637 rows x 3 columns]"
      ]
     },
     "execution_count": 18,
     "metadata": {},
     "output_type": "execute_result"
    }
   ],
   "source": [
    "blood_glucose"
   ]
  },
  {
   "cell_type": "code",
   "execution_count": 19,
   "metadata": {},
   "outputs": [],
   "source": [
    "# from sklearn.preprocessing import LabelEncoder"
   ]
  },
  {
   "cell_type": "code",
   "execution_count": 20,
   "metadata": {},
   "outputs": [],
   "source": [
    "# # Encode categorical features\n",
    "# label_encoder = LabelEncoder()\n",
    "# encoded_labels = label_encoder.fit_transform(blood_glucose['meal_context'])\n",
    "\n",
    "# # تحديد عدد البتات المطلوب لتمثيل الأعداد الثنائية\n",
    "# num_bits = len(bin(max(encoded_labels))) - 2  \n",
    "\n",
    "# # تحويل الأرقام إلى مصفوفات ثنائية\n",
    "# binary_labels = np.array([list(map(int, format(label, f'0{num_bits}b'))) for label in encoded_labels])\n",
    "\n",
    "# # تحويل المصفوفة إلى أعمدة مستقلة\n",
    "# binary_df = pd.DataFrame(binary_labels, columns=[f'meal_bit_{i}' for i in range(num_bits)])\n",
    "\n",
    "# # دمج الأعمدة الجديدة مع الجدول الأصلي\n",
    "# blood_glucose = pd.concat([blood_glucose, binary_df], axis=1).drop(columns=['meal_context'])\n",
    "\n",
    "# # طباعة النتيجة\n",
    "# print(blood_glucose)"
   ]
  },
  {
   "cell_type": "code",
   "execution_count": 21,
   "metadata": {},
   "outputs": [
    {
     "data": {
      "text/html": [
       "<div>\n",
       "<style scoped>\n",
       "    .dataframe tbody tr th:only-of-type {\n",
       "        vertical-align: middle;\n",
       "    }\n",
       "\n",
       "    .dataframe tbody tr th {\n",
       "        vertical-align: top;\n",
       "    }\n",
       "\n",
       "    .dataframe thead th {\n",
       "        text-align: right;\n",
       "    }\n",
       "</style>\n",
       "<table border=\"1\" class=\"dataframe\">\n",
       "  <thead>\n",
       "    <tr style=\"text-align: right;\">\n",
       "      <th></th>\n",
       "      <th>value</th>\n",
       "      <th>datetime</th>\n",
       "    </tr>\n",
       "  </thead>\n",
       "  <tbody>\n",
       "    <tr>\n",
       "      <th>0</th>\n",
       "      <td>100</td>\n",
       "      <td>1991-04-21 09:09:00</td>\n",
       "    </tr>\n",
       "    <tr>\n",
       "      <th>1</th>\n",
       "      <td>119</td>\n",
       "      <td>1991-04-21 17:08:00</td>\n",
       "    </tr>\n",
       "    <tr>\n",
       "      <th>2</th>\n",
       "      <td>123</td>\n",
       "      <td>1991-04-21 22:51:00</td>\n",
       "    </tr>\n",
       "    <tr>\n",
       "      <th>3</th>\n",
       "      <td>216</td>\n",
       "      <td>1991-04-22 07:35:00</td>\n",
       "    </tr>\n",
       "    <tr>\n",
       "      <th>4</th>\n",
       "      <td>211</td>\n",
       "      <td>1991-04-22 16:56:00</td>\n",
       "    </tr>\n",
       "  </tbody>\n",
       "</table>\n",
       "</div>"
      ],
      "text/plain": [
       "   value            datetime\n",
       "0    100 1991-04-21 09:09:00\n",
       "1    119 1991-04-21 17:08:00\n",
       "2    123 1991-04-21 22:51:00\n",
       "3    216 1991-04-22 07:35:00\n",
       "4    211 1991-04-22 16:56:00"
      ]
     },
     "execution_count": 21,
     "metadata": {},
     "output_type": "execute_result"
    }
   ],
   "source": [
    "blood_glucose.drop(['code'], axis=1, inplace=True)\n",
    "blood_glucose.head()"
   ]
  },
  {
   "cell_type": "code",
   "execution_count": 22,
   "metadata": {},
   "outputs": [],
   "source": [
    "blood_glucose.set_index('datetime', inplace= True)"
   ]
  },
  {
   "cell_type": "code",
   "execution_count": 23,
   "metadata": {},
   "outputs": [
    {
     "data": {
      "text/plain": [
       "(13637, 1)"
      ]
     },
     "execution_count": 23,
     "metadata": {},
     "output_type": "execute_result"
    }
   ],
   "source": [
    "dataset = blood_glucose[\"value\"]\n",
    "dataset = pd.DataFrame(dataset)\n",
    "\n",
    "data = dataset.values\n",
    "\n",
    "data.shape"
   ]
  },
  {
   "cell_type": "code",
   "execution_count": 24,
   "metadata": {},
   "outputs": [],
   "source": [
    "scaler = MinMaxScaler(feature_range= (0, 1))\n",
    "scaled_data = scaler.fit_transform(np.array(data).reshape(-1, 1))"
   ]
  },
  {
   "cell_type": "code",
   "execution_count": 25,
   "metadata": {},
   "outputs": [],
   "source": [
    "time_steps=16"
   ]
  },
  {
   "cell_type": "code",
   "execution_count": 26,
   "metadata": {},
   "outputs": [
    {
     "name": "stdout",
     "output_type": "stream",
     "text": [
      "Train Size : 10227 Test Size : 3410\n"
     ]
    }
   ],
   "source": [
    "# 75% to Train , 25% to Test\n",
    "train_size = int(len(data)*.75)\n",
    "test_size = len(data) - train_size\n",
    "\n",
    "print(\"Train Size :\",train_size,\"Test Size :\",test_size)\n",
    "\n",
    "train_data = scaled_data[ :train_size , 0:1 ]\n",
    "test_data = scaled_data[ train_size-time_steps: , 0:1 ]"
   ]
  },
  {
   "cell_type": "code",
   "execution_count": 27,
   "metadata": {},
   "outputs": [
    {
     "data": {
      "text/plain": [
       "((10227, 1), (3426, 1))"
      ]
     },
     "execution_count": 27,
     "metadata": {},
     "output_type": "execute_result"
    }
   ],
   "source": [
    "train_data.shape, test_data.shape"
   ]
  },
  {
   "cell_type": "code",
   "execution_count": null,
   "metadata": {},
   "outputs": [],
   "source": []
  },
  {
   "cell_type": "code",
   "execution_count": 28,
   "metadata": {},
   "outputs": [],
   "source": [
    "# Creating a Training set with 60 time-steps and 1 output\n",
    "x_train = []\n",
    "y_train = []\n",
    "\n",
    "for i in range(time_steps, len(train_data)):\n",
    "    x_train.append(train_data[i-time_steps:i, 0])\n",
    "    y_train.append(train_data[i, 0])"
   ]
  },
  {
   "cell_type": "code",
   "execution_count": 29,
   "metadata": {},
   "outputs": [],
   "source": [
    "# Convert to numpy array\n",
    "x_train, y_train = np.array(x_train), np.array(y_train)"
   ]
  },
  {
   "cell_type": "code",
   "execution_count": 30,
   "metadata": {},
   "outputs": [],
   "source": [
    "# Reshaping the input\n",
    "x_train = np.reshape(x_train, (x_train.shape[0], x_train.shape[1], 1))"
   ]
  },
  {
   "cell_type": "code",
   "execution_count": 31,
   "metadata": {},
   "outputs": [
    {
     "data": {
      "text/plain": [
       "((10211, 16, 1), (10211,))"
      ]
     },
     "execution_count": 31,
     "metadata": {},
     "output_type": "execute_result"
    }
   ],
   "source": [
    "x_train.shape , y_train.shape"
   ]
  },
  {
   "cell_type": "code",
   "execution_count": 32,
   "metadata": {},
   "outputs": [
    {
     "name": "stdout",
     "output_type": "stream",
     "text": [
      "تم حفظ scaler.pkl بنجاح!\n"
     ]
    }
   ],
   "source": [
    "import joblib\n",
    "# حفظ الـ Scaler لاستخدامه لاحقًا في التطبيق\n",
    "joblib.dump(scaler, \"C:\\\\Users\\\\Hp\\\\Desktop\\\\tracking\\\\scaler1.pkl\")\n",
    "\n",
    "print(\"تم حفظ scaler.pkl بنجاح!\")"
   ]
  },
  {
   "cell_type": "code",
   "execution_count": 33,
   "metadata": {},
   "outputs": [
    {
     "name": "stderr",
     "output_type": "stream",
     "text": [
      "c:\\Users\\Hp\\AppData\\Local\\Programs\\Python\\Python310\\lib\\site-packages\\keras\\src\\layers\\rnn\\rnn.py:200: UserWarning: Do not pass an `input_shape`/`input_dim` argument to a layer. When using Sequential models, prefer using an `Input(shape)` object as the first layer in the model instead.\n",
      "  super().__init__(**kwargs)\n"
     ]
    },
    {
     "data": {
      "text/html": [
       "<pre style=\"white-space:pre;overflow-x:auto;line-height:normal;font-family:Menlo,'DejaVu Sans Mono',consolas,'Courier New',monospace\"><span style=\"font-weight: bold\">Model: \"sequential\"</span>\n",
       "</pre>\n"
      ],
      "text/plain": [
       "\u001b[1mModel: \"sequential\"\u001b[0m\n"
      ]
     },
     "metadata": {},
     "output_type": "display_data"
    },
    {
     "data": {
      "text/html": [
       "<pre style=\"white-space:pre;overflow-x:auto;line-height:normal;font-family:Menlo,'DejaVu Sans Mono',consolas,'Courier New',monospace\">┏━━━━━━━━━━━━━━━━━━━━━━━━━━━━━━━━━┳━━━━━━━━━━━━━━━━━━━━━━━━┳━━━━━━━━━━━━━━━┓\n",
       "┃<span style=\"font-weight: bold\"> Layer (type)                    </span>┃<span style=\"font-weight: bold\"> Output Shape           </span>┃<span style=\"font-weight: bold\">       Param # </span>┃\n",
       "┡━━━━━━━━━━━━━━━━━━━━━━━━━━━━━━━━━╇━━━━━━━━━━━━━━━━━━━━━━━━╇━━━━━━━━━━━━━━━┩\n",
       "│ gru (<span style=\"color: #0087ff; text-decoration-color: #0087ff\">GRU</span>)                       │ (<span style=\"color: #00d7ff; text-decoration-color: #00d7ff\">None</span>, <span style=\"color: #00af00; text-decoration-color: #00af00\">16</span>, <span style=\"color: #00af00; text-decoration-color: #00af00\">50</span>)         │         <span style=\"color: #00af00; text-decoration-color: #00af00\">7,950</span> │\n",
       "├─────────────────────────────────┼────────────────────────┼───────────────┤\n",
       "│ gru_1 (<span style=\"color: #0087ff; text-decoration-color: #0087ff\">GRU</span>)                     │ (<span style=\"color: #00d7ff; text-decoration-color: #00d7ff\">None</span>, <span style=\"color: #00af00; text-decoration-color: #00af00\">64</span>)             │        <span style=\"color: #00af00; text-decoration-color: #00af00\">22,272</span> │\n",
       "├─────────────────────────────────┼────────────────────────┼───────────────┤\n",
       "│ dense (<span style=\"color: #0087ff; text-decoration-color: #0087ff\">Dense</span>)                   │ (<span style=\"color: #00d7ff; text-decoration-color: #00d7ff\">None</span>, <span style=\"color: #00af00; text-decoration-color: #00af00\">32</span>)             │         <span style=\"color: #00af00; text-decoration-color: #00af00\">2,080</span> │\n",
       "├─────────────────────────────────┼────────────────────────┼───────────────┤\n",
       "│ dense_1 (<span style=\"color: #0087ff; text-decoration-color: #0087ff\">Dense</span>)                 │ (<span style=\"color: #00d7ff; text-decoration-color: #00d7ff\">None</span>, <span style=\"color: #00af00; text-decoration-color: #00af00\">16</span>)             │           <span style=\"color: #00af00; text-decoration-color: #00af00\">528</span> │\n",
       "├─────────────────────────────────┼────────────────────────┼───────────────┤\n",
       "│ dense_2 (<span style=\"color: #0087ff; text-decoration-color: #0087ff\">Dense</span>)                 │ (<span style=\"color: #00d7ff; text-decoration-color: #00d7ff\">None</span>, <span style=\"color: #00af00; text-decoration-color: #00af00\">1</span>)              │            <span style=\"color: #00af00; text-decoration-color: #00af00\">17</span> │\n",
       "└─────────────────────────────────┴────────────────────────┴───────────────┘\n",
       "</pre>\n"
      ],
      "text/plain": [
       "┏━━━━━━━━━━━━━━━━━━━━━━━━━━━━━━━━━┳━━━━━━━━━━━━━━━━━━━━━━━━┳━━━━━━━━━━━━━━━┓\n",
       "┃\u001b[1m \u001b[0m\u001b[1mLayer (type)                   \u001b[0m\u001b[1m \u001b[0m┃\u001b[1m \u001b[0m\u001b[1mOutput Shape          \u001b[0m\u001b[1m \u001b[0m┃\u001b[1m \u001b[0m\u001b[1m      Param #\u001b[0m\u001b[1m \u001b[0m┃\n",
       "┡━━━━━━━━━━━━━━━━━━━━━━━━━━━━━━━━━╇━━━━━━━━━━━━━━━━━━━━━━━━╇━━━━━━━━━━━━━━━┩\n",
       "│ gru (\u001b[38;5;33mGRU\u001b[0m)                       │ (\u001b[38;5;45mNone\u001b[0m, \u001b[38;5;34m16\u001b[0m, \u001b[38;5;34m50\u001b[0m)         │         \u001b[38;5;34m7,950\u001b[0m │\n",
       "├─────────────────────────────────┼────────────────────────┼───────────────┤\n",
       "│ gru_1 (\u001b[38;5;33mGRU\u001b[0m)                     │ (\u001b[38;5;45mNone\u001b[0m, \u001b[38;5;34m64\u001b[0m)             │        \u001b[38;5;34m22,272\u001b[0m │\n",
       "├─────────────────────────────────┼────────────────────────┼───────────────┤\n",
       "│ dense (\u001b[38;5;33mDense\u001b[0m)                   │ (\u001b[38;5;45mNone\u001b[0m, \u001b[38;5;34m32\u001b[0m)             │         \u001b[38;5;34m2,080\u001b[0m │\n",
       "├─────────────────────────────────┼────────────────────────┼───────────────┤\n",
       "│ dense_1 (\u001b[38;5;33mDense\u001b[0m)                 │ (\u001b[38;5;45mNone\u001b[0m, \u001b[38;5;34m16\u001b[0m)             │           \u001b[38;5;34m528\u001b[0m │\n",
       "├─────────────────────────────────┼────────────────────────┼───────────────┤\n",
       "│ dense_2 (\u001b[38;5;33mDense\u001b[0m)                 │ (\u001b[38;5;45mNone\u001b[0m, \u001b[38;5;34m1\u001b[0m)              │            \u001b[38;5;34m17\u001b[0m │\n",
       "└─────────────────────────────────┴────────────────────────┴───────────────┘\n"
      ]
     },
     "metadata": {},
     "output_type": "display_data"
    },
    {
     "data": {
      "text/html": [
       "<pre style=\"white-space:pre;overflow-x:auto;line-height:normal;font-family:Menlo,'DejaVu Sans Mono',consolas,'Courier New',monospace\"><span style=\"font-weight: bold\"> Total params: </span><span style=\"color: #00af00; text-decoration-color: #00af00\">32,847</span> (128.31 KB)\n",
       "</pre>\n"
      ],
      "text/plain": [
       "\u001b[1m Total params: \u001b[0m\u001b[38;5;34m32,847\u001b[0m (128.31 KB)\n"
      ]
     },
     "metadata": {},
     "output_type": "display_data"
    },
    {
     "data": {
      "text/html": [
       "<pre style=\"white-space:pre;overflow-x:auto;line-height:normal;font-family:Menlo,'DejaVu Sans Mono',consolas,'Courier New',monospace\"><span style=\"font-weight: bold\"> Trainable params: </span><span style=\"color: #00af00; text-decoration-color: #00af00\">32,847</span> (128.31 KB)\n",
       "</pre>\n"
      ],
      "text/plain": [
       "\u001b[1m Trainable params: \u001b[0m\u001b[38;5;34m32,847\u001b[0m (128.31 KB)\n"
      ]
     },
     "metadata": {},
     "output_type": "display_data"
    },
    {
     "data": {
      "text/html": [
       "<pre style=\"white-space:pre;overflow-x:auto;line-height:normal;font-family:Menlo,'DejaVu Sans Mono',consolas,'Courier New',monospace\"><span style=\"font-weight: bold\"> Non-trainable params: </span><span style=\"color: #00af00; text-decoration-color: #00af00\">0</span> (0.00 B)\n",
       "</pre>\n"
      ],
      "text/plain": [
       "\u001b[1m Non-trainable params: \u001b[0m\u001b[38;5;34m0\u001b[0m (0.00 B)\n"
      ]
     },
     "metadata": {},
     "output_type": "display_data"
    }
   ],
   "source": [
    "from tensorflow.keras.layers import GRU\n",
    "model = Sequential([\n",
    "    GRU(50, return_sequences=True, input_shape=(x_train.shape[1], 1)),\n",
    "    GRU(64, return_sequences=False),\n",
    "    Dense(32),\n",
    "    Dense(16),\n",
    "    Dense(1)\n",
    "])\n",
    "\n",
    "\n",
    "# Compile the model  \n",
    "model.compile(optimizer=\"adam\", loss='mse',metrics=[\"mean_absolute_error\"])\n",
    "model.summary()"
   ]
  },
  {
   "cell_type": "code",
   "execution_count": 34,
   "metadata": {},
   "outputs": [
    {
     "name": "stdout",
     "output_type": "stream",
     "text": [
      "Epoch 1/100\n"
     ]
    },
    {
     "name": "stdout",
     "output_type": "stream",
     "text": [
      "\u001b[1m1149/1149\u001b[0m \u001b[32m━━━━━━━━━━━━━━━━━━━━\u001b[0m\u001b[37m\u001b[0m \u001b[1m14s\u001b[0m 9ms/step - loss: 0.0223 - mean_absolute_error: 0.1171 - val_loss: 0.0218 - val_mean_absolute_error: 0.1202 - learning_rate: 0.0010\n",
      "Epoch 2/100\n",
      "\u001b[1m1149/1149\u001b[0m \u001b[32m━━━━━━━━━━━━━━━━━━━━\u001b[0m\u001b[37m\u001b[0m \u001b[1m11s\u001b[0m 9ms/step - loss: 0.0208 - mean_absolute_error: 0.1146 - val_loss: 0.0212 - val_mean_absolute_error: 0.1175 - learning_rate: 0.0010\n",
      "Epoch 3/100\n",
      "\u001b[1m1149/1149\u001b[0m \u001b[32m━━━━━━━━━━━━━━━━━━━━\u001b[0m\u001b[37m\u001b[0m \u001b[1m12s\u001b[0m 10ms/step - loss: 0.0204 - mean_absolute_error: 0.1141 - val_loss: 0.0209 - val_mean_absolute_error: 0.1155 - learning_rate: 0.0010\n",
      "Epoch 4/100\n",
      "\u001b[1m1149/1149\u001b[0m \u001b[32m━━━━━━━━━━━━━━━━━━━━\u001b[0m\u001b[37m\u001b[0m \u001b[1m12s\u001b[0m 10ms/step - loss: 0.0201 - mean_absolute_error: 0.1127 - val_loss: 0.0211 - val_mean_absolute_error: 0.1166 - learning_rate: 0.0010\n",
      "Epoch 5/100\n",
      "\u001b[1m1149/1149\u001b[0m \u001b[32m━━━━━━━━━━━━━━━━━━━━\u001b[0m\u001b[37m\u001b[0m \u001b[1m12s\u001b[0m 10ms/step - loss: 0.0208 - mean_absolute_error: 0.1143 - val_loss: 0.0210 - val_mean_absolute_error: 0.1150 - learning_rate: 0.0010\n",
      "Epoch 6/100\n",
      "\u001b[1m1149/1149\u001b[0m \u001b[32m━━━━━━━━━━━━━━━━━━━━\u001b[0m\u001b[37m\u001b[0m \u001b[1m12s\u001b[0m 10ms/step - loss: 0.0208 - mean_absolute_error: 0.1137 - val_loss: 0.0213 - val_mean_absolute_error: 0.1173 - learning_rate: 0.0010\n",
      "Epoch 7/100\n",
      "\u001b[1m1149/1149\u001b[0m \u001b[32m━━━━━━━━━━━━━━━━━━━━\u001b[0m\u001b[37m\u001b[0m \u001b[1m12s\u001b[0m 10ms/step - loss: 0.0206 - mean_absolute_error: 0.1142 - val_loss: 0.0209 - val_mean_absolute_error: 0.1155 - learning_rate: 0.0010\n",
      "Epoch 8/100\n",
      "\u001b[1m1149/1149\u001b[0m \u001b[32m━━━━━━━━━━━━━━━━━━━━\u001b[0m\u001b[37m\u001b[0m \u001b[1m12s\u001b[0m 10ms/step - loss: 0.0205 - mean_absolute_error: 0.1133 - val_loss: 0.0213 - val_mean_absolute_error: 0.1149 - learning_rate: 0.0010\n",
      "Epoch 9/100\n",
      "\u001b[1m1149/1149\u001b[0m \u001b[32m━━━━━━━━━━━━━━━━━━━━\u001b[0m\u001b[37m\u001b[0m \u001b[1m13s\u001b[0m 11ms/step - loss: 0.0207 - mean_absolute_error: 0.1132 - val_loss: 0.0210 - val_mean_absolute_error: 0.1150 - learning_rate: 5.0000e-04\n",
      "Epoch 10/100\n",
      "\u001b[1m1149/1149\u001b[0m \u001b[32m━━━━━━━━━━━━━━━━━━━━\u001b[0m\u001b[37m\u001b[0m \u001b[1m12s\u001b[0m 10ms/step - loss: 0.0210 - mean_absolute_error: 0.1140 - val_loss: 0.0210 - val_mean_absolute_error: 0.1167 - learning_rate: 5.0000e-04\n",
      "Epoch 11/100\n",
      "\u001b[1m1149/1149\u001b[0m \u001b[32m━━━━━━━━━━━━━━━━━━━━\u001b[0m\u001b[37m\u001b[0m \u001b[1m12s\u001b[0m 10ms/step - loss: 0.0202 - mean_absolute_error: 0.1123 - val_loss: 0.0209 - val_mean_absolute_error: 0.1157 - learning_rate: 5.0000e-04\n",
      "Epoch 12/100\n",
      "\u001b[1m1149/1149\u001b[0m \u001b[32m━━━━━━━━━━━━━━━━━━━━\u001b[0m\u001b[37m\u001b[0m \u001b[1m12s\u001b[0m 10ms/step - loss: 0.0204 - mean_absolute_error: 0.1131 - val_loss: 0.0209 - val_mean_absolute_error: 0.1148 - learning_rate: 5.0000e-04\n",
      "Epoch 13/100\n",
      "\u001b[1m1149/1149\u001b[0m \u001b[32m━━━━━━━━━━━━━━━━━━━━\u001b[0m\u001b[37m\u001b[0m \u001b[1m12s\u001b[0m 10ms/step - loss: 0.0201 - mean_absolute_error: 0.1116 - val_loss: 0.0212 - val_mean_absolute_error: 0.1169 - learning_rate: 5.0000e-04\n",
      "Epoch 14/100\n",
      "\u001b[1m1149/1149\u001b[0m \u001b[32m━━━━━━━━━━━━━━━━━━━━\u001b[0m\u001b[37m\u001b[0m \u001b[1m12s\u001b[0m 10ms/step - loss: 0.0202 - mean_absolute_error: 0.1121 - val_loss: 0.0206 - val_mean_absolute_error: 0.1140 - learning_rate: 2.5000e-04\n",
      "Epoch 15/100\n",
      "\u001b[1m1149/1149\u001b[0m \u001b[32m━━━━━━━━━━━━━━━━━━━━\u001b[0m\u001b[37m\u001b[0m \u001b[1m12s\u001b[0m 10ms/step - loss: 0.0200 - mean_absolute_error: 0.1122 - val_loss: 0.0206 - val_mean_absolute_error: 0.1148 - learning_rate: 2.5000e-04\n",
      "Epoch 16/100\n",
      "\u001b[1m1149/1149\u001b[0m \u001b[32m━━━━━━━━━━━━━━━━━━━━\u001b[0m\u001b[37m\u001b[0m \u001b[1m12s\u001b[0m 10ms/step - loss: 0.0199 - mean_absolute_error: 0.1119 - val_loss: 0.0204 - val_mean_absolute_error: 0.1143 - learning_rate: 2.5000e-04\n",
      "Epoch 17/100\n",
      "\u001b[1m1149/1149\u001b[0m \u001b[32m━━━━━━━━━━━━━━━━━━━━\u001b[0m\u001b[37m\u001b[0m \u001b[1m12s\u001b[0m 11ms/step - loss: 0.0204 - mean_absolute_error: 0.1128 - val_loss: 0.0205 - val_mean_absolute_error: 0.1135 - learning_rate: 2.5000e-04\n",
      "Epoch 18/100\n",
      "\u001b[1m1149/1149\u001b[0m \u001b[32m━━━━━━━━━━━━━━━━━━━━\u001b[0m\u001b[37m\u001b[0m \u001b[1m12s\u001b[0m 10ms/step - loss: 0.0199 - mean_absolute_error: 0.1119 - val_loss: 0.0206 - val_mean_absolute_error: 0.1151 - learning_rate: 2.5000e-04\n",
      "Epoch 19/100\n",
      "\u001b[1m1149/1149\u001b[0m \u001b[32m━━━━━━━━━━━━━━━━━━━━\u001b[0m\u001b[37m\u001b[0m \u001b[1m12s\u001b[0m 11ms/step - loss: 0.0205 - mean_absolute_error: 0.1127 - val_loss: 0.0205 - val_mean_absolute_error: 0.1142 - learning_rate: 2.5000e-04\n",
      "Epoch 20/100\n",
      "\u001b[1m1149/1149\u001b[0m \u001b[32m━━━━━━━━━━━━━━━━━━━━\u001b[0m\u001b[37m\u001b[0m \u001b[1m12s\u001b[0m 10ms/step - loss: 0.0201 - mean_absolute_error: 0.1117 - val_loss: 0.0206 - val_mean_absolute_error: 0.1146 - learning_rate: 2.5000e-04\n",
      "Epoch 21/100\n",
      "\u001b[1m1149/1149\u001b[0m \u001b[32m━━━━━━━━━━━━━━━━━━━━\u001b[0m\u001b[37m\u001b[0m \u001b[1m12s\u001b[0m 11ms/step - loss: 0.0200 - mean_absolute_error: 0.1119 - val_loss: 0.0206 - val_mean_absolute_error: 0.1140 - learning_rate: 2.5000e-04\n",
      "Epoch 22/100\n",
      "\u001b[1m1149/1149\u001b[0m \u001b[32m━━━━━━━━━━━━━━━━━━━━\u001b[0m\u001b[37m\u001b[0m \u001b[1m12s\u001b[0m 10ms/step - loss: 0.0197 - mean_absolute_error: 0.1107 - val_loss: 0.0205 - val_mean_absolute_error: 0.1143 - learning_rate: 1.2500e-04\n",
      "Epoch 23/100\n",
      "\u001b[1m1149/1149\u001b[0m \u001b[32m━━━━━━━━━━━━━━━━━━━━\u001b[0m\u001b[37m\u001b[0m \u001b[1m12s\u001b[0m 10ms/step - loss: 0.0197 - mean_absolute_error: 0.1107 - val_loss: 0.0206 - val_mean_absolute_error: 0.1146 - learning_rate: 1.2500e-04\n",
      "Epoch 24/100\n",
      "\u001b[1m1149/1149\u001b[0m \u001b[32m━━━━━━━━━━━━━━━━━━━━\u001b[0m\u001b[37m\u001b[0m \u001b[1m12s\u001b[0m 11ms/step - loss: 0.0199 - mean_absolute_error: 0.1114 - val_loss: 0.0207 - val_mean_absolute_error: 0.1160 - learning_rate: 1.2500e-04\n",
      "Epoch 25/100\n",
      "\u001b[1m1149/1149\u001b[0m \u001b[32m━━━━━━━━━━━━━━━━━━━━\u001b[0m\u001b[37m\u001b[0m \u001b[1m13s\u001b[0m 11ms/step - loss: 0.0202 - mean_absolute_error: 0.1123 - val_loss: 0.0205 - val_mean_absolute_error: 0.1145 - learning_rate: 1.2500e-04\n",
      "Epoch 26/100\n",
      "\u001b[1m1149/1149\u001b[0m \u001b[32m━━━━━━━━━━━━━━━━━━━━\u001b[0m\u001b[37m\u001b[0m \u001b[1m12s\u001b[0m 11ms/step - loss: 0.0201 - mean_absolute_error: 0.1117 - val_loss: 0.0205 - val_mean_absolute_error: 0.1138 - learning_rate: 1.2500e-04\n",
      "Epoch 27/100\n",
      "\u001b[1m1149/1149\u001b[0m \u001b[32m━━━━━━━━━━━━━━━━━━━━\u001b[0m\u001b[37m\u001b[0m \u001b[1m12s\u001b[0m 10ms/step - loss: 0.0203 - mean_absolute_error: 0.1121 - val_loss: 0.0206 - val_mean_absolute_error: 0.1143 - learning_rate: 6.2500e-05\n",
      "Epoch 28/100\n",
      "\u001b[1m1149/1149\u001b[0m \u001b[32m━━━━━━━━━━━━━━━━━━━━\u001b[0m\u001b[37m\u001b[0m \u001b[1m12s\u001b[0m 11ms/step - loss: 0.0196 - mean_absolute_error: 0.1104 - val_loss: 0.0206 - val_mean_absolute_error: 0.1143 - learning_rate: 6.2500e-05\n",
      "Epoch 29/100\n",
      "\u001b[1m1149/1149\u001b[0m \u001b[32m━━━━━━━━━━━━━━━━━━━━\u001b[0m\u001b[37m\u001b[0m \u001b[1m12s\u001b[0m 11ms/step - loss: 0.0200 - mean_absolute_error: 0.1105 - val_loss: 0.0206 - val_mean_absolute_error: 0.1141 - learning_rate: 6.2500e-05\n",
      "Epoch 30/100\n",
      "\u001b[1m1149/1149\u001b[0m \u001b[32m━━━━━━━━━━━━━━━━━━━━\u001b[0m\u001b[37m\u001b[0m \u001b[1m12s\u001b[0m 10ms/step - loss: 0.0202 - mean_absolute_error: 0.1117 - val_loss: 0.0206 - val_mean_absolute_error: 0.1147 - learning_rate: 6.2500e-05\n",
      "Epoch 31/100\n",
      "\u001b[1m1149/1149\u001b[0m \u001b[32m━━━━━━━━━━━━━━━━━━━━\u001b[0m\u001b[37m\u001b[0m \u001b[1m12s\u001b[0m 11ms/step - loss: 0.0197 - mean_absolute_error: 0.1110 - val_loss: 0.0206 - val_mean_absolute_error: 0.1150 - learning_rate: 6.2500e-05\n",
      "Epoch 32/100\n",
      "\u001b[1m1149/1149\u001b[0m \u001b[32m━━━━━━━━━━━━━━━━━━━━\u001b[0m\u001b[37m\u001b[0m \u001b[1m12s\u001b[0m 11ms/step - loss: 0.0198 - mean_absolute_error: 0.1106 - val_loss: 0.0206 - val_mean_absolute_error: 0.1143 - learning_rate: 3.1250e-05\n",
      "Epoch 33/100\n",
      "\u001b[1m1149/1149\u001b[0m \u001b[32m━━━━━━━━━━━━━━━━━━━━\u001b[0m\u001b[37m\u001b[0m \u001b[1m12s\u001b[0m 11ms/step - loss: 0.0209 - mean_absolute_error: 0.1136 - val_loss: 0.0206 - val_mean_absolute_error: 0.1145 - learning_rate: 3.1250e-05\n",
      "Epoch 34/100\n",
      "\u001b[1m1149/1149\u001b[0m \u001b[32m━━━━━━━━━━━━━━━━━━━━\u001b[0m\u001b[37m\u001b[0m \u001b[1m13s\u001b[0m 12ms/step - loss: 0.0202 - mean_absolute_error: 0.1122 - val_loss: 0.0206 - val_mean_absolute_error: 0.1147 - learning_rate: 3.1250e-05\n",
      "Epoch 35/100\n",
      "\u001b[1m1149/1149\u001b[0m \u001b[32m━━━━━━━━━━━━━━━━━━━━\u001b[0m\u001b[37m\u001b[0m \u001b[1m12s\u001b[0m 10ms/step - loss: 0.0199 - mean_absolute_error: 0.1107 - val_loss: 0.0206 - val_mean_absolute_error: 0.1143 - learning_rate: 3.1250e-05\n",
      "Epoch 36/100\n",
      "\u001b[1m1149/1149\u001b[0m \u001b[32m━━━━━━━━━━━━━━━━━━━━\u001b[0m\u001b[37m\u001b[0m \u001b[1m12s\u001b[0m 11ms/step - loss: 0.0199 - mean_absolute_error: 0.1110 - val_loss: 0.0206 - val_mean_absolute_error: 0.1146 - learning_rate: 3.1250e-05\n",
      "Epoch 37/100\n",
      "\u001b[1m1149/1149\u001b[0m \u001b[32m━━━━━━━━━━━━━━━━━━━━\u001b[0m\u001b[37m\u001b[0m \u001b[1m12s\u001b[0m 10ms/step - loss: 0.0200 - mean_absolute_error: 0.1108 - val_loss: 0.0206 - val_mean_absolute_error: 0.1144 - learning_rate: 1.5625e-05\n",
      "Epoch 38/100\n",
      "\u001b[1m1149/1149\u001b[0m \u001b[32m━━━━━━━━━━━━━━━━━━━━\u001b[0m\u001b[37m\u001b[0m \u001b[1m12s\u001b[0m 11ms/step - loss: 0.0199 - mean_absolute_error: 0.1107 - val_loss: 0.0206 - val_mean_absolute_error: 0.1145 - learning_rate: 1.5625e-05\n",
      "Epoch 39/100\n",
      "\u001b[1m1149/1149\u001b[0m \u001b[32m━━━━━━━━━━━━━━━━━━━━\u001b[0m\u001b[37m\u001b[0m \u001b[1m12s\u001b[0m 11ms/step - loss: 0.0200 - mean_absolute_error: 0.1115 - val_loss: 0.0206 - val_mean_absolute_error: 0.1145 - learning_rate: 1.5625e-05\n",
      "Epoch 40/100\n",
      "\u001b[1m1149/1149\u001b[0m \u001b[32m━━━━━━━━━━━━━━━━━━━━\u001b[0m\u001b[37m\u001b[0m \u001b[1m12s\u001b[0m 11ms/step - loss: 0.0197 - mean_absolute_error: 0.1104 - val_loss: 0.0206 - val_mean_absolute_error: 0.1146 - learning_rate: 1.5625e-05\n",
      "Epoch 41/100\n",
      "\u001b[1m1149/1149\u001b[0m \u001b[32m━━━━━━━━━━━━━━━━━━━━\u001b[0m\u001b[37m\u001b[0m \u001b[1m12s\u001b[0m 11ms/step - loss: 0.0198 - mean_absolute_error: 0.1108 - val_loss: 0.0206 - val_mean_absolute_error: 0.1144 - learning_rate: 1.5625e-05\n",
      "Epoch 42/100\n",
      "\u001b[1m1149/1149\u001b[0m \u001b[32m━━━━━━━━━━━━━━━━━━━━\u001b[0m\u001b[37m\u001b[0m \u001b[1m12s\u001b[0m 11ms/step - loss: 0.0201 - mean_absolute_error: 0.1113 - val_loss: 0.0206 - val_mean_absolute_error: 0.1146 - learning_rate: 1.0000e-05\n",
      "Epoch 43/100\n",
      "\u001b[1m1149/1149\u001b[0m \u001b[32m━━━━━━━━━━━━━━━━━━━━\u001b[0m\u001b[37m\u001b[0m \u001b[1m12s\u001b[0m 11ms/step - loss: 0.0201 - mean_absolute_error: 0.1123 - val_loss: 0.0206 - val_mean_absolute_error: 0.1147 - learning_rate: 1.0000e-05\n",
      "Epoch 44/100\n",
      "\u001b[1m1149/1149\u001b[0m \u001b[32m━━━━━━━━━━━━━━━━━━━━\u001b[0m\u001b[37m\u001b[0m \u001b[1m12s\u001b[0m 10ms/step - loss: 0.0196 - mean_absolute_error: 0.1109 - val_loss: 0.0206 - val_mean_absolute_error: 0.1146 - learning_rate: 1.0000e-05\n",
      "Epoch 45/100\n",
      "\u001b[1m1149/1149\u001b[0m \u001b[32m━━━━━━━━━━━━━━━━━━━━\u001b[0m\u001b[37m\u001b[0m \u001b[1m12s\u001b[0m 11ms/step - loss: 0.0197 - mean_absolute_error: 0.1104 - val_loss: 0.0206 - val_mean_absolute_error: 0.1145 - learning_rate: 1.0000e-05\n",
      "Epoch 46/100\n",
      "\u001b[1m1149/1149\u001b[0m \u001b[32m━━━━━━━━━━━━━━━━━━━━\u001b[0m\u001b[37m\u001b[0m \u001b[1m12s\u001b[0m 11ms/step - loss: 0.0195 - mean_absolute_error: 0.1104 - val_loss: 0.0206 - val_mean_absolute_error: 0.1145 - learning_rate: 1.0000e-05\n",
      "Epoch 47/100\n",
      "\u001b[1m1149/1149\u001b[0m \u001b[32m━━━━━━━━━━━━━━━━━━━━\u001b[0m\u001b[37m\u001b[0m \u001b[1m12s\u001b[0m 11ms/step - loss: 0.0200 - mean_absolute_error: 0.1104 - val_loss: 0.0206 - val_mean_absolute_error: 0.1145 - learning_rate: 1.0000e-05\n",
      "Epoch 48/100\n",
      "\u001b[1m1149/1149\u001b[0m \u001b[32m━━━━━━━━━━━━━━━━━━━━\u001b[0m\u001b[37m\u001b[0m \u001b[1m12s\u001b[0m 11ms/step - loss: 0.0200 - mean_absolute_error: 0.1117 - val_loss: 0.0206 - val_mean_absolute_error: 0.1146 - learning_rate: 1.0000e-05\n",
      "Epoch 49/100\n",
      "\u001b[1m1149/1149\u001b[0m \u001b[32m━━━━━━━━━━━━━━━━━━━━\u001b[0m\u001b[37m\u001b[0m \u001b[1m12s\u001b[0m 11ms/step - loss: 0.0198 - mean_absolute_error: 0.1105 - val_loss: 0.0206 - val_mean_absolute_error: 0.1148 - learning_rate: 1.0000e-05\n",
      "Epoch 50/100\n",
      "\u001b[1m1149/1149\u001b[0m \u001b[32m━━━━━━━━━━━━━━━━━━━━\u001b[0m\u001b[37m\u001b[0m \u001b[1m12s\u001b[0m 11ms/step - loss: 0.0198 - mean_absolute_error: 0.1106 - val_loss: 0.0206 - val_mean_absolute_error: 0.1147 - learning_rate: 1.0000e-05\n",
      "Epoch 51/100\n",
      "\u001b[1m1149/1149\u001b[0m \u001b[32m━━━━━━━━━━━━━━━━━━━━\u001b[0m\u001b[37m\u001b[0m \u001b[1m12s\u001b[0m 11ms/step - loss: 0.0203 - mean_absolute_error: 0.1119 - val_loss: 0.0206 - val_mean_absolute_error: 0.1144 - learning_rate: 1.0000e-05\n",
      "Epoch 52/100\n",
      "\u001b[1m1149/1149\u001b[0m \u001b[32m━━━━━━━━━━━━━━━━━━━━\u001b[0m\u001b[37m\u001b[0m \u001b[1m12s\u001b[0m 11ms/step - loss: 0.0192 - mean_absolute_error: 0.1091 - val_loss: 0.0206 - val_mean_absolute_error: 0.1148 - learning_rate: 1.0000e-05\n",
      "Epoch 53/100\n",
      "\u001b[1m1149/1149\u001b[0m \u001b[32m━━━━━━━━━━━━━━━━━━━━\u001b[0m\u001b[37m\u001b[0m \u001b[1m12s\u001b[0m 11ms/step - loss: 0.0202 - mean_absolute_error: 0.1120 - val_loss: 0.0206 - val_mean_absolute_error: 0.1146 - learning_rate: 1.0000e-05\n",
      "Epoch 54/100\n",
      "\u001b[1m1149/1149\u001b[0m \u001b[32m━━━━━━━━━━━━━━━━━━━━\u001b[0m\u001b[37m\u001b[0m \u001b[1m12s\u001b[0m 11ms/step - loss: 0.0196 - mean_absolute_error: 0.1100 - val_loss: 0.0206 - val_mean_absolute_error: 0.1146 - learning_rate: 1.0000e-05\n",
      "Epoch 55/100\n",
      "\u001b[1m1149/1149\u001b[0m \u001b[32m━━━━━━━━━━━━━━━━━━━━\u001b[0m\u001b[37m\u001b[0m \u001b[1m12s\u001b[0m 11ms/step - loss: 0.0200 - mean_absolute_error: 0.1112 - val_loss: 0.0206 - val_mean_absolute_error: 0.1146 - learning_rate: 1.0000e-05\n",
      "Epoch 56/100\n",
      "\u001b[1m1149/1149\u001b[0m \u001b[32m━━━━━━━━━━━━━━━━━━━━\u001b[0m\u001b[37m\u001b[0m \u001b[1m13s\u001b[0m 11ms/step - loss: 0.0202 - mean_absolute_error: 0.1115 - val_loss: 0.0206 - val_mean_absolute_error: 0.1146 - learning_rate: 1.0000e-05\n",
      "Epoch 57/100\n",
      "\u001b[1m1149/1149\u001b[0m \u001b[32m━━━━━━━━━━━━━━━━━━━━\u001b[0m\u001b[37m\u001b[0m \u001b[1m12s\u001b[0m 11ms/step - loss: 0.0198 - mean_absolute_error: 0.1115 - val_loss: 0.0206 - val_mean_absolute_error: 0.1146 - learning_rate: 1.0000e-05\n"
     ]
    }
   ],
   "source": [
    "# Early stopping and learning rate reduction  \n",
    "early_stopping = EarlyStopping(monitor='loss', patience=5, restore_best_weights=True)  \n",
    "reduce_lr = ReduceLROnPlateau(monitor='val_loss', factor=0.5, patience=5, min_lr=1e-5)  \n",
    "\n",
    "\n",
    "\n",
    "# Fit the model with callbacks  \n",
    "history = model.fit(x_train, y_train,  \n",
    "                    validation_split=0.1,  \n",
    "                    epochs=100, \n",
    "                    batch_size=8,  \n",
    "                    callbacks=[early_stopping, reduce_lr])  "
   ]
  },
  {
   "cell_type": "code",
   "execution_count": 35,
   "metadata": {},
   "outputs": [],
   "source": [
    "# Creating a testing set with 60 time-steps and 1 output\n",
    "x_test = []\n",
    "y_test = []\n",
    "\n",
    "for i in range(time_steps, len(test_data)):\n",
    "    x_test.append(test_data[i-time_steps:i, 0])\n",
    "    y_test.append(test_data[i, 0])\n",
    "x_test, y_test = np.array(x_test), np.array(y_test)\n",
    "x_test = np.reshape(x_test, (x_test.shape[0], x_test.shape[1], 1))"
   ]
  },
  {
   "cell_type": "code",
   "execution_count": 36,
   "metadata": {},
   "outputs": [
    {
     "data": {
      "text/plain": [
       "((3410, 16, 1), (3410,))"
      ]
     },
     "execution_count": 36,
     "metadata": {},
     "output_type": "execute_result"
    }
   ],
   "source": [
    "x_test.shape , y_test.shape"
   ]
  },
  {
   "cell_type": "code",
   "execution_count": 37,
   "metadata": {},
   "outputs": [
    {
     "name": "stdout",
     "output_type": "stream",
     "text": [
      "\u001b[1m107/107\u001b[0m \u001b[32m━━━━━━━━━━━━━━━━━━━━\u001b[0m\u001b[37m\u001b[0m \u001b[1m1s\u001b[0m 6ms/step\n"
     ]
    },
    {
     "data": {
      "text/plain": [
       "(3410, 1)"
      ]
     },
     "execution_count": 37,
     "metadata": {},
     "output_type": "execute_result"
    }
   ],
   "source": [
    "#inverse y_test scaling\n",
    "predictions = model.predict(x_test)\n",
    "\n",
    "#inverse predictions scaling\n",
    "predictions = scaler.inverse_transform(predictions)\n",
    "predictions.shape"
   ]
  },
  {
   "cell_type": "code",
   "execution_count": 38,
   "metadata": {},
   "outputs": [
    {
     "data": {
      "text/plain": [
       "14.99"
      ]
     },
     "execution_count": 38,
     "metadata": {},
     "output_type": "execute_result"
    }
   ],
   "source": [
    "#inverse y_test scaling\n",
    "y_test = scaler.inverse_transform([y_test])\n",
    "\n",
    "RMSE = np.sqrt(np.mean( y_test - predictions )**2).round(2)\n",
    "RMSE"
   ]
  },
  {
   "cell_type": "code",
   "execution_count": 39,
   "metadata": {},
   "outputs": [
    {
     "data": {
      "text/plain": [
       "77.36"
      ]
     },
     "execution_count": 39,
     "metadata": {},
     "output_type": "execute_result"
    }
   ],
   "source": [
    "MAE = np.mean(np.abs(y_test - predictions)).round(2)\n",
    "MAE"
   ]
  },
  {
   "cell_type": "code",
   "execution_count": 40,
   "metadata": {},
   "outputs": [
    {
     "data": {
      "image/png": "[encoded data removed]",
      "text/plain": [
       "<Figure size 640x480 with 1 Axes>"
      ]
     },
     "metadata": {},
     "output_type": "display_data"
    }
   ],
   "source": [
    "plt.plot(history.history[\"loss\"])\n",
    "plt.plot(history.history[\"mean_absolute_error\"])\n",
    "plt.legend(['Mean Squared Error','Mean Absolute Error'])\n",
    "plt.title(\"Losses\")\n",
    "plt.xlabel(\"epochs\")\n",
    "plt.ylabel(\"loss\")\n",
    "plt.show()"
   ]
  },
  {
   "cell_type": "code",
   "execution_count": 41,
   "metadata": {},
   "outputs": [
    {
     "data": {
      "text/html": [
       "<div>\n",
       "<style scoped>\n",
       "    .dataframe tbody tr th:only-of-type {\n",
       "        vertical-align: middle;\n",
       "    }\n",
       "\n",
       "    .dataframe tbody tr th {\n",
       "        vertical-align: top;\n",
       "    }\n",
       "\n",
       "    .dataframe thead th {\n",
       "        text-align: right;\n",
       "    }\n",
       "</style>\n",
       "<table border=\"1\" class=\"dataframe\">\n",
       "  <thead>\n",
       "    <tr style=\"text-align: right;\">\n",
       "      <th></th>\n",
       "      <th>Predictions</th>\n",
       "      <th>Actuals</th>\n",
       "    </tr>\n",
       "  </thead>\n",
       "  <tbody>\n",
       "    <tr>\n",
       "      <th>0</th>\n",
       "      <td>177.967789</td>\n",
       "      <td>201.0</td>\n",
       "    </tr>\n",
       "    <tr>\n",
       "      <th>1</th>\n",
       "      <td>174.928833</td>\n",
       "      <td>222.0</td>\n",
       "    </tr>\n",
       "    <tr>\n",
       "      <th>2</th>\n",
       "      <td>178.125687</td>\n",
       "      <td>196.0</td>\n",
       "    </tr>\n",
       "    <tr>\n",
       "      <th>3</th>\n",
       "      <td>180.122009</td>\n",
       "      <td>210.0</td>\n",
       "    </tr>\n",
       "    <tr>\n",
       "      <th>4</th>\n",
       "      <td>182.160843</td>\n",
       "      <td>188.0</td>\n",
       "    </tr>\n",
       "    <tr>\n",
       "      <th>5</th>\n",
       "      <td>177.336288</td>\n",
       "      <td>198.0</td>\n",
       "    </tr>\n",
       "    <tr>\n",
       "      <th>6</th>\n",
       "      <td>174.759109</td>\n",
       "      <td>226.0</td>\n",
       "    </tr>\n",
       "    <tr>\n",
       "      <th>7</th>\n",
       "      <td>179.182587</td>\n",
       "      <td>240.0</td>\n",
       "    </tr>\n",
       "    <tr>\n",
       "      <th>8</th>\n",
       "      <td>185.534683</td>\n",
       "      <td>270.0</td>\n",
       "    </tr>\n",
       "    <tr>\n",
       "      <th>9</th>\n",
       "      <td>189.891479</td>\n",
       "      <td>281.0</td>\n",
       "    </tr>\n",
       "    <tr>\n",
       "      <th>10</th>\n",
       "      <td>189.589706</td>\n",
       "      <td>290.0</td>\n",
       "    </tr>\n",
       "    <tr>\n",
       "      <th>11</th>\n",
       "      <td>194.552704</td>\n",
       "      <td>306.0</td>\n",
       "    </tr>\n",
       "    <tr>\n",
       "      <th>12</th>\n",
       "      <td>202.165878</td>\n",
       "      <td>310.0</td>\n",
       "    </tr>\n",
       "    <tr>\n",
       "      <th>13</th>\n",
       "      <td>202.338745</td>\n",
       "      <td>287.0</td>\n",
       "    </tr>\n",
       "    <tr>\n",
       "      <th>14</th>\n",
       "      <td>201.775345</td>\n",
       "      <td>266.0</td>\n",
       "    </tr>\n",
       "    <tr>\n",
       "      <th>15</th>\n",
       "      <td>201.244522</td>\n",
       "      <td>187.0</td>\n",
       "    </tr>\n",
       "    <tr>\n",
       "      <th>16</th>\n",
       "      <td>195.523331</td>\n",
       "      <td>156.0</td>\n",
       "    </tr>\n",
       "    <tr>\n",
       "      <th>17</th>\n",
       "      <td>188.756744</td>\n",
       "      <td>171.0</td>\n",
       "    </tr>\n",
       "    <tr>\n",
       "      <th>18</th>\n",
       "      <td>184.503403</td>\n",
       "      <td>140.0</td>\n",
       "    </tr>\n",
       "    <tr>\n",
       "      <th>19</th>\n",
       "      <td>178.157791</td>\n",
       "      <td>167.0</td>\n",
       "    </tr>\n",
       "    <tr>\n",
       "      <th>20</th>\n",
       "      <td>176.128281</td>\n",
       "      <td>142.0</td>\n",
       "    </tr>\n",
       "    <tr>\n",
       "      <th>21</th>\n",
       "      <td>173.898727</td>\n",
       "      <td>131.0</td>\n",
       "    </tr>\n",
       "    <tr>\n",
       "      <th>22</th>\n",
       "      <td>170.717804</td>\n",
       "      <td>101.0</td>\n",
       "    </tr>\n",
       "    <tr>\n",
       "      <th>23</th>\n",
       "      <td>166.209290</td>\n",
       "      <td>147.0</td>\n",
       "    </tr>\n",
       "    <tr>\n",
       "      <th>24</th>\n",
       "      <td>165.137344</td>\n",
       "      <td>121.0</td>\n",
       "    </tr>\n",
       "    <tr>\n",
       "      <th>25</th>\n",
       "      <td>161.970566</td>\n",
       "      <td>166.0</td>\n",
       "    </tr>\n",
       "    <tr>\n",
       "      <th>26</th>\n",
       "      <td>162.392807</td>\n",
       "      <td>184.0</td>\n",
       "    </tr>\n",
       "    <tr>\n",
       "      <th>27</th>\n",
       "      <td>165.598755</td>\n",
       "      <td>121.0</td>\n",
       "    </tr>\n",
       "    <tr>\n",
       "      <th>28</th>\n",
       "      <td>160.922211</td>\n",
       "      <td>116.0</td>\n",
       "    </tr>\n",
       "    <tr>\n",
       "      <th>29</th>\n",
       "      <td>157.181900</td>\n",
       "      <td>142.0</td>\n",
       "    </tr>\n",
       "    <tr>\n",
       "      <th>30</th>\n",
       "      <td>154.989899</td>\n",
       "      <td>176.0</td>\n",
       "    </tr>\n",
       "    <tr>\n",
       "      <th>31</th>\n",
       "      <td>152.969986</td>\n",
       "      <td>110.0</td>\n",
       "    </tr>\n",
       "    <tr>\n",
       "      <th>32</th>\n",
       "      <td>146.503555</td>\n",
       "      <td>161.0</td>\n",
       "    </tr>\n",
       "    <tr>\n",
       "      <th>33</th>\n",
       "      <td>152.050995</td>\n",
       "      <td>147.0</td>\n",
       "    </tr>\n",
       "    <tr>\n",
       "      <th>34</th>\n",
       "      <td>153.317947</td>\n",
       "      <td>190.0</td>\n",
       "    </tr>\n",
       "    <tr>\n",
       "      <th>35</th>\n",
       "      <td>152.755234</td>\n",
       "      <td>107.0</td>\n",
       "    </tr>\n",
       "    <tr>\n",
       "      <th>36</th>\n",
       "      <td>147.035110</td>\n",
       "      <td>166.0</td>\n",
       "    </tr>\n",
       "    <tr>\n",
       "      <th>37</th>\n",
       "      <td>155.182220</td>\n",
       "      <td>121.0</td>\n",
       "    </tr>\n",
       "    <tr>\n",
       "      <th>38</th>\n",
       "      <td>152.959244</td>\n",
       "      <td>147.0</td>\n",
       "    </tr>\n",
       "    <tr>\n",
       "      <th>39</th>\n",
       "      <td>145.514221</td>\n",
       "      <td>90.0</td>\n",
       "    </tr>\n",
       "    <tr>\n",
       "      <th>40</th>\n",
       "      <td>141.357803</td>\n",
       "      <td>121.0</td>\n",
       "    </tr>\n",
       "    <tr>\n",
       "      <th>41</th>\n",
       "      <td>146.952759</td>\n",
       "      <td>131.0</td>\n",
       "    </tr>\n",
       "    <tr>\n",
       "      <th>42</th>\n",
       "      <td>147.497681</td>\n",
       "      <td>177.0</td>\n",
       "    </tr>\n",
       "    <tr>\n",
       "      <th>43</th>\n",
       "      <td>143.351089</td>\n",
       "      <td>101.0</td>\n",
       "    </tr>\n",
       "    <tr>\n",
       "      <th>44</th>\n",
       "      <td>141.063141</td>\n",
       "      <td>90.0</td>\n",
       "    </tr>\n",
       "    <tr>\n",
       "      <th>45</th>\n",
       "      <td>142.565186</td>\n",
       "      <td>116.0</td>\n",
       "    </tr>\n",
       "    <tr>\n",
       "      <th>46</th>\n",
       "      <td>143.181534</td>\n",
       "      <td>192.0</td>\n",
       "    </tr>\n",
       "    <tr>\n",
       "      <th>47</th>\n",
       "      <td>141.917389</td>\n",
       "      <td>116.0</td>\n",
       "    </tr>\n",
       "    <tr>\n",
       "      <th>48</th>\n",
       "      <td>139.160873</td>\n",
       "      <td>121.0</td>\n",
       "    </tr>\n",
       "    <tr>\n",
       "      <th>49</th>\n",
       "      <td>142.950058</td>\n",
       "      <td>122.0</td>\n",
       "    </tr>\n",
       "  </tbody>\n",
       "</table>\n",
       "</div>"
      ],
      "text/plain": [
       "    Predictions  Actuals\n",
       "0    177.967789    201.0\n",
       "1    174.928833    222.0\n",
       "2    178.125687    196.0\n",
       "3    180.122009    210.0\n",
       "4    182.160843    188.0\n",
       "5    177.336288    198.0\n",
       "6    174.759109    226.0\n",
       "7    179.182587    240.0\n",
       "8    185.534683    270.0\n",
       "9    189.891479    281.0\n",
       "10   189.589706    290.0\n",
       "11   194.552704    306.0\n",
       "12   202.165878    310.0\n",
       "13   202.338745    287.0\n",
       "14   201.775345    266.0\n",
       "15   201.244522    187.0\n",
       "16   195.523331    156.0\n",
       "17   188.756744    171.0\n",
       "18   184.503403    140.0\n",
       "19   178.157791    167.0\n",
       "20   176.128281    142.0\n",
       "21   173.898727    131.0\n",
       "22   170.717804    101.0\n",
       "23   166.209290    147.0\n",
       "24   165.137344    121.0\n",
       "25   161.970566    166.0\n",
       "26   162.392807    184.0\n",
       "27   165.598755    121.0\n",
       "28   160.922211    116.0\n",
       "29   157.181900    142.0\n",
       "30   154.989899    176.0\n",
       "31   152.969986    110.0\n",
       "32   146.503555    161.0\n",
       "33   152.050995    147.0\n",
       "34   153.317947    190.0\n",
       "35   152.755234    107.0\n",
       "36   147.035110    166.0\n",
       "37   155.182220    121.0\n",
       "38   152.959244    147.0\n",
       "39   145.514221     90.0\n",
       "40   141.357803    121.0\n",
       "41   146.952759    131.0\n",
       "42   147.497681    177.0\n",
       "43   143.351089    101.0\n",
       "44   141.063141     90.0\n",
       "45   142.565186    116.0\n",
       "46   143.181534    192.0\n",
       "47   141.917389    116.0\n",
       "48   139.160873    121.0\n",
       "49   142.950058    122.0"
      ]
     },
     "execution_count": 41,
     "metadata": {},
     "output_type": "execute_result"
    }
   ],
   "source": [
    "preds_acts = pd.DataFrame(data={'Predictions':predictions.flatten(), 'Actuals':y_test.flatten()})\n",
    "preds_acts.head(50)"
   ]
  },
  {
   "cell_type": "code",
   "execution_count": 42,
   "metadata": {},
   "outputs": [
    {
     "data": {
      "image/png": "[encoded data removed]",
      "text/plain": [
       "<Figure size 2000x1000 with 1 Axes>"
      ]
     },
     "metadata": {},
     "output_type": "display_data"
    }
   ],
   "source": [
    "plt.figure(figsize=(20, 10))\n",
    "plt.plot(preds_acts['Predictions'], label='Predictions')\n",
    "plt.plot(preds_acts['Actuals'], label='Actuals')\n",
    "\n",
    "# Adjust font size for legend, title, and labels\n",
    "plt.legend(fontsize=14)\n",
    "plt.title('Predictions vs Actuals', fontsize=16)\n",
    "plt.xlabel('Time', fontsize=14)\n",
    "plt.ylabel('Values', fontsize=14)\n",
    "\n",
    "plt.show()"
   ]
  },
  {
   "cell_type": "code",
   "execution_count": 44,
   "metadata": {},
   "outputs": [],
   "source": [
    "from datetime import timedelta"
   ]
  },
  {
   "cell_type": "code",
   "execution_count": 45,
   "metadata": {},
   "outputs": [],
   "source": [
    "def insert_end(Xin, new_input):\n",
    "    timestep = time_steps\n",
    "    for i in range(timestep - 1):\n",
    "        Xin[:, i, :] = Xin[:, i+1, :]\n",
    "    Xin[:, timestep - 1, :] = new_input\n",
    "    return Xin"
   ]
  },
  {
   "cell_type": "code",
   "execution_count": 46,
   "metadata": {},
   "outputs": [
    {
     "data": {
      "text/plain": [
       "id\n",
       "29    616\n",
       "55    606\n",
       "30    591\n",
       "65    546\n",
       "68    527\n",
       "     ... \n",
       "6      65\n",
       "32     62\n",
       "14     58\n",
       "69     51\n",
       "40     31\n",
       "Name: count, Length: 70, dtype: int64"
      ]
     },
     "execution_count": 46,
     "metadata": {},
     "output_type": "execute_result"
    }
   ],
   "source": [
    "df['id'].value_counts()"
   ]
  },
  {
   "cell_type": "code",
   "execution_count": 47,
   "metadata": {},
   "outputs": [
    {
     "name": "stdout",
     "output_type": "stream",
     "text": [
      "Checking for NaNs in the dataset:\n",
      "code        0\n",
      "value       0\n",
      "datetime    0\n",
      "dtype: int64\n",
      "                 datetime  value\n",
      "9827  1991-03-01 08:00:00    281\n",
      "9828  1991-03-01 12:00:00    209\n",
      "9829  1991-03-01 18:00:00    116\n",
      "9830  1991-03-01 22:00:00    321\n",
      "9831  1991-03-02 08:00:00    304\n",
      "...                   ...    ...\n",
      "10428 1991-07-26 22:00:00    111\n",
      "10429 1991-07-27 08:00:00    201\n",
      "10430 1991-07-27 12:00:00    121\n",
      "10431 1991-07-27 18:00:00    116\n",
      "10432 1991-07-27 22:00:00     99\n",
      "\n",
      "[606 rows x 2 columns]\n"
     ]
    },
    {
     "name": "stderr",
     "output_type": "stream",
     "text": [
      "C:\\Users\\Hp\\AppData\\Local\\Temp\\ipykernel_5612\\2958087260.py:4: SettingWithCopyWarning: \n",
      "A value is trying to be set on a copy of a slice from a DataFrame.\n",
      "Try using .loc[row_indexer,col_indexer] = value instead\n",
      "\n",
      "See the caveats in the documentation: https://pandas.pydata.org/pandas-docs/stable/user_guide/indexing.html#returning-a-view-versus-a-copy\n",
      "  test_id['value'] = pd.to_numeric(test_id['value'], errors='coerce')\n"
     ]
    }
   ],
   "source": [
    "test_id = df[df['id'] == 55]\n",
    "\n",
    "# Convert 'value' to numeric, handle non-numeric values as NaN\n",
    "test_id['value'] = pd.to_numeric(test_id['value'], errors='coerce')\n",
    "test_id = test_id[test_id['value'].notnull()]\n",
    "\n",
    "# Step 1: Combine 'date' and 'time' into a single 'datetime' column without specifying format\n",
    "test_id['datetime'] = pd.to_datetime(\n",
    "    test_id['date'] + ' ' + test_id['time'], errors='coerce'\n",
    ")\n",
    "test_id.drop(['val', 'date', 'time', 'id', 'Unnamed: 0'], axis=1, inplace=True)\n",
    "\n",
    "\n",
    "# Check for NaNs in the DataFrame\n",
    "print(\"Checking for NaNs in the dataset:\")\n",
    "print(test_id.isnull().sum())\n",
    "\n",
    "# Step 5: Display the DataFrame with classifications\n",
    "print(test_id[['datetime', 'value']])\n",
    "test_id.set_index('datetime', inplace=True)"
   ]
  },
  {
   "cell_type": "code",
   "execution_count": 48,
   "metadata": {},
   "outputs": [],
   "source": [
    "scaled_data_Test = scaler.fit_transform(np.array(test_id).reshape(-1, 1))"
   ]
  },
  {
   "cell_type": "code",
   "execution_count": 49,
   "metadata": {},
   "outputs": [],
   "source": [
    "# scaled_data_Test = scaled_data_Test[ train_size-10: , 0:1 ]"
   ]
  },
  {
   "cell_type": "code",
   "execution_count": 50,
   "metadata": {},
   "outputs": [
    {
     "data": {
      "text/plain": [
       "(1212, 1)"
      ]
     },
     "execution_count": 50,
     "metadata": {},
     "output_type": "execute_result"
    }
   ],
   "source": [
    "scaled_data_Test.shape"
   ]
  },
  {
   "cell_type": "code",
   "execution_count": 52,
   "metadata": {},
   "outputs": [],
   "source": [
    "# Convert to numpy array\n",
    "x_test2 = np.array(x_train)"
   ]
  },
  {
   "cell_type": "code",
   "execution_count": 53,
   "metadata": {},
   "outputs": [],
   "source": [
    "# future = 30  # Number of future predictions\n",
    "# forecast = []\n",
    "# timesteps = 30  # As per the model's expected input shape\n",
    "# last_values = test_id[['value']].values[-timesteps:]  # Extract the last `timesteps` values\n",
    "# Xin = last_values.reshape(1, timesteps, 1)  # Reshape to (1, timesteps, 1)\n",
    "# dates = []\n",
    "\n",
    "# # Ensure the last datetime value in the dataset\n",
    "# last_datetime = test_id['datetime'].iloc[-1]\n",
    "\n",
    "# for i in range(0, future):\n",
    "#     # Predict the next value using the model\n",
    "#     out = model.predict(Xin, batch_size=1)\n",
    "#     forecast.append(out[0, 0])  # Append the prediction to the forecast list\n",
    "\n",
    "#     # Update the input for the next prediction\n",
    "#     new_value = out[0, 0]\n",
    "#     Xin = np.append(Xin[:, 1:, :], [[[new_value]]], axis=1)  # Slide the window\n",
    "\n",
    "#     # Calculate the next datetime value\n",
    "#     new_date = last_datetime + timedelta(days=i + 1)  # Increment by 1 day\n",
    "#     dates.append(new_date.strftime('%d-%m-%Y'))\n",
    "\n",
    "# # Create a DataFrame with the forecast results\n",
    "# forecast_df = pd.DataFrame({'date': dates, 'Forecasted': forecast})\n",
    "\n",
    "# # Display the results\n",
    "# print(forecast_df)"
   ]
  },
  {
   "cell_type": "code",
   "execution_count": 67,
   "metadata": {},
   "outputs": [
    {
     "data": {
      "text/plain": [
       "datetime\n",
       "1991-03-01 08:00:00    281\n",
       "1991-03-01 12:00:00    209\n",
       "1991-03-01 18:00:00    116\n",
       "1991-03-01 22:00:00    321\n",
       "1991-03-02 08:00:00    304\n",
       "                      ... \n",
       "1991-03-22 12:00:00     97\n",
       "1991-03-22 18:00:00    260\n",
       "1991-03-22 22:00:00     99\n",
       "1991-03-23 08:00:00    280\n",
       "1991-03-23 12:00:00    147\n",
       "Name: value, Length: 90, dtype: int64"
      ]
     },
     "execution_count": 67,
     "metadata": {},
     "output_type": "execute_result"
    }
   ],
   "source": [
    "testtt=test_id['value']\n",
    "testtt.head(90)"
   ]
  },
  {
   "cell_type": "code",
   "execution_count": 75,
   "metadata": {},
   "outputs": [
    {
     "name": "stdout",
     "output_type": "stream",
     "text": [
      "✅ تم تحديث glucose_data.json مع تحويل datetime إلى نص.\n"
     ]
    }
   ],
   "source": [
    "import json\n",
    "file_path =\"C:\\\\Users\\\\Hp\\\\Desktop\\\\tracking\\\\glucose_data.json\"\n",
    "\n",
    "# تحويل الفهرس (index) إلى عمود عادي وتحويل datetime إلى نص\n",
    "testtt = test_id.reset_index()[['datetime', 'value']]\n",
    "testtt['datetime'] = testtt['datetime'].astype(str)  # تحويل datetime إلى نص\n",
    "\n",
    "# تحميل البيانات القديمة إن وجدت\n",
    "try:\n",
    "    with open(file_path, \"r\", encoding=\"utf-8\") as f:\n",
    "        existing_data = json.load(f)  # قراءة البيانات\n",
    "        if not isinstance(existing_data, list):  \n",
    "            existing_data = [existing_data]  \n",
    "except (FileNotFoundError, json.JSONDecodeError):  \n",
    "    existing_data = []  # إذا كان الملف غير موجود أو فارغًا\n",
    "\n",
    "# تحويل الداتا إلى JSON ثم إضافتها\n",
    "new_data = testtt.to_dict(orient=\"records\")  \n",
    "existing_data.extend(new_data)  \n",
    "\n",
    "# حفظ الملف مجددًا\n",
    "with open(file_path, \"w\", encoding=\"utf-8\") as f:\n",
    "    json.dump(existing_data, f, ensure_ascii=False, indent=4)\n",
    "\n",
    "print(\"✅ تم تحديث glucose_data.json مع تحويل datetime إلى نص.\")"
   ]
  },
  {
   "cell_type": "code",
   "execution_count": 54,
   "metadata": {},
   "outputs": [
    {
     "name": "stdout",
     "output_type": "stream",
     "text": [
      "\u001b[1m1/1\u001b[0m \u001b[32m━━━━━━━━━━━━━━━━━━━━\u001b[0m\u001b[37m\u001b[0m \u001b[1m0s\u001b[0m 43ms/step\n",
      "[0.3510549]\n",
      "\u001b[1m1/1\u001b[0m \u001b[32m━━━━━━━━━━━━━━━━━━━━\u001b[0m\u001b[37m\u001b[0m \u001b[1m0s\u001b[0m 40ms/step\n",
      "[0.3510549, 0.35081494]\n",
      "\u001b[1m1/1\u001b[0m \u001b[32m━━━━━━━━━━━━━━━━━━━━\u001b[0m\u001b[37m\u001b[0m \u001b[1m0s\u001b[0m 38ms/step\n",
      "[0.3510549, 0.35081494, 0.36184394]\n",
      "\u001b[1m1/1\u001b[0m \u001b[32m━━━━━━━━━━━━━━━━━━━━\u001b[0m\u001b[37m\u001b[0m \u001b[1m0s\u001b[0m 38ms/step\n",
      "[0.3510549, 0.35081494, 0.36184394, 0.36190194]\n",
      "\u001b[1m1/1\u001b[0m \u001b[32m━━━━━━━━━━━━━━━━━━━━\u001b[0m\u001b[37m\u001b[0m \u001b[1m0s\u001b[0m 35ms/step\n",
      "[0.3510549, 0.35081494, 0.36184394, 0.36190194, 0.34225163]\n",
      "\u001b[1m1/1\u001b[0m \u001b[32m━━━━━━━━━━━━━━━━━━━━\u001b[0m\u001b[37m\u001b[0m \u001b[1m0s\u001b[0m 36ms/step\n",
      "[0.3510549, 0.35081494, 0.36184394, 0.36190194, 0.34225163, 0.3462717]\n",
      "\u001b[1m1/1\u001b[0m \u001b[32m━━━━━━━━━━━━━━━━━━━━\u001b[0m\u001b[37m\u001b[0m \u001b[1m0s\u001b[0m 36ms/step\n",
      "[0.3510549, 0.35081494, 0.36184394, 0.36190194, 0.34225163, 0.3462717, 0.3544639]\n",
      "\u001b[1m1/1\u001b[0m \u001b[32m━━━━━━━━━━━━━━━━━━━━\u001b[0m\u001b[37m\u001b[0m \u001b[1m0s\u001b[0m 37ms/step\n",
      "[0.3510549, 0.35081494, 0.36184394, 0.36190194, 0.34225163, 0.3462717, 0.3544639, 0.34656867]\n",
      "\u001b[1m1/1\u001b[0m \u001b[32m━━━━━━━━━━━━━━━━━━━━\u001b[0m\u001b[37m\u001b[0m \u001b[1m0s\u001b[0m 39ms/step\n",
      "[0.3510549, 0.35081494, 0.36184394, 0.36190194, 0.34225163, 0.3462717, 0.3544639, 0.34656867, 0.33437935]\n",
      "\u001b[1m1/1\u001b[0m \u001b[32m━━━━━━━━━━━━━━━━━━━━\u001b[0m\u001b[37m\u001b[0m \u001b[1m0s\u001b[0m 40ms/step\n",
      "[0.3510549, 0.35081494, 0.36184394, 0.36190194, 0.34225163, 0.3462717, 0.3544639, 0.34656867, 0.33437935, 0.33643848]\n",
      "\u001b[1m1/1\u001b[0m \u001b[32m━━━━━━━━━━━━━━━━━━━━\u001b[0m\u001b[37m\u001b[0m \u001b[1m0s\u001b[0m 40ms/step\n",
      "[0.3510549, 0.35081494, 0.36184394, 0.36190194, 0.34225163, 0.3462717, 0.3544639, 0.34656867, 0.33437935, 0.33643848, 0.3473827]\n",
      "\u001b[1m1/1\u001b[0m \u001b[32m━━━━━━━━━━━━━━━━━━━━\u001b[0m\u001b[37m\u001b[0m \u001b[1m0s\u001b[0m 41ms/step\n",
      "[0.3510549, 0.35081494, 0.36184394, 0.36190194, 0.34225163, 0.3462717, 0.3544639, 0.34656867, 0.33437935, 0.33643848, 0.3473827, 0.33673793]\n",
      "\u001b[1m1/1\u001b[0m \u001b[32m━━━━━━━━━━━━━━━━━━━━\u001b[0m\u001b[37m\u001b[0m \u001b[1m0s\u001b[0m 42ms/step\n",
      "[0.3510549, 0.35081494, 0.36184394, 0.36190194, 0.34225163, 0.3462717, 0.3544639, 0.34656867, 0.33437935, 0.33643848, 0.3473827, 0.33673793, 0.33302635]\n",
      "\u001b[1m1/1\u001b[0m \u001b[32m━━━━━━━━━━━━━━━━━━━━\u001b[0m\u001b[37m\u001b[0m \u001b[1m0s\u001b[0m 36ms/step\n",
      "[0.3510549, 0.35081494, 0.36184394, 0.36190194, 0.34225163, 0.3462717, 0.3544639, 0.34656867, 0.33437935, 0.33643848, 0.3473827, 0.33673793, 0.33302635, 0.33955628]\n",
      "\u001b[1m1/1\u001b[0m \u001b[32m━━━━━━━━━━━━━━━━━━━━\u001b[0m\u001b[37m\u001b[0m \u001b[1m0s\u001b[0m 39ms/step\n",
      "[0.3510549, 0.35081494, 0.36184394, 0.36190194, 0.34225163, 0.3462717, 0.3544639, 0.34656867, 0.33437935, 0.33643848, 0.3473827, 0.33673793, 0.33302635, 0.33955628, 0.3353058]\n",
      "\u001b[1m1/1\u001b[0m \u001b[32m━━━━━━━━━━━━━━━━━━━━\u001b[0m\u001b[37m\u001b[0m \u001b[1m0s\u001b[0m 49ms/step\n",
      "[0.3510549, 0.35081494, 0.36184394, 0.36190194, 0.34225163, 0.3462717, 0.3544639, 0.34656867, 0.33437935, 0.33643848, 0.3473827, 0.33673793, 0.33302635, 0.33955628, 0.3353058, 0.3288757]\n",
      "\u001b[1m1/1\u001b[0m \u001b[32m━━━━━━━━━━━━━━━━━━━━\u001b[0m\u001b[37m\u001b[0m \u001b[1m0s\u001b[0m 37ms/step\n",
      "[0.3510549, 0.35081494, 0.36184394, 0.36190194, 0.34225163, 0.3462717, 0.3544639, 0.34656867, 0.33437935, 0.33643848, 0.3473827, 0.33673793, 0.33302635, 0.33955628, 0.3353058, 0.3288757, 0.3284291]\n",
      "\u001b[1m1/1\u001b[0m \u001b[32m━━━━━━━━━━━━━━━━━━━━\u001b[0m\u001b[37m\u001b[0m \u001b[1m0s\u001b[0m 44ms/step\n",
      "[0.3510549, 0.35081494, 0.36184394, 0.36190194, 0.34225163, 0.3462717, 0.3544639, 0.34656867, 0.33437935, 0.33643848, 0.3473827, 0.33673793, 0.33302635, 0.33955628, 0.3353058, 0.3288757, 0.3284291, 0.32901928]\n",
      "\u001b[1m1/1\u001b[0m \u001b[32m━━━━━━━━━━━━━━━━━━━━\u001b[0m\u001b[37m\u001b[0m \u001b[1m0s\u001b[0m 37ms/step\n",
      "[0.3510549, 0.35081494, 0.36184394, 0.36190194, 0.34225163, 0.3462717, 0.3544639, 0.34656867, 0.33437935, 0.33643848, 0.3473827, 0.33673793, 0.33302635, 0.33955628, 0.3353058, 0.3288757, 0.3284291, 0.32901928, 0.3294858]\n",
      "\u001b[1m1/1\u001b[0m \u001b[32m━━━━━━━━━━━━━━━━━━━━\u001b[0m\u001b[37m\u001b[0m \u001b[1m0s\u001b[0m 36ms/step\n",
      "[0.3510549, 0.35081494, 0.36184394, 0.36190194, 0.34225163, 0.3462717, 0.3544639, 0.34656867, 0.33437935, 0.33643848, 0.3473827, 0.33673793, 0.33302635, 0.33955628, 0.3353058, 0.3288757, 0.3284291, 0.32901928, 0.3294858, 0.32730123]\n",
      "\u001b[1m1/1\u001b[0m \u001b[32m━━━━━━━━━━━━━━━━━━━━\u001b[0m\u001b[37m\u001b[0m \u001b[1m0s\u001b[0m 38ms/step\n",
      "[0.3510549, 0.35081494, 0.36184394, 0.36190194, 0.34225163, 0.3462717, 0.3544639, 0.34656867, 0.33437935, 0.33643848, 0.3473827, 0.33673793, 0.33302635, 0.33955628, 0.3353058, 0.3288757, 0.3284291, 0.32901928, 0.3294858, 0.32730123, 0.32578835]\n",
      "\u001b[1m1/1\u001b[0m \u001b[32m━━━━━━━━━━━━━━━━━━━━\u001b[0m\u001b[37m\u001b[0m \u001b[1m0s\u001b[0m 62ms/step\n",
      "[0.3510549, 0.35081494, 0.36184394, 0.36190194, 0.34225163, 0.3462717, 0.3544639, 0.34656867, 0.33437935, 0.33643848, 0.3473827, 0.33673793, 0.33302635, 0.33955628, 0.3353058, 0.3288757, 0.3284291, 0.32901928, 0.3294858, 0.32730123, 0.32578835, 0.32651705]\n",
      "\u001b[1m1/1\u001b[0m \u001b[32m━━━━━━━━━━━━━━━━━━━━\u001b[0m\u001b[37m\u001b[0m \u001b[1m0s\u001b[0m 36ms/step\n",
      "[0.3510549, 0.35081494, 0.36184394, 0.36190194, 0.34225163, 0.3462717, 0.3544639, 0.34656867, 0.33437935, 0.33643848, 0.3473827, 0.33673793, 0.33302635, 0.33955628, 0.3353058, 0.3288757, 0.3284291, 0.32901928, 0.3294858, 0.32730123, 0.32578835, 0.32651705, 0.32644802]\n",
      "\u001b[1m1/1\u001b[0m \u001b[32m━━━━━━━━━━━━━━━━━━━━\u001b[0m\u001b[37m\u001b[0m \u001b[1m0s\u001b[0m 41ms/step\n",
      "[0.3510549, 0.35081494, 0.36184394, 0.36190194, 0.34225163, 0.3462717, 0.3544639, 0.34656867, 0.33437935, 0.33643848, 0.3473827, 0.33673793, 0.33302635, 0.33955628, 0.3353058, 0.3288757, 0.3284291, 0.32901928, 0.3294858, 0.32730123, 0.32578835, 0.32651705, 0.32644802, 0.3247533]\n",
      "\u001b[1m1/1\u001b[0m \u001b[32m━━━━━━━━━━━━━━━━━━━━\u001b[0m\u001b[37m\u001b[0m \u001b[1m0s\u001b[0m 46ms/step\n",
      "[0.3510549, 0.35081494, 0.36184394, 0.36190194, 0.34225163, 0.3462717, 0.3544639, 0.34656867, 0.33437935, 0.33643848, 0.3473827, 0.33673793, 0.33302635, 0.33955628, 0.3353058, 0.3288757, 0.3284291, 0.32901928, 0.3294858, 0.32730123, 0.32578835, 0.32651705, 0.32644802, 0.3247533, 0.32396993]\n",
      "\u001b[1m1/1\u001b[0m \u001b[32m━━━━━━━━━━━━━━━━━━━━\u001b[0m\u001b[37m\u001b[0m \u001b[1m0s\u001b[0m 50ms/step\n",
      "[0.3510549, 0.35081494, 0.36184394, 0.36190194, 0.34225163, 0.3462717, 0.3544639, 0.34656867, 0.33437935, 0.33643848, 0.3473827, 0.33673793, 0.33302635, 0.33955628, 0.3353058, 0.3288757, 0.3284291, 0.32901928, 0.3294858, 0.32730123, 0.32578835, 0.32651705, 0.32644802, 0.3247533, 0.32396993, 0.32444337]\n",
      "\u001b[1m1/1\u001b[0m \u001b[32m━━━━━━━━━━━━━━━━━━━━\u001b[0m\u001b[37m\u001b[0m \u001b[1m0s\u001b[0m 37ms/step\n",
      "[0.3510549, 0.35081494, 0.36184394, 0.36190194, 0.34225163, 0.3462717, 0.3544639, 0.34656867, 0.33437935, 0.33643848, 0.3473827, 0.33673793, 0.33302635, 0.33955628, 0.3353058, 0.3288757, 0.3284291, 0.32901928, 0.3294858, 0.32730123, 0.32578835, 0.32651705, 0.32644802, 0.3247533, 0.32396993, 0.32444337, 0.32413778]\n",
      "\u001b[1m1/1\u001b[0m \u001b[32m━━━━━━━━━━━━━━━━━━━━\u001b[0m\u001b[37m\u001b[0m \u001b[1m0s\u001b[0m 40ms/step\n",
      "[0.3510549, 0.35081494, 0.36184394, 0.36190194, 0.34225163, 0.3462717, 0.3544639, 0.34656867, 0.33437935, 0.33643848, 0.3473827, 0.33673793, 0.33302635, 0.33955628, 0.3353058, 0.3288757, 0.3284291, 0.32901928, 0.3294858, 0.32730123, 0.32578835, 0.32651705, 0.32644802, 0.3247533, 0.32396993, 0.32444337, 0.32413778, 0.32301626]\n",
      "\u001b[1m1/1\u001b[0m \u001b[32m━━━━━━━━━━━━━━━━━━━━\u001b[0m\u001b[37m\u001b[0m \u001b[1m0s\u001b[0m 42ms/step\n",
      "[0.3510549, 0.35081494, 0.36184394, 0.36190194, 0.34225163, 0.3462717, 0.3544639, 0.34656867, 0.33437935, 0.33643848, 0.3473827, 0.33673793, 0.33302635, 0.33955628, 0.3353058, 0.3288757, 0.3284291, 0.32901928, 0.3294858, 0.32730123, 0.32578835, 0.32651705, 0.32644802, 0.3247533, 0.32396993, 0.32444337, 0.32413778, 0.32301626, 0.32277012]\n",
      "\u001b[1m1/1\u001b[0m \u001b[32m━━━━━━━━━━━━━━━━━━━━\u001b[0m\u001b[37m\u001b[0m \u001b[1m0s\u001b[0m 36ms/step\n",
      "[0.3510549, 0.35081494, 0.36184394, 0.36190194, 0.34225163, 0.3462717, 0.3544639, 0.34656867, 0.33437935, 0.33643848, 0.3473827, 0.33673793, 0.33302635, 0.33955628, 0.3353058, 0.3288757, 0.3284291, 0.32901928, 0.3294858, 0.32730123, 0.32578835, 0.32651705, 0.32644802, 0.3247533, 0.32396993, 0.32444337, 0.32413778, 0.32301626, 0.32277012, 0.32290322]\n",
      "\u001b[1m1/1\u001b[0m \u001b[32m━━━━━━━━━━━━━━━━━━━━\u001b[0m\u001b[37m\u001b[0m \u001b[1m0s\u001b[0m 37ms/step\n",
      "[0.3510549, 0.35081494, 0.36184394, 0.36190194, 0.34225163, 0.3462717, 0.3544639, 0.34656867, 0.33437935, 0.33643848, 0.3473827, 0.33673793, 0.33302635, 0.33955628, 0.3353058, 0.3288757, 0.3284291, 0.32901928, 0.3294858, 0.32730123, 0.32578835, 0.32651705, 0.32644802, 0.3247533, 0.32396993, 0.32444337, 0.32413778, 0.32301626, 0.32277012, 0.32290322, 0.32244608]\n",
      "\u001b[1m1/1\u001b[0m \u001b[32m━━━━━━━━━━━━━━━━━━━━\u001b[0m\u001b[37m\u001b[0m \u001b[1m0s\u001b[0m 36ms/step\n",
      "[0.3510549, 0.35081494, 0.36184394, 0.36190194, 0.34225163, 0.3462717, 0.3544639, 0.34656867, 0.33437935, 0.33643848, 0.3473827, 0.33673793, 0.33302635, 0.33955628, 0.3353058, 0.3288757, 0.3284291, 0.32901928, 0.3294858, 0.32730123, 0.32578835, 0.32651705, 0.32644802, 0.3247533, 0.32396993, 0.32444337, 0.32413778, 0.32301626, 0.32277012, 0.32290322, 0.32244608, 0.32181436]\n",
      "\u001b[1m1/1\u001b[0m \u001b[32m━━━━━━━━━━━━━━━━━━━━\u001b[0m\u001b[37m\u001b[0m \u001b[1m0s\u001b[0m 40ms/step\n",
      "[0.3510549, 0.35081494, 0.36184394, 0.36190194, 0.34225163, 0.3462717, 0.3544639, 0.34656867, 0.33437935, 0.33643848, 0.3473827, 0.33673793, 0.33302635, 0.33955628, 0.3353058, 0.3288757, 0.3284291, 0.32901928, 0.3294858, 0.32730123, 0.32578835, 0.32651705, 0.32644802, 0.3247533, 0.32396993, 0.32444337, 0.32413778, 0.32301626, 0.32277012, 0.32290322, 0.32244608, 0.32181436, 0.3215764]\n",
      "\u001b[1m1/1\u001b[0m \u001b[32m━━━━━━━━━━━━━━━━━━━━\u001b[0m\u001b[37m\u001b[0m \u001b[1m0s\u001b[0m 42ms/step\n",
      "[0.3510549, 0.35081494, 0.36184394, 0.36190194, 0.34225163, 0.3462717, 0.3544639, 0.34656867, 0.33437935, 0.33643848, 0.3473827, 0.33673793, 0.33302635, 0.33955628, 0.3353058, 0.3288757, 0.3284291, 0.32901928, 0.3294858, 0.32730123, 0.32578835, 0.32651705, 0.32644802, 0.3247533, 0.32396993, 0.32444337, 0.32413778, 0.32301626, 0.32277012, 0.32290322, 0.32244608, 0.32181436, 0.3215764, 0.32157633]\n",
      "\u001b[1m1/1\u001b[0m \u001b[32m━━━━━━━━━━━━━━━━━━━━\u001b[0m\u001b[37m\u001b[0m \u001b[1m0s\u001b[0m 33ms/step\n",
      "[0.3510549, 0.35081494, 0.36184394, 0.36190194, 0.34225163, 0.3462717, 0.3544639, 0.34656867, 0.33437935, 0.33643848, 0.3473827, 0.33673793, 0.33302635, 0.33955628, 0.3353058, 0.3288757, 0.3284291, 0.32901928, 0.3294858, 0.32730123, 0.32578835, 0.32651705, 0.32644802, 0.3247533, 0.32396993, 0.32444337, 0.32413778, 0.32301626, 0.32277012, 0.32290322, 0.32244608, 0.32181436, 0.3215764, 0.32157633, 0.3213794]\n",
      "\u001b[1m1/1\u001b[0m \u001b[32m━━━━━━━━━━━━━━━━━━━━\u001b[0m\u001b[37m\u001b[0m \u001b[1m0s\u001b[0m 40ms/step\n",
      "[0.3510549, 0.35081494, 0.36184394, 0.36190194, 0.34225163, 0.3462717, 0.3544639, 0.34656867, 0.33437935, 0.33643848, 0.3473827, 0.33673793, 0.33302635, 0.33955628, 0.3353058, 0.3288757, 0.3284291, 0.32901928, 0.3294858, 0.32730123, 0.32578835, 0.32651705, 0.32644802, 0.3247533, 0.32396993, 0.32444337, 0.32413778, 0.32301626, 0.32277012, 0.32290322, 0.32244608, 0.32181436, 0.3215764, 0.32157633, 0.3213794, 0.32099524]\n",
      "\u001b[1m1/1\u001b[0m \u001b[32m━━━━━━━━━━━━━━━━━━━━\u001b[0m\u001b[37m\u001b[0m \u001b[1m0s\u001b[0m 36ms/step\n",
      "[0.3510549, 0.35081494, 0.36184394, 0.36190194, 0.34225163, 0.3462717, 0.3544639, 0.34656867, 0.33437935, 0.33643848, 0.3473827, 0.33673793, 0.33302635, 0.33955628, 0.3353058, 0.3288757, 0.3284291, 0.32901928, 0.3294858, 0.32730123, 0.32578835, 0.32651705, 0.32644802, 0.3247533, 0.32396993, 0.32444337, 0.32413778, 0.32301626, 0.32277012, 0.32290322, 0.32244608, 0.32181436, 0.3215764, 0.32157633, 0.3213794, 0.32099524, 0.32082453]\n",
      "\u001b[1m1/1\u001b[0m \u001b[32m━━━━━━━━━━━━━━━━━━━━\u001b[0m\u001b[37m\u001b[0m \u001b[1m0s\u001b[0m 44ms/step\n",
      "[0.3510549, 0.35081494, 0.36184394, 0.36190194, 0.34225163, 0.3462717, 0.3544639, 0.34656867, 0.33437935, 0.33643848, 0.3473827, 0.33673793, 0.33302635, 0.33955628, 0.3353058, 0.3288757, 0.3284291, 0.32901928, 0.3294858, 0.32730123, 0.32578835, 0.32651705, 0.32644802, 0.3247533, 0.32396993, 0.32444337, 0.32413778, 0.32301626, 0.32277012, 0.32290322, 0.32244608, 0.32181436, 0.3215764, 0.32157633, 0.3213794, 0.32099524, 0.32082453, 0.32080713]\n",
      "\u001b[1m1/1\u001b[0m \u001b[32m━━━━━━━━━━━━━━━━━━━━\u001b[0m\u001b[37m\u001b[0m \u001b[1m0s\u001b[0m 46ms/step\n",
      "[0.3510549, 0.35081494, 0.36184394, 0.36190194, 0.34225163, 0.3462717, 0.3544639, 0.34656867, 0.33437935, 0.33643848, 0.3473827, 0.33673793, 0.33302635, 0.33955628, 0.3353058, 0.3288757, 0.3284291, 0.32901928, 0.3294858, 0.32730123, 0.32578835, 0.32651705, 0.32644802, 0.3247533, 0.32396993, 0.32444337, 0.32413778, 0.32301626, 0.32277012, 0.32290322, 0.32244608, 0.32181436, 0.3215764, 0.32157633, 0.3213794, 0.32099524, 0.32082453, 0.32080713, 0.3206346]\n",
      "\u001b[1m1/1\u001b[0m \u001b[32m━━━━━━━━━━━━━━━━━━━━\u001b[0m\u001b[37m\u001b[0m \u001b[1m0s\u001b[0m 40ms/step\n",
      "[0.3510549, 0.35081494, 0.36184394, 0.36190194, 0.34225163, 0.3462717, 0.3544639, 0.34656867, 0.33437935, 0.33643848, 0.3473827, 0.33673793, 0.33302635, 0.33955628, 0.3353058, 0.3288757, 0.3284291, 0.32901928, 0.3294858, 0.32730123, 0.32578835, 0.32651705, 0.32644802, 0.3247533, 0.32396993, 0.32444337, 0.32413778, 0.32301626, 0.32277012, 0.32290322, 0.32244608, 0.32181436, 0.3215764, 0.32157633, 0.3213794, 0.32099524, 0.32082453, 0.32080713, 0.3206346, 0.3203826]\n",
      "\u001b[1m1/1\u001b[0m \u001b[32m━━━━━━━━━━━━━━━━━━━━\u001b[0m\u001b[37m\u001b[0m \u001b[1m0s\u001b[0m 44ms/step\n",
      "[0.3510549, 0.35081494, 0.36184394, 0.36190194, 0.34225163, 0.3462717, 0.3544639, 0.34656867, 0.33437935, 0.33643848, 0.3473827, 0.33673793, 0.33302635, 0.33955628, 0.3353058, 0.3288757, 0.3284291, 0.32901928, 0.3294858, 0.32730123, 0.32578835, 0.32651705, 0.32644802, 0.3247533, 0.32396993, 0.32444337, 0.32413778, 0.32301626, 0.32277012, 0.32290322, 0.32244608, 0.32181436, 0.3215764, 0.32157633, 0.3213794, 0.32099524, 0.32082453, 0.32080713, 0.3206346, 0.3203826, 0.32027742]\n",
      "\u001b[1m1/1\u001b[0m \u001b[32m━━━━━━━━━━━━━━━━━━━━\u001b[0m\u001b[37m\u001b[0m \u001b[1m0s\u001b[0m 40ms/step\n",
      "[0.3510549, 0.35081494, 0.36184394, 0.36190194, 0.34225163, 0.3462717, 0.3544639, 0.34656867, 0.33437935, 0.33643848, 0.3473827, 0.33673793, 0.33302635, 0.33955628, 0.3353058, 0.3288757, 0.3284291, 0.32901928, 0.3294858, 0.32730123, 0.32578835, 0.32651705, 0.32644802, 0.3247533, 0.32396993, 0.32444337, 0.32413778, 0.32301626, 0.32277012, 0.32290322, 0.32244608, 0.32181436, 0.3215764, 0.32157633, 0.3213794, 0.32099524, 0.32082453, 0.32080713, 0.3206346, 0.3203826, 0.32027742, 0.3202389]\n",
      "\u001b[1m1/1\u001b[0m \u001b[32m━━━━━━━━━━━━━━━━━━━━\u001b[0m\u001b[37m\u001b[0m \u001b[1m0s\u001b[0m 47ms/step\n",
      "[0.3510549, 0.35081494, 0.36184394, 0.36190194, 0.34225163, 0.3462717, 0.3544639, 0.34656867, 0.33437935, 0.33643848, 0.3473827, 0.33673793, 0.33302635, 0.33955628, 0.3353058, 0.3288757, 0.3284291, 0.32901928, 0.3294858, 0.32730123, 0.32578835, 0.32651705, 0.32644802, 0.3247533, 0.32396993, 0.32444337, 0.32413778, 0.32301626, 0.32277012, 0.32290322, 0.32244608, 0.32181436, 0.3215764, 0.32157633, 0.3213794, 0.32099524, 0.32082453, 0.32080713, 0.3206346, 0.3203826, 0.32027742, 0.3202389, 0.32010418]\n",
      "\u001b[1m1/1\u001b[0m \u001b[32m━━━━━━━━━━━━━━━━━━━━\u001b[0m\u001b[37m\u001b[0m \u001b[1m0s\u001b[0m 40ms/step\n",
      "[0.3510549, 0.35081494, 0.36184394, 0.36190194, 0.34225163, 0.3462717, 0.3544639, 0.34656867, 0.33437935, 0.33643848, 0.3473827, 0.33673793, 0.33302635, 0.33955628, 0.3353058, 0.3288757, 0.3284291, 0.32901928, 0.3294858, 0.32730123, 0.32578835, 0.32651705, 0.32644802, 0.3247533, 0.32396993, 0.32444337, 0.32413778, 0.32301626, 0.32277012, 0.32290322, 0.32244608, 0.32181436, 0.3215764, 0.32157633, 0.3213794, 0.32099524, 0.32082453, 0.32080713, 0.3206346, 0.3203826, 0.32027742, 0.3202389, 0.32010418, 0.3199453]\n",
      "\u001b[1m1/1\u001b[0m \u001b[32m━━━━━━━━━━━━━━━━━━━━\u001b[0m\u001b[37m\u001b[0m \u001b[1m0s\u001b[0m 41ms/step\n",
      "[0.3510549, 0.35081494, 0.36184394, 0.36190194, 0.34225163, 0.3462717, 0.3544639, 0.34656867, 0.33437935, 0.33643848, 0.3473827, 0.33673793, 0.33302635, 0.33955628, 0.3353058, 0.3288757, 0.3284291, 0.32901928, 0.3294858, 0.32730123, 0.32578835, 0.32651705, 0.32644802, 0.3247533, 0.32396993, 0.32444337, 0.32413778, 0.32301626, 0.32277012, 0.32290322, 0.32244608, 0.32181436, 0.3215764, 0.32157633, 0.3213794, 0.32099524, 0.32082453, 0.32080713, 0.3206346, 0.3203826, 0.32027742, 0.3202389, 0.32010418, 0.3199453, 0.31987414]\n",
      "\u001b[1m1/1\u001b[0m \u001b[32m━━━━━━━━━━━━━━━━━━━━\u001b[0m\u001b[37m\u001b[0m \u001b[1m0s\u001b[0m 39ms/step\n",
      "[0.3510549, 0.35081494, 0.36184394, 0.36190194, 0.34225163, 0.3462717, 0.3544639, 0.34656867, 0.33437935, 0.33643848, 0.3473827, 0.33673793, 0.33302635, 0.33955628, 0.3353058, 0.3288757, 0.3284291, 0.32901928, 0.3294858, 0.32730123, 0.32578835, 0.32651705, 0.32644802, 0.3247533, 0.32396993, 0.32444337, 0.32413778, 0.32301626, 0.32277012, 0.32290322, 0.32244608, 0.32181436, 0.3215764, 0.32157633, 0.3213794, 0.32099524, 0.32082453, 0.32080713, 0.3206346, 0.3203826, 0.32027742, 0.3202389, 0.32010418, 0.3199453, 0.31987414, 0.31982777]\n",
      "\u001b[1m1/1\u001b[0m \u001b[32m━━━━━━━━━━━━━━━━━━━━\u001b[0m\u001b[37m\u001b[0m \u001b[1m0s\u001b[0m 40ms/step\n",
      "[0.3510549, 0.35081494, 0.36184394, 0.36190194, 0.34225163, 0.3462717, 0.3544639, 0.34656867, 0.33437935, 0.33643848, 0.3473827, 0.33673793, 0.33302635, 0.33955628, 0.3353058, 0.3288757, 0.3284291, 0.32901928, 0.3294858, 0.32730123, 0.32578835, 0.32651705, 0.32644802, 0.3247533, 0.32396993, 0.32444337, 0.32413778, 0.32301626, 0.32277012, 0.32290322, 0.32244608, 0.32181436, 0.3215764, 0.32157633, 0.3213794, 0.32099524, 0.32082453, 0.32080713, 0.3206346, 0.3203826, 0.32027742, 0.3202389, 0.32010418, 0.3199453, 0.31987414, 0.31982777, 0.31973112]\n",
      "\u001b[1m1/1\u001b[0m \u001b[32m━━━━━━━━━━━━━━━━━━━━\u001b[0m\u001b[37m\u001b[0m \u001b[1m0s\u001b[0m 41ms/step\n",
      "[0.3510549, 0.35081494, 0.36184394, 0.36190194, 0.34225163, 0.3462717, 0.3544639, 0.34656867, 0.33437935, 0.33643848, 0.3473827, 0.33673793, 0.33302635, 0.33955628, 0.3353058, 0.3288757, 0.3284291, 0.32901928, 0.3294858, 0.32730123, 0.32578835, 0.32651705, 0.32644802, 0.3247533, 0.32396993, 0.32444337, 0.32413778, 0.32301626, 0.32277012, 0.32290322, 0.32244608, 0.32181436, 0.3215764, 0.32157633, 0.3213794, 0.32099524, 0.32082453, 0.32080713, 0.3206346, 0.3203826, 0.32027742, 0.3202389, 0.32010418, 0.3199453, 0.31987414, 0.31982777, 0.31973112, 0.31962752]\n",
      "\u001b[1m1/1\u001b[0m \u001b[32m━━━━━━━━━━━━━━━━━━━━\u001b[0m\u001b[37m\u001b[0m \u001b[1m0s\u001b[0m 37ms/step\n",
      "[0.3510549, 0.35081494, 0.36184394, 0.36190194, 0.34225163, 0.3462717, 0.3544639, 0.34656867, 0.33437935, 0.33643848, 0.3473827, 0.33673793, 0.33302635, 0.33955628, 0.3353058, 0.3288757, 0.3284291, 0.32901928, 0.3294858, 0.32730123, 0.32578835, 0.32651705, 0.32644802, 0.3247533, 0.32396993, 0.32444337, 0.32413778, 0.32301626, 0.32277012, 0.32290322, 0.32244608, 0.32181436, 0.3215764, 0.32157633, 0.3213794, 0.32099524, 0.32082453, 0.32080713, 0.3206346, 0.3203826, 0.32027742, 0.3202389, 0.32010418, 0.3199453, 0.31987414, 0.31982777, 0.31973112, 0.31962752, 0.31957188]\n",
      "\u001b[1m1/1\u001b[0m \u001b[32m━━━━━━━━━━━━━━━━━━━━\u001b[0m\u001b[37m\u001b[0m \u001b[1m0s\u001b[0m 40ms/step\n",
      "[0.3510549, 0.35081494, 0.36184394, 0.36190194, 0.34225163, 0.3462717, 0.3544639, 0.34656867, 0.33437935, 0.33643848, 0.3473827, 0.33673793, 0.33302635, 0.33955628, 0.3353058, 0.3288757, 0.3284291, 0.32901928, 0.3294858, 0.32730123, 0.32578835, 0.32651705, 0.32644802, 0.3247533, 0.32396993, 0.32444337, 0.32413778, 0.32301626, 0.32277012, 0.32290322, 0.32244608, 0.32181436, 0.3215764, 0.32157633, 0.3213794, 0.32099524, 0.32082453, 0.32080713, 0.3206346, 0.3203826, 0.32027742, 0.3202389, 0.32010418, 0.3199453, 0.31987414, 0.31982777, 0.31973112, 0.31962752, 0.31957188, 0.31953356]\n",
      "\u001b[1m1/1\u001b[0m \u001b[32m━━━━━━━━━━━━━━━━━━━━\u001b[0m\u001b[37m\u001b[0m \u001b[1m0s\u001b[0m 41ms/step\n",
      "[0.3510549, 0.35081494, 0.36184394, 0.36190194, 0.34225163, 0.3462717, 0.3544639, 0.34656867, 0.33437935, 0.33643848, 0.3473827, 0.33673793, 0.33302635, 0.33955628, 0.3353058, 0.3288757, 0.3284291, 0.32901928, 0.3294858, 0.32730123, 0.32578835, 0.32651705, 0.32644802, 0.3247533, 0.32396993, 0.32444337, 0.32413778, 0.32301626, 0.32277012, 0.32290322, 0.32244608, 0.32181436, 0.3215764, 0.32157633, 0.3213794, 0.32099524, 0.32082453, 0.32080713, 0.3206346, 0.3203826, 0.32027742, 0.3202389, 0.32010418, 0.3199453, 0.31987414, 0.31982777, 0.31973112, 0.31962752, 0.31957188, 0.31953356, 0.3194686]\n",
      "\u001b[1m1/1\u001b[0m \u001b[32m━━━━━━━━━━━━━━━━━━━━\u001b[0m\u001b[37m\u001b[0m \u001b[1m0s\u001b[0m 38ms/step\n",
      "[0.3510549, 0.35081494, 0.36184394, 0.36190194, 0.34225163, 0.3462717, 0.3544639, 0.34656867, 0.33437935, 0.33643848, 0.3473827, 0.33673793, 0.33302635, 0.33955628, 0.3353058, 0.3288757, 0.3284291, 0.32901928, 0.3294858, 0.32730123, 0.32578835, 0.32651705, 0.32644802, 0.3247533, 0.32396993, 0.32444337, 0.32413778, 0.32301626, 0.32277012, 0.32290322, 0.32244608, 0.32181436, 0.3215764, 0.32157633, 0.3213794, 0.32099524, 0.32082453, 0.32080713, 0.3206346, 0.3203826, 0.32027742, 0.3202389, 0.32010418, 0.3199453, 0.31987414, 0.31982777, 0.31973112, 0.31962752, 0.31957188, 0.31953356, 0.3194686, 0.31939995]\n",
      "\u001b[1m1/1\u001b[0m \u001b[32m━━━━━━━━━━━━━━━━━━━━\u001b[0m\u001b[37m\u001b[0m \u001b[1m0s\u001b[0m 44ms/step\n",
      "[0.3510549, 0.35081494, 0.36184394, 0.36190194, 0.34225163, 0.3462717, 0.3544639, 0.34656867, 0.33437935, 0.33643848, 0.3473827, 0.33673793, 0.33302635, 0.33955628, 0.3353058, 0.3288757, 0.3284291, 0.32901928, 0.3294858, 0.32730123, 0.32578835, 0.32651705, 0.32644802, 0.3247533, 0.32396993, 0.32444337, 0.32413778, 0.32301626, 0.32277012, 0.32290322, 0.32244608, 0.32181436, 0.3215764, 0.32157633, 0.3213794, 0.32099524, 0.32082453, 0.32080713, 0.3206346, 0.3203826, 0.32027742, 0.3202389, 0.32010418, 0.3199453, 0.31987414, 0.31982777, 0.31973112, 0.31962752, 0.31957188, 0.31953356, 0.3194686, 0.31939995, 0.31936038]\n",
      "\u001b[1m1/1\u001b[0m \u001b[32m━━━━━━━━━━━━━━━━━━━━\u001b[0m\u001b[37m\u001b[0m \u001b[1m0s\u001b[0m 47ms/step\n",
      "[0.3510549, 0.35081494, 0.36184394, 0.36190194, 0.34225163, 0.3462717, 0.3544639, 0.34656867, 0.33437935, 0.33643848, 0.3473827, 0.33673793, 0.33302635, 0.33955628, 0.3353058, 0.3288757, 0.3284291, 0.32901928, 0.3294858, 0.32730123, 0.32578835, 0.32651705, 0.32644802, 0.3247533, 0.32396993, 0.32444337, 0.32413778, 0.32301626, 0.32277012, 0.32290322, 0.32244608, 0.32181436, 0.3215764, 0.32157633, 0.3213794, 0.32099524, 0.32082453, 0.32080713, 0.3206346, 0.3203826, 0.32027742, 0.3202389, 0.32010418, 0.3199453, 0.31987414, 0.31982777, 0.31973112, 0.31962752, 0.31957188, 0.31953356, 0.3194686, 0.31939995, 0.31936038, 0.31932887]\n",
      "\u001b[1m1/1\u001b[0m \u001b[32m━━━━━━━━━━━━━━━━━━━━\u001b[0m\u001b[37m\u001b[0m \u001b[1m0s\u001b[0m 38ms/step\n",
      "[0.3510549, 0.35081494, 0.36184394, 0.36190194, 0.34225163, 0.3462717, 0.3544639, 0.34656867, 0.33437935, 0.33643848, 0.3473827, 0.33673793, 0.33302635, 0.33955628, 0.3353058, 0.3288757, 0.3284291, 0.32901928, 0.3294858, 0.32730123, 0.32578835, 0.32651705, 0.32644802, 0.3247533, 0.32396993, 0.32444337, 0.32413778, 0.32301626, 0.32277012, 0.32290322, 0.32244608, 0.32181436, 0.3215764, 0.32157633, 0.3213794, 0.32099524, 0.32082453, 0.32080713, 0.3206346, 0.3203826, 0.32027742, 0.3202389, 0.32010418, 0.3199453, 0.31987414, 0.31982777, 0.31973112, 0.31962752, 0.31957188, 0.31953356, 0.3194686, 0.31939995, 0.31936038, 0.31932887, 0.31928173]\n",
      "\u001b[1m1/1\u001b[0m \u001b[32m━━━━━━━━━━━━━━━━━━━━\u001b[0m\u001b[37m\u001b[0m \u001b[1m0s\u001b[0m 43ms/step\n",
      "[0.3510549, 0.35081494, 0.36184394, 0.36190194, 0.34225163, 0.3462717, 0.3544639, 0.34656867, 0.33437935, 0.33643848, 0.3473827, 0.33673793, 0.33302635, 0.33955628, 0.3353058, 0.3288757, 0.3284291, 0.32901928, 0.3294858, 0.32730123, 0.32578835, 0.32651705, 0.32644802, 0.3247533, 0.32396993, 0.32444337, 0.32413778, 0.32301626, 0.32277012, 0.32290322, 0.32244608, 0.32181436, 0.3215764, 0.32157633, 0.3213794, 0.32099524, 0.32082453, 0.32080713, 0.3206346, 0.3203826, 0.32027742, 0.3202389, 0.32010418, 0.3199453, 0.31987414, 0.31982777, 0.31973112, 0.31962752, 0.31957188, 0.31953356, 0.3194686, 0.31939995, 0.31936038, 0.31932887, 0.31928173, 0.31923574]\n",
      "\u001b[1m1/1\u001b[0m \u001b[32m━━━━━━━━━━━━━━━━━━━━\u001b[0m\u001b[37m\u001b[0m \u001b[1m0s\u001b[0m 46ms/step\n",
      "[0.3510549, 0.35081494, 0.36184394, 0.36190194, 0.34225163, 0.3462717, 0.3544639, 0.34656867, 0.33437935, 0.33643848, 0.3473827, 0.33673793, 0.33302635, 0.33955628, 0.3353058, 0.3288757, 0.3284291, 0.32901928, 0.3294858, 0.32730123, 0.32578835, 0.32651705, 0.32644802, 0.3247533, 0.32396993, 0.32444337, 0.32413778, 0.32301626, 0.32277012, 0.32290322, 0.32244608, 0.32181436, 0.3215764, 0.32157633, 0.3213794, 0.32099524, 0.32082453, 0.32080713, 0.3206346, 0.3203826, 0.32027742, 0.3202389, 0.32010418, 0.3199453, 0.31987414, 0.31982777, 0.31973112, 0.31962752, 0.31957188, 0.31953356, 0.3194686, 0.31939995, 0.31936038, 0.31932887, 0.31928173, 0.31923574, 0.31920707]\n",
      "\u001b[1m1/1\u001b[0m \u001b[32m━━━━━━━━━━━━━━━━━━━━\u001b[0m\u001b[37m\u001b[0m \u001b[1m0s\u001b[0m 39ms/step\n",
      "[0.3510549, 0.35081494, 0.36184394, 0.36190194, 0.34225163, 0.3462717, 0.3544639, 0.34656867, 0.33437935, 0.33643848, 0.3473827, 0.33673793, 0.33302635, 0.33955628, 0.3353058, 0.3288757, 0.3284291, 0.32901928, 0.3294858, 0.32730123, 0.32578835, 0.32651705, 0.32644802, 0.3247533, 0.32396993, 0.32444337, 0.32413778, 0.32301626, 0.32277012, 0.32290322, 0.32244608, 0.32181436, 0.3215764, 0.32157633, 0.3213794, 0.32099524, 0.32082453, 0.32080713, 0.3206346, 0.3203826, 0.32027742, 0.3202389, 0.32010418, 0.3199453, 0.31987414, 0.31982777, 0.31973112, 0.31962752, 0.31957188, 0.31953356, 0.3194686, 0.31939995, 0.31936038, 0.31932887, 0.31928173, 0.31923574, 0.31920707, 0.31918183]\n",
      "\u001b[1m1/1\u001b[0m \u001b[32m━━━━━━━━━━━━━━━━━━━━\u001b[0m\u001b[37m\u001b[0m \u001b[1m0s\u001b[0m 41ms/step\n",
      "[0.3510549, 0.35081494, 0.36184394, 0.36190194, 0.34225163, 0.3462717, 0.3544639, 0.34656867, 0.33437935, 0.33643848, 0.3473827, 0.33673793, 0.33302635, 0.33955628, 0.3353058, 0.3288757, 0.3284291, 0.32901928, 0.3294858, 0.32730123, 0.32578835, 0.32651705, 0.32644802, 0.3247533, 0.32396993, 0.32444337, 0.32413778, 0.32301626, 0.32277012, 0.32290322, 0.32244608, 0.32181436, 0.3215764, 0.32157633, 0.3213794, 0.32099524, 0.32082453, 0.32080713, 0.3206346, 0.3203826, 0.32027742, 0.3202389, 0.32010418, 0.3199453, 0.31987414, 0.31982777, 0.31973112, 0.31962752, 0.31957188, 0.31953356, 0.3194686, 0.31939995, 0.31936038, 0.31932887, 0.31928173, 0.31923574, 0.31920707, 0.31918183, 0.3191484]\n",
      "\u001b[1m1/1\u001b[0m \u001b[32m━━━━━━━━━━━━━━━━━━━━\u001b[0m\u001b[37m\u001b[0m \u001b[1m0s\u001b[0m 35ms/step\n",
      "[0.3510549, 0.35081494, 0.36184394, 0.36190194, 0.34225163, 0.3462717, 0.3544639, 0.34656867, 0.33437935, 0.33643848, 0.3473827, 0.33673793, 0.33302635, 0.33955628, 0.3353058, 0.3288757, 0.3284291, 0.32901928, 0.3294858, 0.32730123, 0.32578835, 0.32651705, 0.32644802, 0.3247533, 0.32396993, 0.32444337, 0.32413778, 0.32301626, 0.32277012, 0.32290322, 0.32244608, 0.32181436, 0.3215764, 0.32157633, 0.3213794, 0.32099524, 0.32082453, 0.32080713, 0.3206346, 0.3203826, 0.32027742, 0.3202389, 0.32010418, 0.3199453, 0.31987414, 0.31982777, 0.31973112, 0.31962752, 0.31957188, 0.31953356, 0.3194686, 0.31939995, 0.31936038, 0.31932887, 0.31928173, 0.31923574, 0.31920707, 0.31918183, 0.3191484, 0.31911725]\n",
      "\u001b[1m1/1\u001b[0m \u001b[32m━━━━━━━━━━━━━━━━━━━━\u001b[0m\u001b[37m\u001b[0m \u001b[1m0s\u001b[0m 48ms/step\n",
      "[0.3510549, 0.35081494, 0.36184394, 0.36190194, 0.34225163, 0.3462717, 0.3544639, 0.34656867, 0.33437935, 0.33643848, 0.3473827, 0.33673793, 0.33302635, 0.33955628, 0.3353058, 0.3288757, 0.3284291, 0.32901928, 0.3294858, 0.32730123, 0.32578835, 0.32651705, 0.32644802, 0.3247533, 0.32396993, 0.32444337, 0.32413778, 0.32301626, 0.32277012, 0.32290322, 0.32244608, 0.32181436, 0.3215764, 0.32157633, 0.3213794, 0.32099524, 0.32082453, 0.32080713, 0.3206346, 0.3203826, 0.32027742, 0.3202389, 0.32010418, 0.3199453, 0.31987414, 0.31982777, 0.31973112, 0.31962752, 0.31957188, 0.31953356, 0.3194686, 0.31939995, 0.31936038, 0.31932887, 0.31928173, 0.31923574, 0.31920707, 0.31918183, 0.3191484, 0.31911725, 0.3190961]\n",
      "\u001b[1m1/1\u001b[0m \u001b[32m━━━━━━━━━━━━━━━━━━━━\u001b[0m\u001b[37m\u001b[0m \u001b[1m0s\u001b[0m 37ms/step\n",
      "[0.3510549, 0.35081494, 0.36184394, 0.36190194, 0.34225163, 0.3462717, 0.3544639, 0.34656867, 0.33437935, 0.33643848, 0.3473827, 0.33673793, 0.33302635, 0.33955628, 0.3353058, 0.3288757, 0.3284291, 0.32901928, 0.3294858, 0.32730123, 0.32578835, 0.32651705, 0.32644802, 0.3247533, 0.32396993, 0.32444337, 0.32413778, 0.32301626, 0.32277012, 0.32290322, 0.32244608, 0.32181436, 0.3215764, 0.32157633, 0.3213794, 0.32099524, 0.32082453, 0.32080713, 0.3206346, 0.3203826, 0.32027742, 0.3202389, 0.32010418, 0.3199453, 0.31987414, 0.31982777, 0.31973112, 0.31962752, 0.31957188, 0.31953356, 0.3194686, 0.31939995, 0.31936038, 0.31932887, 0.31928173, 0.31923574, 0.31920707, 0.31918183, 0.3191484, 0.31911725, 0.3190961, 0.31907663]\n",
      "\u001b[1m1/1\u001b[0m \u001b[32m━━━━━━━━━━━━━━━━━━━━\u001b[0m\u001b[37m\u001b[0m \u001b[1m0s\u001b[0m 40ms/step\n",
      "[0.3510549, 0.35081494, 0.36184394, 0.36190194, 0.34225163, 0.3462717, 0.3544639, 0.34656867, 0.33437935, 0.33643848, 0.3473827, 0.33673793, 0.33302635, 0.33955628, 0.3353058, 0.3288757, 0.3284291, 0.32901928, 0.3294858, 0.32730123, 0.32578835, 0.32651705, 0.32644802, 0.3247533, 0.32396993, 0.32444337, 0.32413778, 0.32301626, 0.32277012, 0.32290322, 0.32244608, 0.32181436, 0.3215764, 0.32157633, 0.3213794, 0.32099524, 0.32082453, 0.32080713, 0.3206346, 0.3203826, 0.32027742, 0.3202389, 0.32010418, 0.3199453, 0.31987414, 0.31982777, 0.31973112, 0.31962752, 0.31957188, 0.31953356, 0.3194686, 0.31939995, 0.31936038, 0.31932887, 0.31928173, 0.31923574, 0.31920707, 0.31918183, 0.3191484, 0.31911725, 0.3190961, 0.31907663, 0.31905317]\n",
      "\u001b[1m1/1\u001b[0m \u001b[32m━━━━━━━━━━━━━━━━━━━━\u001b[0m\u001b[37m\u001b[0m \u001b[1m0s\u001b[0m 44ms/step\n",
      "[0.3510549, 0.35081494, 0.36184394, 0.36190194, 0.34225163, 0.3462717, 0.3544639, 0.34656867, 0.33437935, 0.33643848, 0.3473827, 0.33673793, 0.33302635, 0.33955628, 0.3353058, 0.3288757, 0.3284291, 0.32901928, 0.3294858, 0.32730123, 0.32578835, 0.32651705, 0.32644802, 0.3247533, 0.32396993, 0.32444337, 0.32413778, 0.32301626, 0.32277012, 0.32290322, 0.32244608, 0.32181436, 0.3215764, 0.32157633, 0.3213794, 0.32099524, 0.32082453, 0.32080713, 0.3206346, 0.3203826, 0.32027742, 0.3202389, 0.32010418, 0.3199453, 0.31987414, 0.31982777, 0.31973112, 0.31962752, 0.31957188, 0.31953356, 0.3194686, 0.31939995, 0.31936038, 0.31932887, 0.31928173, 0.31923574, 0.31920707, 0.31918183, 0.3191484, 0.31911725, 0.3190961, 0.31907663, 0.31905317, 0.31903166]\n",
      "\u001b[1m1/1\u001b[0m \u001b[32m━━━━━━━━━━━━━━━━━━━━\u001b[0m\u001b[37m\u001b[0m \u001b[1m0s\u001b[0m 44ms/step\n",
      "[0.3510549, 0.35081494, 0.36184394, 0.36190194, 0.34225163, 0.3462717, 0.3544639, 0.34656867, 0.33437935, 0.33643848, 0.3473827, 0.33673793, 0.33302635, 0.33955628, 0.3353058, 0.3288757, 0.3284291, 0.32901928, 0.3294858, 0.32730123, 0.32578835, 0.32651705, 0.32644802, 0.3247533, 0.32396993, 0.32444337, 0.32413778, 0.32301626, 0.32277012, 0.32290322, 0.32244608, 0.32181436, 0.3215764, 0.32157633, 0.3213794, 0.32099524, 0.32082453, 0.32080713, 0.3206346, 0.3203826, 0.32027742, 0.3202389, 0.32010418, 0.3199453, 0.31987414, 0.31982777, 0.31973112, 0.31962752, 0.31957188, 0.31953356, 0.3194686, 0.31939995, 0.31936038, 0.31932887, 0.31928173, 0.31923574, 0.31920707, 0.31918183, 0.3191484, 0.31911725, 0.3190961, 0.31907663, 0.31905317, 0.31903166, 0.31901604]\n",
      "\u001b[1m1/1\u001b[0m \u001b[32m━━━━━━━━━━━━━━━━━━━━\u001b[0m\u001b[37m\u001b[0m \u001b[1m0s\u001b[0m 38ms/step\n",
      "[0.3510549, 0.35081494, 0.36184394, 0.36190194, 0.34225163, 0.3462717, 0.3544639, 0.34656867, 0.33437935, 0.33643848, 0.3473827, 0.33673793, 0.33302635, 0.33955628, 0.3353058, 0.3288757, 0.3284291, 0.32901928, 0.3294858, 0.32730123, 0.32578835, 0.32651705, 0.32644802, 0.3247533, 0.32396993, 0.32444337, 0.32413778, 0.32301626, 0.32277012, 0.32290322, 0.32244608, 0.32181436, 0.3215764, 0.32157633, 0.3213794, 0.32099524, 0.32082453, 0.32080713, 0.3206346, 0.3203826, 0.32027742, 0.3202389, 0.32010418, 0.3199453, 0.31987414, 0.31982777, 0.31973112, 0.31962752, 0.31957188, 0.31953356, 0.3194686, 0.31939995, 0.31936038, 0.31932887, 0.31928173, 0.31923574, 0.31920707, 0.31918183, 0.3191484, 0.31911725, 0.3190961, 0.31907663, 0.31905317, 0.31903166, 0.31901604, 0.31900156]\n",
      "\u001b[1m1/1\u001b[0m \u001b[32m━━━━━━━━━━━━━━━━━━━━\u001b[0m\u001b[37m\u001b[0m \u001b[1m0s\u001b[0m 41ms/step\n",
      "[0.3510549, 0.35081494, 0.36184394, 0.36190194, 0.34225163, 0.3462717, 0.3544639, 0.34656867, 0.33437935, 0.33643848, 0.3473827, 0.33673793, 0.33302635, 0.33955628, 0.3353058, 0.3288757, 0.3284291, 0.32901928, 0.3294858, 0.32730123, 0.32578835, 0.32651705, 0.32644802, 0.3247533, 0.32396993, 0.32444337, 0.32413778, 0.32301626, 0.32277012, 0.32290322, 0.32244608, 0.32181436, 0.3215764, 0.32157633, 0.3213794, 0.32099524, 0.32082453, 0.32080713, 0.3206346, 0.3203826, 0.32027742, 0.3202389, 0.32010418, 0.3199453, 0.31987414, 0.31982777, 0.31973112, 0.31962752, 0.31957188, 0.31953356, 0.3194686, 0.31939995, 0.31936038, 0.31932887, 0.31928173, 0.31923574, 0.31920707, 0.31918183, 0.3191484, 0.31911725, 0.3190961, 0.31907663, 0.31905317, 0.31903166, 0.31901604, 0.31900156, 0.31898507]\n",
      "\u001b[1m1/1\u001b[0m \u001b[32m━━━━━━━━━━━━━━━━━━━━\u001b[0m\u001b[37m\u001b[0m \u001b[1m0s\u001b[0m 39ms/step\n",
      "[0.3510549, 0.35081494, 0.36184394, 0.36190194, 0.34225163, 0.3462717, 0.3544639, 0.34656867, 0.33437935, 0.33643848, 0.3473827, 0.33673793, 0.33302635, 0.33955628, 0.3353058, 0.3288757, 0.3284291, 0.32901928, 0.3294858, 0.32730123, 0.32578835, 0.32651705, 0.32644802, 0.3247533, 0.32396993, 0.32444337, 0.32413778, 0.32301626, 0.32277012, 0.32290322, 0.32244608, 0.32181436, 0.3215764, 0.32157633, 0.3213794, 0.32099524, 0.32082453, 0.32080713, 0.3206346, 0.3203826, 0.32027742, 0.3202389, 0.32010418, 0.3199453, 0.31987414, 0.31982777, 0.31973112, 0.31962752, 0.31957188, 0.31953356, 0.3194686, 0.31939995, 0.31936038, 0.31932887, 0.31928173, 0.31923574, 0.31920707, 0.31918183, 0.3191484, 0.31911725, 0.3190961, 0.31907663, 0.31905317, 0.31903166, 0.31901604, 0.31900156, 0.31898507, 0.3189701]\n",
      "\u001b[1m1/1\u001b[0m \u001b[32m━━━━━━━━━━━━━━━━━━━━\u001b[0m\u001b[37m\u001b[0m \u001b[1m0s\u001b[0m 39ms/step\n",
      "[0.3510549, 0.35081494, 0.36184394, 0.36190194, 0.34225163, 0.3462717, 0.3544639, 0.34656867, 0.33437935, 0.33643848, 0.3473827, 0.33673793, 0.33302635, 0.33955628, 0.3353058, 0.3288757, 0.3284291, 0.32901928, 0.3294858, 0.32730123, 0.32578835, 0.32651705, 0.32644802, 0.3247533, 0.32396993, 0.32444337, 0.32413778, 0.32301626, 0.32277012, 0.32290322, 0.32244608, 0.32181436, 0.3215764, 0.32157633, 0.3213794, 0.32099524, 0.32082453, 0.32080713, 0.3206346, 0.3203826, 0.32027742, 0.3202389, 0.32010418, 0.3199453, 0.31987414, 0.31982777, 0.31973112, 0.31962752, 0.31957188, 0.31953356, 0.3194686, 0.31939995, 0.31936038, 0.31932887, 0.31928173, 0.31923574, 0.31920707, 0.31918183, 0.3191484, 0.31911725, 0.3190961, 0.31907663, 0.31905317, 0.31903166, 0.31901604, 0.31900156, 0.31898507, 0.3189701, 0.3189588]\n",
      "\u001b[1m1/1\u001b[0m \u001b[32m━━━━━━━━━━━━━━━━━━━━\u001b[0m\u001b[37m\u001b[0m \u001b[1m0s\u001b[0m 38ms/step\n",
      "[0.3510549, 0.35081494, 0.36184394, 0.36190194, 0.34225163, 0.3462717, 0.3544639, 0.34656867, 0.33437935, 0.33643848, 0.3473827, 0.33673793, 0.33302635, 0.33955628, 0.3353058, 0.3288757, 0.3284291, 0.32901928, 0.3294858, 0.32730123, 0.32578835, 0.32651705, 0.32644802, 0.3247533, 0.32396993, 0.32444337, 0.32413778, 0.32301626, 0.32277012, 0.32290322, 0.32244608, 0.32181436, 0.3215764, 0.32157633, 0.3213794, 0.32099524, 0.32082453, 0.32080713, 0.3206346, 0.3203826, 0.32027742, 0.3202389, 0.32010418, 0.3199453, 0.31987414, 0.31982777, 0.31973112, 0.31962752, 0.31957188, 0.31953356, 0.3194686, 0.31939995, 0.31936038, 0.31932887, 0.31928173, 0.31923574, 0.31920707, 0.31918183, 0.3191484, 0.31911725, 0.3190961, 0.31907663, 0.31905317, 0.31903166, 0.31901604, 0.31900156, 0.31898507, 0.3189701, 0.3189588, 0.31894797]\n",
      "\u001b[1m1/1\u001b[0m \u001b[32m━━━━━━━━━━━━━━━━━━━━\u001b[0m\u001b[37m\u001b[0m \u001b[1m0s\u001b[0m 38ms/step\n",
      "[0.3510549, 0.35081494, 0.36184394, 0.36190194, 0.34225163, 0.3462717, 0.3544639, 0.34656867, 0.33437935, 0.33643848, 0.3473827, 0.33673793, 0.33302635, 0.33955628, 0.3353058, 0.3288757, 0.3284291, 0.32901928, 0.3294858, 0.32730123, 0.32578835, 0.32651705, 0.32644802, 0.3247533, 0.32396993, 0.32444337, 0.32413778, 0.32301626, 0.32277012, 0.32290322, 0.32244608, 0.32181436, 0.3215764, 0.32157633, 0.3213794, 0.32099524, 0.32082453, 0.32080713, 0.3206346, 0.3203826, 0.32027742, 0.3202389, 0.32010418, 0.3199453, 0.31987414, 0.31982777, 0.31973112, 0.31962752, 0.31957188, 0.31953356, 0.3194686, 0.31939995, 0.31936038, 0.31932887, 0.31928173, 0.31923574, 0.31920707, 0.31918183, 0.3191484, 0.31911725, 0.3190961, 0.31907663, 0.31905317, 0.31903166, 0.31901604, 0.31900156, 0.31898507, 0.3189701, 0.3189588, 0.31894797, 0.3189363]\n",
      "\u001b[1m1/1\u001b[0m \u001b[32m━━━━━━━━━━━━━━━━━━━━\u001b[0m\u001b[37m\u001b[0m \u001b[1m0s\u001b[0m 43ms/step\n",
      "[0.3510549, 0.35081494, 0.36184394, 0.36190194, 0.34225163, 0.3462717, 0.3544639, 0.34656867, 0.33437935, 0.33643848, 0.3473827, 0.33673793, 0.33302635, 0.33955628, 0.3353058, 0.3288757, 0.3284291, 0.32901928, 0.3294858, 0.32730123, 0.32578835, 0.32651705, 0.32644802, 0.3247533, 0.32396993, 0.32444337, 0.32413778, 0.32301626, 0.32277012, 0.32290322, 0.32244608, 0.32181436, 0.3215764, 0.32157633, 0.3213794, 0.32099524, 0.32082453, 0.32080713, 0.3206346, 0.3203826, 0.32027742, 0.3202389, 0.32010418, 0.3199453, 0.31987414, 0.31982777, 0.31973112, 0.31962752, 0.31957188, 0.31953356, 0.3194686, 0.31939995, 0.31936038, 0.31932887, 0.31928173, 0.31923574, 0.31920707, 0.31918183, 0.3191484, 0.31911725, 0.3190961, 0.31907663, 0.31905317, 0.31903166, 0.31901604, 0.31900156, 0.31898507, 0.3189701, 0.3189588, 0.31894797, 0.3189363, 0.31892586]\n",
      "\u001b[1m1/1\u001b[0m \u001b[32m━━━━━━━━━━━━━━━━━━━━\u001b[0m\u001b[37m\u001b[0m \u001b[1m0s\u001b[0m 40ms/step\n",
      "[0.3510549, 0.35081494, 0.36184394, 0.36190194, 0.34225163, 0.3462717, 0.3544639, 0.34656867, 0.33437935, 0.33643848, 0.3473827, 0.33673793, 0.33302635, 0.33955628, 0.3353058, 0.3288757, 0.3284291, 0.32901928, 0.3294858, 0.32730123, 0.32578835, 0.32651705, 0.32644802, 0.3247533, 0.32396993, 0.32444337, 0.32413778, 0.32301626, 0.32277012, 0.32290322, 0.32244608, 0.32181436, 0.3215764, 0.32157633, 0.3213794, 0.32099524, 0.32082453, 0.32080713, 0.3206346, 0.3203826, 0.32027742, 0.3202389, 0.32010418, 0.3199453, 0.31987414, 0.31982777, 0.31973112, 0.31962752, 0.31957188, 0.31953356, 0.3194686, 0.31939995, 0.31936038, 0.31932887, 0.31928173, 0.31923574, 0.31920707, 0.31918183, 0.3191484, 0.31911725, 0.3190961, 0.31907663, 0.31905317, 0.31903166, 0.31901604, 0.31900156, 0.31898507, 0.3189701, 0.3189588, 0.31894797, 0.3189363, 0.31892586, 0.31891754]\n",
      "\u001b[1m1/1\u001b[0m \u001b[32m━━━━━━━━━━━━━━━━━━━━\u001b[0m\u001b[37m\u001b[0m \u001b[1m0s\u001b[0m 43ms/step\n",
      "[0.3510549, 0.35081494, 0.36184394, 0.36190194, 0.34225163, 0.3462717, 0.3544639, 0.34656867, 0.33437935, 0.33643848, 0.3473827, 0.33673793, 0.33302635, 0.33955628, 0.3353058, 0.3288757, 0.3284291, 0.32901928, 0.3294858, 0.32730123, 0.32578835, 0.32651705, 0.32644802, 0.3247533, 0.32396993, 0.32444337, 0.32413778, 0.32301626, 0.32277012, 0.32290322, 0.32244608, 0.32181436, 0.3215764, 0.32157633, 0.3213794, 0.32099524, 0.32082453, 0.32080713, 0.3206346, 0.3203826, 0.32027742, 0.3202389, 0.32010418, 0.3199453, 0.31987414, 0.31982777, 0.31973112, 0.31962752, 0.31957188, 0.31953356, 0.3194686, 0.31939995, 0.31936038, 0.31932887, 0.31928173, 0.31923574, 0.31920707, 0.31918183, 0.3191484, 0.31911725, 0.3190961, 0.31907663, 0.31905317, 0.31903166, 0.31901604, 0.31900156, 0.31898507, 0.3189701, 0.3189588, 0.31894797, 0.3189363, 0.31892586, 0.31891754, 0.3189096]\n",
      "\u001b[1m1/1\u001b[0m \u001b[32m━━━━━━━━━━━━━━━━━━━━\u001b[0m\u001b[37m\u001b[0m \u001b[1m0s\u001b[0m 41ms/step\n",
      "[0.3510549, 0.35081494, 0.36184394, 0.36190194, 0.34225163, 0.3462717, 0.3544639, 0.34656867, 0.33437935, 0.33643848, 0.3473827, 0.33673793, 0.33302635, 0.33955628, 0.3353058, 0.3288757, 0.3284291, 0.32901928, 0.3294858, 0.32730123, 0.32578835, 0.32651705, 0.32644802, 0.3247533, 0.32396993, 0.32444337, 0.32413778, 0.32301626, 0.32277012, 0.32290322, 0.32244608, 0.32181436, 0.3215764, 0.32157633, 0.3213794, 0.32099524, 0.32082453, 0.32080713, 0.3206346, 0.3203826, 0.32027742, 0.3202389, 0.32010418, 0.3199453, 0.31987414, 0.31982777, 0.31973112, 0.31962752, 0.31957188, 0.31953356, 0.3194686, 0.31939995, 0.31936038, 0.31932887, 0.31928173, 0.31923574, 0.31920707, 0.31918183, 0.3191484, 0.31911725, 0.3190961, 0.31907663, 0.31905317, 0.31903166, 0.31901604, 0.31900156, 0.31898507, 0.3189701, 0.3189588, 0.31894797, 0.3189363, 0.31892586, 0.31891754, 0.3189096, 0.31890133]\n",
      "\u001b[1m1/1\u001b[0m \u001b[32m━━━━━━━━━━━━━━━━━━━━\u001b[0m\u001b[37m\u001b[0m \u001b[1m0s\u001b[0m 38ms/step\n",
      "[0.3510549, 0.35081494, 0.36184394, 0.36190194, 0.34225163, 0.3462717, 0.3544639, 0.34656867, 0.33437935, 0.33643848, 0.3473827, 0.33673793, 0.33302635, 0.33955628, 0.3353058, 0.3288757, 0.3284291, 0.32901928, 0.3294858, 0.32730123, 0.32578835, 0.32651705, 0.32644802, 0.3247533, 0.32396993, 0.32444337, 0.32413778, 0.32301626, 0.32277012, 0.32290322, 0.32244608, 0.32181436, 0.3215764, 0.32157633, 0.3213794, 0.32099524, 0.32082453, 0.32080713, 0.3206346, 0.3203826, 0.32027742, 0.3202389, 0.32010418, 0.3199453, 0.31987414, 0.31982777, 0.31973112, 0.31962752, 0.31957188, 0.31953356, 0.3194686, 0.31939995, 0.31936038, 0.31932887, 0.31928173, 0.31923574, 0.31920707, 0.31918183, 0.3191484, 0.31911725, 0.3190961, 0.31907663, 0.31905317, 0.31903166, 0.31901604, 0.31900156, 0.31898507, 0.3189701, 0.3189588, 0.31894797, 0.3189363, 0.31892586, 0.31891754, 0.3189096, 0.31890133, 0.31889394]\n",
      "\u001b[1m1/1\u001b[0m \u001b[32m━━━━━━━━━━━━━━━━━━━━\u001b[0m\u001b[37m\u001b[0m \u001b[1m0s\u001b[0m 38ms/step\n",
      "[0.3510549, 0.35081494, 0.36184394, 0.36190194, 0.34225163, 0.3462717, 0.3544639, 0.34656867, 0.33437935, 0.33643848, 0.3473827, 0.33673793, 0.33302635, 0.33955628, 0.3353058, 0.3288757, 0.3284291, 0.32901928, 0.3294858, 0.32730123, 0.32578835, 0.32651705, 0.32644802, 0.3247533, 0.32396993, 0.32444337, 0.32413778, 0.32301626, 0.32277012, 0.32290322, 0.32244608, 0.32181436, 0.3215764, 0.32157633, 0.3213794, 0.32099524, 0.32082453, 0.32080713, 0.3206346, 0.3203826, 0.32027742, 0.3202389, 0.32010418, 0.3199453, 0.31987414, 0.31982777, 0.31973112, 0.31962752, 0.31957188, 0.31953356, 0.3194686, 0.31939995, 0.31936038, 0.31932887, 0.31928173, 0.31923574, 0.31920707, 0.31918183, 0.3191484, 0.31911725, 0.3190961, 0.31907663, 0.31905317, 0.31903166, 0.31901604, 0.31900156, 0.31898507, 0.3189701, 0.3189588, 0.31894797, 0.3189363, 0.31892586, 0.31891754, 0.3189096, 0.31890133, 0.31889394, 0.3188879]\n",
      "\u001b[1m1/1\u001b[0m \u001b[32m━━━━━━━━━━━━━━━━━━━━\u001b[0m\u001b[37m\u001b[0m \u001b[1m0s\u001b[0m 38ms/step\n",
      "[0.3510549, 0.35081494, 0.36184394, 0.36190194, 0.34225163, 0.3462717, 0.3544639, 0.34656867, 0.33437935, 0.33643848, 0.3473827, 0.33673793, 0.33302635, 0.33955628, 0.3353058, 0.3288757, 0.3284291, 0.32901928, 0.3294858, 0.32730123, 0.32578835, 0.32651705, 0.32644802, 0.3247533, 0.32396993, 0.32444337, 0.32413778, 0.32301626, 0.32277012, 0.32290322, 0.32244608, 0.32181436, 0.3215764, 0.32157633, 0.3213794, 0.32099524, 0.32082453, 0.32080713, 0.3206346, 0.3203826, 0.32027742, 0.3202389, 0.32010418, 0.3199453, 0.31987414, 0.31982777, 0.31973112, 0.31962752, 0.31957188, 0.31953356, 0.3194686, 0.31939995, 0.31936038, 0.31932887, 0.31928173, 0.31923574, 0.31920707, 0.31918183, 0.3191484, 0.31911725, 0.3190961, 0.31907663, 0.31905317, 0.31903166, 0.31901604, 0.31900156, 0.31898507, 0.3189701, 0.3189588, 0.31894797, 0.3189363, 0.31892586, 0.31891754, 0.3189096, 0.31890133, 0.31889394, 0.3188879, 0.31888208]\n",
      "\u001b[1m1/1\u001b[0m \u001b[32m━━━━━━━━━━━━━━━━━━━━\u001b[0m\u001b[37m\u001b[0m \u001b[1m0s\u001b[0m 46ms/step\n",
      "[0.3510549, 0.35081494, 0.36184394, 0.36190194, 0.34225163, 0.3462717, 0.3544639, 0.34656867, 0.33437935, 0.33643848, 0.3473827, 0.33673793, 0.33302635, 0.33955628, 0.3353058, 0.3288757, 0.3284291, 0.32901928, 0.3294858, 0.32730123, 0.32578835, 0.32651705, 0.32644802, 0.3247533, 0.32396993, 0.32444337, 0.32413778, 0.32301626, 0.32277012, 0.32290322, 0.32244608, 0.32181436, 0.3215764, 0.32157633, 0.3213794, 0.32099524, 0.32082453, 0.32080713, 0.3206346, 0.3203826, 0.32027742, 0.3202389, 0.32010418, 0.3199453, 0.31987414, 0.31982777, 0.31973112, 0.31962752, 0.31957188, 0.31953356, 0.3194686, 0.31939995, 0.31936038, 0.31932887, 0.31928173, 0.31923574, 0.31920707, 0.31918183, 0.3191484, 0.31911725, 0.3190961, 0.31907663, 0.31905317, 0.31903166, 0.31901604, 0.31900156, 0.31898507, 0.3189701, 0.3189588, 0.31894797, 0.3189363, 0.31892586, 0.31891754, 0.3189096, 0.31890133, 0.31889394, 0.3188879, 0.31888208, 0.31887624]\n",
      "\u001b[1m1/1\u001b[0m \u001b[32m━━━━━━━━━━━━━━━━━━━━\u001b[0m\u001b[37m\u001b[0m \u001b[1m0s\u001b[0m 40ms/step\n",
      "[0.3510549, 0.35081494, 0.36184394, 0.36190194, 0.34225163, 0.3462717, 0.3544639, 0.34656867, 0.33437935, 0.33643848, 0.3473827, 0.33673793, 0.33302635, 0.33955628, 0.3353058, 0.3288757, 0.3284291, 0.32901928, 0.3294858, 0.32730123, 0.32578835, 0.32651705, 0.32644802, 0.3247533, 0.32396993, 0.32444337, 0.32413778, 0.32301626, 0.32277012, 0.32290322, 0.32244608, 0.32181436, 0.3215764, 0.32157633, 0.3213794, 0.32099524, 0.32082453, 0.32080713, 0.3206346, 0.3203826, 0.32027742, 0.3202389, 0.32010418, 0.3199453, 0.31987414, 0.31982777, 0.31973112, 0.31962752, 0.31957188, 0.31953356, 0.3194686, 0.31939995, 0.31936038, 0.31932887, 0.31928173, 0.31923574, 0.31920707, 0.31918183, 0.3191484, 0.31911725, 0.3190961, 0.31907663, 0.31905317, 0.31903166, 0.31901604, 0.31900156, 0.31898507, 0.3189701, 0.3189588, 0.31894797, 0.3189363, 0.31892586, 0.31891754, 0.3189096, 0.31890133, 0.31889394, 0.3188879, 0.31888208, 0.31887624, 0.318871]\n",
      "\u001b[1m1/1\u001b[0m \u001b[32m━━━━━━━━━━━━━━━━━━━━\u001b[0m\u001b[37m\u001b[0m \u001b[1m0s\u001b[0m 37ms/step\n",
      "[0.3510549, 0.35081494, 0.36184394, 0.36190194, 0.34225163, 0.3462717, 0.3544639, 0.34656867, 0.33437935, 0.33643848, 0.3473827, 0.33673793, 0.33302635, 0.33955628, 0.3353058, 0.3288757, 0.3284291, 0.32901928, 0.3294858, 0.32730123, 0.32578835, 0.32651705, 0.32644802, 0.3247533, 0.32396993, 0.32444337, 0.32413778, 0.32301626, 0.32277012, 0.32290322, 0.32244608, 0.32181436, 0.3215764, 0.32157633, 0.3213794, 0.32099524, 0.32082453, 0.32080713, 0.3206346, 0.3203826, 0.32027742, 0.3202389, 0.32010418, 0.3199453, 0.31987414, 0.31982777, 0.31973112, 0.31962752, 0.31957188, 0.31953356, 0.3194686, 0.31939995, 0.31936038, 0.31932887, 0.31928173, 0.31923574, 0.31920707, 0.31918183, 0.3191484, 0.31911725, 0.3190961, 0.31907663, 0.31905317, 0.31903166, 0.31901604, 0.31900156, 0.31898507, 0.3189701, 0.3189588, 0.31894797, 0.3189363, 0.31892586, 0.31891754, 0.3189096, 0.31890133, 0.31889394, 0.3188879, 0.31888208, 0.31887624, 0.318871, 0.31886658]\n",
      "\u001b[1m1/1\u001b[0m \u001b[32m━━━━━━━━━━━━━━━━━━━━\u001b[0m\u001b[37m\u001b[0m \u001b[1m0s\u001b[0m 43ms/step\n",
      "[0.3510549, 0.35081494, 0.36184394, 0.36190194, 0.34225163, 0.3462717, 0.3544639, 0.34656867, 0.33437935, 0.33643848, 0.3473827, 0.33673793, 0.33302635, 0.33955628, 0.3353058, 0.3288757, 0.3284291, 0.32901928, 0.3294858, 0.32730123, 0.32578835, 0.32651705, 0.32644802, 0.3247533, 0.32396993, 0.32444337, 0.32413778, 0.32301626, 0.32277012, 0.32290322, 0.32244608, 0.32181436, 0.3215764, 0.32157633, 0.3213794, 0.32099524, 0.32082453, 0.32080713, 0.3206346, 0.3203826, 0.32027742, 0.3202389, 0.32010418, 0.3199453, 0.31987414, 0.31982777, 0.31973112, 0.31962752, 0.31957188, 0.31953356, 0.3194686, 0.31939995, 0.31936038, 0.31932887, 0.31928173, 0.31923574, 0.31920707, 0.31918183, 0.3191484, 0.31911725, 0.3190961, 0.31907663, 0.31905317, 0.31903166, 0.31901604, 0.31900156, 0.31898507, 0.3189701, 0.3189588, 0.31894797, 0.3189363, 0.31892586, 0.31891754, 0.3189096, 0.31890133, 0.31889394, 0.3188879, 0.31888208, 0.31887624, 0.318871, 0.31886658, 0.31886238]\n",
      "\u001b[1m1/1\u001b[0m \u001b[32m━━━━━━━━━━━━━━━━━━━━\u001b[0m\u001b[37m\u001b[0m \u001b[1m0s\u001b[0m 43ms/step\n",
      "[0.3510549, 0.35081494, 0.36184394, 0.36190194, 0.34225163, 0.3462717, 0.3544639, 0.34656867, 0.33437935, 0.33643848, 0.3473827, 0.33673793, 0.33302635, 0.33955628, 0.3353058, 0.3288757, 0.3284291, 0.32901928, 0.3294858, 0.32730123, 0.32578835, 0.32651705, 0.32644802, 0.3247533, 0.32396993, 0.32444337, 0.32413778, 0.32301626, 0.32277012, 0.32290322, 0.32244608, 0.32181436, 0.3215764, 0.32157633, 0.3213794, 0.32099524, 0.32082453, 0.32080713, 0.3206346, 0.3203826, 0.32027742, 0.3202389, 0.32010418, 0.3199453, 0.31987414, 0.31982777, 0.31973112, 0.31962752, 0.31957188, 0.31953356, 0.3194686, 0.31939995, 0.31936038, 0.31932887, 0.31928173, 0.31923574, 0.31920707, 0.31918183, 0.3191484, 0.31911725, 0.3190961, 0.31907663, 0.31905317, 0.31903166, 0.31901604, 0.31900156, 0.31898507, 0.3189701, 0.3189588, 0.31894797, 0.3189363, 0.31892586, 0.31891754, 0.3189096, 0.31890133, 0.31889394, 0.3188879, 0.31888208, 0.31887624, 0.318871, 0.31886658, 0.31886238, 0.3188582]\n",
      "\u001b[1m1/1\u001b[0m \u001b[32m━━━━━━━━━━━━━━━━━━━━\u001b[0m\u001b[37m\u001b[0m \u001b[1m0s\u001b[0m 39ms/step\n",
      "[0.3510549, 0.35081494, 0.36184394, 0.36190194, 0.34225163, 0.3462717, 0.3544639, 0.34656867, 0.33437935, 0.33643848, 0.3473827, 0.33673793, 0.33302635, 0.33955628, 0.3353058, 0.3288757, 0.3284291, 0.32901928, 0.3294858, 0.32730123, 0.32578835, 0.32651705, 0.32644802, 0.3247533, 0.32396993, 0.32444337, 0.32413778, 0.32301626, 0.32277012, 0.32290322, 0.32244608, 0.32181436, 0.3215764, 0.32157633, 0.3213794, 0.32099524, 0.32082453, 0.32080713, 0.3206346, 0.3203826, 0.32027742, 0.3202389, 0.32010418, 0.3199453, 0.31987414, 0.31982777, 0.31973112, 0.31962752, 0.31957188, 0.31953356, 0.3194686, 0.31939995, 0.31936038, 0.31932887, 0.31928173, 0.31923574, 0.31920707, 0.31918183, 0.3191484, 0.31911725, 0.3190961, 0.31907663, 0.31905317, 0.31903166, 0.31901604, 0.31900156, 0.31898507, 0.3189701, 0.3189588, 0.31894797, 0.3189363, 0.31892586, 0.31891754, 0.3189096, 0.31890133, 0.31889394, 0.3188879, 0.31888208, 0.31887624, 0.318871, 0.31886658, 0.31886238, 0.3188582, 0.31885454]\n",
      "\u001b[1m1/1\u001b[0m \u001b[32m━━━━━━━━━━━━━━━━━━━━\u001b[0m\u001b[37m\u001b[0m \u001b[1m0s\u001b[0m 38ms/step\n",
      "[0.3510549, 0.35081494, 0.36184394, 0.36190194, 0.34225163, 0.3462717, 0.3544639, 0.34656867, 0.33437935, 0.33643848, 0.3473827, 0.33673793, 0.33302635, 0.33955628, 0.3353058, 0.3288757, 0.3284291, 0.32901928, 0.3294858, 0.32730123, 0.32578835, 0.32651705, 0.32644802, 0.3247533, 0.32396993, 0.32444337, 0.32413778, 0.32301626, 0.32277012, 0.32290322, 0.32244608, 0.32181436, 0.3215764, 0.32157633, 0.3213794, 0.32099524, 0.32082453, 0.32080713, 0.3206346, 0.3203826, 0.32027742, 0.3202389, 0.32010418, 0.3199453, 0.31987414, 0.31982777, 0.31973112, 0.31962752, 0.31957188, 0.31953356, 0.3194686, 0.31939995, 0.31936038, 0.31932887, 0.31928173, 0.31923574, 0.31920707, 0.31918183, 0.3191484, 0.31911725, 0.3190961, 0.31907663, 0.31905317, 0.31903166, 0.31901604, 0.31900156, 0.31898507, 0.3189701, 0.3189588, 0.31894797, 0.3189363, 0.31892586, 0.31891754, 0.3189096, 0.31890133, 0.31889394, 0.3188879, 0.31888208, 0.31887624, 0.318871, 0.31886658, 0.31886238, 0.3188582, 0.31885454, 0.3188513]\n",
      "\u001b[1m1/1\u001b[0m \u001b[32m━━━━━━━━━━━━━━━━━━━━\u001b[0m\u001b[37m\u001b[0m \u001b[1m0s\u001b[0m 38ms/step\n",
      "[0.3510549, 0.35081494, 0.36184394, 0.36190194, 0.34225163, 0.3462717, 0.3544639, 0.34656867, 0.33437935, 0.33643848, 0.3473827, 0.33673793, 0.33302635, 0.33955628, 0.3353058, 0.3288757, 0.3284291, 0.32901928, 0.3294858, 0.32730123, 0.32578835, 0.32651705, 0.32644802, 0.3247533, 0.32396993, 0.32444337, 0.32413778, 0.32301626, 0.32277012, 0.32290322, 0.32244608, 0.32181436, 0.3215764, 0.32157633, 0.3213794, 0.32099524, 0.32082453, 0.32080713, 0.3206346, 0.3203826, 0.32027742, 0.3202389, 0.32010418, 0.3199453, 0.31987414, 0.31982777, 0.31973112, 0.31962752, 0.31957188, 0.31953356, 0.3194686, 0.31939995, 0.31936038, 0.31932887, 0.31928173, 0.31923574, 0.31920707, 0.31918183, 0.3191484, 0.31911725, 0.3190961, 0.31907663, 0.31905317, 0.31903166, 0.31901604, 0.31900156, 0.31898507, 0.3189701, 0.3189588, 0.31894797, 0.3189363, 0.31892586, 0.31891754, 0.3189096, 0.31890133, 0.31889394, 0.3188879, 0.31888208, 0.31887624, 0.318871, 0.31886658, 0.31886238, 0.3188582, 0.31885454, 0.3188513, 0.31884825]\n",
      "\u001b[1m1/1\u001b[0m \u001b[32m━━━━━━━━━━━━━━━━━━━━\u001b[0m\u001b[37m\u001b[0m \u001b[1m0s\u001b[0m 42ms/step\n",
      "[0.3510549, 0.35081494, 0.36184394, 0.36190194, 0.34225163, 0.3462717, 0.3544639, 0.34656867, 0.33437935, 0.33643848, 0.3473827, 0.33673793, 0.33302635, 0.33955628, 0.3353058, 0.3288757, 0.3284291, 0.32901928, 0.3294858, 0.32730123, 0.32578835, 0.32651705, 0.32644802, 0.3247533, 0.32396993, 0.32444337, 0.32413778, 0.32301626, 0.32277012, 0.32290322, 0.32244608, 0.32181436, 0.3215764, 0.32157633, 0.3213794, 0.32099524, 0.32082453, 0.32080713, 0.3206346, 0.3203826, 0.32027742, 0.3202389, 0.32010418, 0.3199453, 0.31987414, 0.31982777, 0.31973112, 0.31962752, 0.31957188, 0.31953356, 0.3194686, 0.31939995, 0.31936038, 0.31932887, 0.31928173, 0.31923574, 0.31920707, 0.31918183, 0.3191484, 0.31911725, 0.3190961, 0.31907663, 0.31905317, 0.31903166, 0.31901604, 0.31900156, 0.31898507, 0.3189701, 0.3189588, 0.31894797, 0.3189363, 0.31892586, 0.31891754, 0.3189096, 0.31890133, 0.31889394, 0.3188879, 0.31888208, 0.31887624, 0.318871, 0.31886658, 0.31886238, 0.3188582, 0.31885454, 0.3188513, 0.31884825, 0.31884533]\n",
      "\u001b[1m1/1\u001b[0m \u001b[32m━━━━━━━━━━━━━━━━━━━━\u001b[0m\u001b[37m\u001b[0m \u001b[1m0s\u001b[0m 42ms/step\n",
      "[0.3510549, 0.35081494, 0.36184394, 0.36190194, 0.34225163, 0.3462717, 0.3544639, 0.34656867, 0.33437935, 0.33643848, 0.3473827, 0.33673793, 0.33302635, 0.33955628, 0.3353058, 0.3288757, 0.3284291, 0.32901928, 0.3294858, 0.32730123, 0.32578835, 0.32651705, 0.32644802, 0.3247533, 0.32396993, 0.32444337, 0.32413778, 0.32301626, 0.32277012, 0.32290322, 0.32244608, 0.32181436, 0.3215764, 0.32157633, 0.3213794, 0.32099524, 0.32082453, 0.32080713, 0.3206346, 0.3203826, 0.32027742, 0.3202389, 0.32010418, 0.3199453, 0.31987414, 0.31982777, 0.31973112, 0.31962752, 0.31957188, 0.31953356, 0.3194686, 0.31939995, 0.31936038, 0.31932887, 0.31928173, 0.31923574, 0.31920707, 0.31918183, 0.3191484, 0.31911725, 0.3190961, 0.31907663, 0.31905317, 0.31903166, 0.31901604, 0.31900156, 0.31898507, 0.3189701, 0.3189588, 0.31894797, 0.3189363, 0.31892586, 0.31891754, 0.3189096, 0.31890133, 0.31889394, 0.3188879, 0.31888208, 0.31887624, 0.318871, 0.31886658, 0.31886238, 0.3188582, 0.31885454, 0.3188513, 0.31884825, 0.31884533, 0.31884265]\n",
      "\u001b[1m1/1\u001b[0m \u001b[32m━━━━━━━━━━━━━━━━━━━━\u001b[0m\u001b[37m\u001b[0m \u001b[1m0s\u001b[0m 39ms/step\n",
      "[0.3510549, 0.35081494, 0.36184394, 0.36190194, 0.34225163, 0.3462717, 0.3544639, 0.34656867, 0.33437935, 0.33643848, 0.3473827, 0.33673793, 0.33302635, 0.33955628, 0.3353058, 0.3288757, 0.3284291, 0.32901928, 0.3294858, 0.32730123, 0.32578835, 0.32651705, 0.32644802, 0.3247533, 0.32396993, 0.32444337, 0.32413778, 0.32301626, 0.32277012, 0.32290322, 0.32244608, 0.32181436, 0.3215764, 0.32157633, 0.3213794, 0.32099524, 0.32082453, 0.32080713, 0.3206346, 0.3203826, 0.32027742, 0.3202389, 0.32010418, 0.3199453, 0.31987414, 0.31982777, 0.31973112, 0.31962752, 0.31957188, 0.31953356, 0.3194686, 0.31939995, 0.31936038, 0.31932887, 0.31928173, 0.31923574, 0.31920707, 0.31918183, 0.3191484, 0.31911725, 0.3190961, 0.31907663, 0.31905317, 0.31903166, 0.31901604, 0.31900156, 0.31898507, 0.3189701, 0.3189588, 0.31894797, 0.3189363, 0.31892586, 0.31891754, 0.3189096, 0.31890133, 0.31889394, 0.3188879, 0.31888208, 0.31887624, 0.318871, 0.31886658, 0.31886238, 0.3188582, 0.31885454, 0.3188513, 0.31884825, 0.31884533, 0.31884265, 0.31884032]\n",
      "\u001b[1m1/1\u001b[0m \u001b[32m━━━━━━━━━━━━━━━━━━━━\u001b[0m\u001b[37m\u001b[0m \u001b[1m0s\u001b[0m 36ms/step\n",
      "[0.3510549, 0.35081494, 0.36184394, 0.36190194, 0.34225163, 0.3462717, 0.3544639, 0.34656867, 0.33437935, 0.33643848, 0.3473827, 0.33673793, 0.33302635, 0.33955628, 0.3353058, 0.3288757, 0.3284291, 0.32901928, 0.3294858, 0.32730123, 0.32578835, 0.32651705, 0.32644802, 0.3247533, 0.32396993, 0.32444337, 0.32413778, 0.32301626, 0.32277012, 0.32290322, 0.32244608, 0.32181436, 0.3215764, 0.32157633, 0.3213794, 0.32099524, 0.32082453, 0.32080713, 0.3206346, 0.3203826, 0.32027742, 0.3202389, 0.32010418, 0.3199453, 0.31987414, 0.31982777, 0.31973112, 0.31962752, 0.31957188, 0.31953356, 0.3194686, 0.31939995, 0.31936038, 0.31932887, 0.31928173, 0.31923574, 0.31920707, 0.31918183, 0.3191484, 0.31911725, 0.3190961, 0.31907663, 0.31905317, 0.31903166, 0.31901604, 0.31900156, 0.31898507, 0.3189701, 0.3189588, 0.31894797, 0.3189363, 0.31892586, 0.31891754, 0.3189096, 0.31890133, 0.31889394, 0.3188879, 0.31888208, 0.31887624, 0.318871, 0.31886658, 0.31886238, 0.3188582, 0.31885454, 0.3188513, 0.31884825, 0.31884533, 0.31884265, 0.31884032, 0.31883812]\n",
      "                Date  Prediction  Code\n",
      "0   28-07-1991 06:00    0.351055    48\n",
      "1   28-07-1991 14:00    0.350815    48\n",
      "2   28-07-1991 22:00    0.361844    48\n",
      "3   29-07-1991 06:00    0.361902    48\n",
      "4   29-07-1991 14:00    0.342252    48\n",
      "..               ...         ...   ...\n",
      "85  25-08-1991 14:00    0.318848    48\n",
      "86  25-08-1991 22:00    0.318845    48\n",
      "87  26-08-1991 06:00    0.318843    48\n",
      "88  26-08-1991 14:00    0.318840    48\n",
      "89  26-08-1991 22:00    0.318838    48\n",
      "\n",
      "[90 rows x 3 columns]\n"
     ]
    }
   ],
   "source": [
    "from datetime import timedelta\n",
    "import pandas as pd\n",
    "\n",
    "future = 30 * 3  # 30 يوم × 3 قراءات يومية\n",
    "forecast = []\n",
    "Xin = x_test[-1:, :, :]\n",
    "dates = []\n",
    "codes = []\n",
    "\n",
    "# تحويل الفهرس إلى datetime لضمان الدقة\n",
    "test_id.index = pd.to_datetime(test_id.index)\n",
    "\n",
    "for i in range(future):\n",
    "    out = model.predict(Xin, batch_size=5)\n",
    "    forecast.append(out[0, 0])  \n",
    "    print(forecast)\n",
    "    \n",
    "    # تحديث المدخلات بالتنبؤ الجديد\n",
    "    Xin = insert_end(Xin, out[0, 0])  \n",
    "    \n",
    "    # حساب التاريخ والوقت لكل 8 ساعات\n",
    "    new_date = pd.to_datetime(test_id.index[-1]) + timedelta(hours=8 * (i + 1))\n",
    "    dates.append(new_date.strftime('%d-%m-%Y %H:%M'))\n",
    "    \n",
    "    # العثور على أقرب `code` متاح لهذا التنبؤ\n",
    "    closest_date = test_id.index[test_id.index.get_indexer([new_date], method='nearest')][0]\n",
    "    closest_code = test_id.loc[closest_date, 'code']\n",
    "    \n",
    "    codes.append(closest_code)\n",
    "\n",
    "# تحويل النتائج إلى DataFrame\n",
    "forecast_df = pd.DataFrame({'Date': dates, 'Prediction': forecast, 'Code': codes})\n",
    "\n",
    "# عرض النتيجة\n",
    "print(forecast_df)\n",
    "\n",
    "\n",
    "# # تحويل النتائج إلى DataFrame\n",
    "# forecast_df = pd.DataFrame({'Date': dates, 'Prediction': forecast, 'Code': codes})\n",
    "# print(forecast_df)\n"
   ]
  },
  {
   "cell_type": "code",
   "execution_count": 55,
   "metadata": {},
   "outputs": [
    {
     "data": {
      "text/plain": [
       "['28-07-1991 06:00',\n",
       " '28-07-1991 14:00',\n",
       " '28-07-1991 22:00',\n",
       " '29-07-1991 06:00',\n",
       " '29-07-1991 14:00',\n",
       " '29-07-1991 22:00',\n",
       " '30-07-1991 06:00',\n",
       " '30-07-1991 14:00',\n",
       " '30-07-1991 22:00',\n",
       " '31-07-1991 06:00',\n",
       " '31-07-1991 14:00',\n",
       " '31-07-1991 22:00',\n",
       " '01-08-1991 06:00',\n",
       " '01-08-1991 14:00',\n",
       " '01-08-1991 22:00',\n",
       " '02-08-1991 06:00',\n",
       " '02-08-1991 14:00',\n",
       " '02-08-1991 22:00',\n",
       " '03-08-1991 06:00',\n",
       " '03-08-1991 14:00',\n",
       " '03-08-1991 22:00',\n",
       " '04-08-1991 06:00',\n",
       " '04-08-1991 14:00',\n",
       " '04-08-1991 22:00',\n",
       " '05-08-1991 06:00',\n",
       " '05-08-1991 14:00',\n",
       " '05-08-1991 22:00',\n",
       " '06-08-1991 06:00',\n",
       " '06-08-1991 14:00',\n",
       " '06-08-1991 22:00',\n",
       " '07-08-1991 06:00',\n",
       " '07-08-1991 14:00',\n",
       " '07-08-1991 22:00',\n",
       " '08-08-1991 06:00',\n",
       " '08-08-1991 14:00',\n",
       " '08-08-1991 22:00',\n",
       " '09-08-1991 06:00',\n",
       " '09-08-1991 14:00',\n",
       " '09-08-1991 22:00',\n",
       " '10-08-1991 06:00',\n",
       " '10-08-1991 14:00',\n",
       " '10-08-1991 22:00',\n",
       " '11-08-1991 06:00',\n",
       " '11-08-1991 14:00',\n",
       " '11-08-1991 22:00',\n",
       " '12-08-1991 06:00',\n",
       " '12-08-1991 14:00',\n",
       " '12-08-1991 22:00',\n",
       " '13-08-1991 06:00',\n",
       " '13-08-1991 14:00',\n",
       " '13-08-1991 22:00',\n",
       " '14-08-1991 06:00',\n",
       " '14-08-1991 14:00',\n",
       " '14-08-1991 22:00',\n",
       " '15-08-1991 06:00',\n",
       " '15-08-1991 14:00',\n",
       " '15-08-1991 22:00',\n",
       " '16-08-1991 06:00',\n",
       " '16-08-1991 14:00',\n",
       " '16-08-1991 22:00',\n",
       " '17-08-1991 06:00',\n",
       " '17-08-1991 14:00',\n",
       " '17-08-1991 22:00',\n",
       " '18-08-1991 06:00',\n",
       " '18-08-1991 14:00',\n",
       " '18-08-1991 22:00',\n",
       " '19-08-1991 06:00',\n",
       " '19-08-1991 14:00',\n",
       " '19-08-1991 22:00',\n",
       " '20-08-1991 06:00',\n",
       " '20-08-1991 14:00',\n",
       " '20-08-1991 22:00',\n",
       " '21-08-1991 06:00',\n",
       " '21-08-1991 14:00',\n",
       " '21-08-1991 22:00',\n",
       " '22-08-1991 06:00',\n",
       " '22-08-1991 14:00',\n",
       " '22-08-1991 22:00',\n",
       " '23-08-1991 06:00',\n",
       " '23-08-1991 14:00',\n",
       " '23-08-1991 22:00',\n",
       " '24-08-1991 06:00',\n",
       " '24-08-1991 14:00',\n",
       " '24-08-1991 22:00',\n",
       " '25-08-1991 06:00',\n",
       " '25-08-1991 14:00',\n",
       " '25-08-1991 22:00',\n",
       " '26-08-1991 06:00',\n",
       " '26-08-1991 14:00',\n",
       " '26-08-1991 22:00']"
      ]
     },
     "execution_count": 55,
     "metadata": {},
     "output_type": "execute_result"
    }
   ],
   "source": [
    "dates"
   ]
  },
  {
   "cell_type": "code",
   "execution_count": 56,
   "metadata": {},
   "outputs": [],
   "source": [
    "# تحويل القوائم إلى NumPy array ومعالجة القيم\n",
    "forecasted_output = np.array(forecast).reshape(-1, 1)\n",
    "forecasted_output = scaler.inverse_transform(forecasted_output)\n",
    "\n",
    "# تحويل البيانات إلى DataFrame\n",
    "forecasted_output_df = pd.DataFrame(forecasted_output, columns=[\"Forecasted\"])\n",
    "date_df = pd.DataFrame(dates, columns=[\"Date\"])\n",
    "\n",
    "# إضافة عمود `code`\n",
    "code_column = pd.DataFrame({'Code': codes})"
   ]
  },
  {
   "cell_type": "code",
   "execution_count": 57,
   "metadata": {},
   "outputs": [
    {
     "name": "stdout",
     "output_type": "stream",
     "text": [
      "                Date  Forecasted  Code\n",
      "0   28-07-1991 06:00  169.209305    48\n",
      "1   28-07-1991 14:00  169.116196    48\n",
      "2   28-07-1991 22:00  173.395447    48\n",
      "3   29-07-1991 06:00  173.417953    48\n",
      "4   29-07-1991 14:00  165.793625    48\n",
      "..               ...         ...   ...\n",
      "85  25-08-1991 14:00  156.713120    48\n",
      "86  25-08-1991 22:00  156.711990    48\n",
      "87  26-08-1991 06:00  156.710938    48\n",
      "88  26-08-1991 14:00  156.710037    48\n",
      "89  26-08-1991 22:00  156.709183    48\n",
      "\n",
      "[90 rows x 3 columns]\n"
     ]
    }
   ],
   "source": [
    "# دمج الأعمدة في DataFrame واحد\n",
    "df_result = pd.concat([date_df, forecasted_output_df, code_column], axis=1)\n",
    "\n",
    "# عرض النتيجة النهائية\n",
    "print(df_result)"
   ]
  },
  {
   "cell_type": "code",
   "execution_count": 58,
   "metadata": {},
   "outputs": [
    {
     "data": {
      "text/html": [
       "<div>\n",
       "<style scoped>\n",
       "    .dataframe tbody tr th:only-of-type {\n",
       "        vertical-align: middle;\n",
       "    }\n",
       "\n",
       "    .dataframe tbody tr th {\n",
       "        vertical-align: top;\n",
       "    }\n",
       "\n",
       "    .dataframe thead th {\n",
       "        text-align: right;\n",
       "    }\n",
       "</style>\n",
       "<table border=\"1\" class=\"dataframe\">\n",
       "  <thead>\n",
       "    <tr style=\"text-align: right;\">\n",
       "      <th></th>\n",
       "      <th>Date</th>\n",
       "      <th>Forecasted</th>\n",
       "      <th>Code</th>\n",
       "    </tr>\n",
       "  </thead>\n",
       "  <tbody>\n",
       "    <tr>\n",
       "      <th>0</th>\n",
       "      <td>28-07-1991 06:00</td>\n",
       "      <td>169.209305</td>\n",
       "      <td>48</td>\n",
       "    </tr>\n",
       "    <tr>\n",
       "      <th>1</th>\n",
       "      <td>28-07-1991 14:00</td>\n",
       "      <td>169.116196</td>\n",
       "      <td>48</td>\n",
       "    </tr>\n",
       "    <tr>\n",
       "      <th>2</th>\n",
       "      <td>28-07-1991 22:00</td>\n",
       "      <td>173.395447</td>\n",
       "      <td>48</td>\n",
       "    </tr>\n",
       "    <tr>\n",
       "      <th>3</th>\n",
       "      <td>29-07-1991 06:00</td>\n",
       "      <td>173.417953</td>\n",
       "      <td>48</td>\n",
       "    </tr>\n",
       "    <tr>\n",
       "      <th>4</th>\n",
       "      <td>29-07-1991 14:00</td>\n",
       "      <td>165.793625</td>\n",
       "      <td>48</td>\n",
       "    </tr>\n",
       "    <tr>\n",
       "      <th>5</th>\n",
       "      <td>29-07-1991 22:00</td>\n",
       "      <td>167.353409</td>\n",
       "      <td>48</td>\n",
       "    </tr>\n",
       "    <tr>\n",
       "      <th>6</th>\n",
       "      <td>30-07-1991 06:00</td>\n",
       "      <td>170.531998</td>\n",
       "      <td>48</td>\n",
       "    </tr>\n",
       "    <tr>\n",
       "      <th>7</th>\n",
       "      <td>30-07-1991 14:00</td>\n",
       "      <td>167.468643</td>\n",
       "      <td>48</td>\n",
       "    </tr>\n",
       "    <tr>\n",
       "      <th>8</th>\n",
       "      <td>30-07-1991 22:00</td>\n",
       "      <td>162.739182</td>\n",
       "      <td>48</td>\n",
       "    </tr>\n",
       "    <tr>\n",
       "      <th>9</th>\n",
       "      <td>31-07-1991 06:00</td>\n",
       "      <td>163.538132</td>\n",
       "      <td>48</td>\n",
       "    </tr>\n",
       "    <tr>\n",
       "      <th>10</th>\n",
       "      <td>31-07-1991 14:00</td>\n",
       "      <td>167.784485</td>\n",
       "      <td>48</td>\n",
       "    </tr>\n",
       "    <tr>\n",
       "      <th>11</th>\n",
       "      <td>31-07-1991 22:00</td>\n",
       "      <td>163.654312</td>\n",
       "      <td>48</td>\n",
       "    </tr>\n",
       "    <tr>\n",
       "      <th>12</th>\n",
       "      <td>01-08-1991 06:00</td>\n",
       "      <td>162.214218</td>\n",
       "      <td>48</td>\n",
       "    </tr>\n",
       "    <tr>\n",
       "      <th>13</th>\n",
       "      <td>01-08-1991 14:00</td>\n",
       "      <td>164.747833</td>\n",
       "      <td>48</td>\n",
       "    </tr>\n",
       "    <tr>\n",
       "      <th>14</th>\n",
       "      <td>01-08-1991 22:00</td>\n",
       "      <td>163.098648</td>\n",
       "      <td>48</td>\n",
       "    </tr>\n",
       "    <tr>\n",
       "      <th>15</th>\n",
       "      <td>02-08-1991 06:00</td>\n",
       "      <td>160.603760</td>\n",
       "      <td>48</td>\n",
       "    </tr>\n",
       "    <tr>\n",
       "      <th>16</th>\n",
       "      <td>02-08-1991 14:00</td>\n",
       "      <td>160.430481</td>\n",
       "      <td>48</td>\n",
       "    </tr>\n",
       "    <tr>\n",
       "      <th>17</th>\n",
       "      <td>02-08-1991 22:00</td>\n",
       "      <td>160.659470</td>\n",
       "      <td>48</td>\n",
       "    </tr>\n",
       "    <tr>\n",
       "      <th>18</th>\n",
       "      <td>03-08-1991 06:00</td>\n",
       "      <td>160.840485</td>\n",
       "      <td>48</td>\n",
       "    </tr>\n",
       "    <tr>\n",
       "      <th>19</th>\n",
       "      <td>03-08-1991 14:00</td>\n",
       "      <td>159.992874</td>\n",
       "      <td>48</td>\n",
       "    </tr>\n",
       "  </tbody>\n",
       "</table>\n",
       "</div>"
      ],
      "text/plain": [
       "                Date  Forecasted  Code\n",
       "0   28-07-1991 06:00  169.209305    48\n",
       "1   28-07-1991 14:00  169.116196    48\n",
       "2   28-07-1991 22:00  173.395447    48\n",
       "3   29-07-1991 06:00  173.417953    48\n",
       "4   29-07-1991 14:00  165.793625    48\n",
       "5   29-07-1991 22:00  167.353409    48\n",
       "6   30-07-1991 06:00  170.531998    48\n",
       "7   30-07-1991 14:00  167.468643    48\n",
       "8   30-07-1991 22:00  162.739182    48\n",
       "9   31-07-1991 06:00  163.538132    48\n",
       "10  31-07-1991 14:00  167.784485    48\n",
       "11  31-07-1991 22:00  163.654312    48\n",
       "12  01-08-1991 06:00  162.214218    48\n",
       "13  01-08-1991 14:00  164.747833    48\n",
       "14  01-08-1991 22:00  163.098648    48\n",
       "15  02-08-1991 06:00  160.603760    48\n",
       "16  02-08-1991 14:00  160.430481    48\n",
       "17  02-08-1991 22:00  160.659470    48\n",
       "18  03-08-1991 06:00  160.840485    48\n",
       "19  03-08-1991 14:00  159.992874    48"
      ]
     },
     "execution_count": 58,
     "metadata": {},
     "output_type": "execute_result"
    }
   ],
   "source": [
    "df_result.head(20)"
   ]
  },
  {
   "cell_type": "code",
   "execution_count": 127,
   "metadata": {},
   "outputs": [],
   "source": [
    "import pandas as pd\n",
    "\n",
    "\n",
    "# Check if the 'value' column is numeric\n",
    "test_id['value'] = pd.to_numeric(test_id['value'], errors='coerce')\n",
    "\n",
    "# Check if the 'Forecasted' column is numeric\n",
    "df_result['Forecasted'] = pd.to_numeric(df_result['Forecasted'], errors='coerce')\n"
   ]
  },
  {
   "cell_type": "code",
   "execution_count": 96,
   "metadata": {},
   "outputs": [
    {
     "name": "stdout",
     "output_type": "stream",
     "text": [
      "[[178.18222]\n",
      " [177.74373]\n",
      " [178.14365]\n",
      " [176.04736]\n",
      " [176.21948]\n",
      " [175.5151 ]\n",
      " [176.19757]\n",
      " [178.18715]\n",
      " [180.41615]\n",
      " [184.9028 ]\n",
      " [189.58975]\n",
      " [194.12875]\n",
      " [198.29715]\n",
      " [201.45795]\n",
      " [202.4599 ]\n",
      " [201.96524]\n",
      " [196.5901 ]\n",
      " [190.17569]\n",
      " [184.77338]\n",
      " [178.55116]]\n"
     ]
    }
   ],
   "source": [
    "print(predictions[:20])\n"
   ]
  },
  {
   "cell_type": "code",
   "execution_count": 62,
   "metadata": {},
   "outputs": [],
   "source": [
    "# Save the model to a file\n",
    "model.save('C:\\\\Users\\\\Hp\\\\Desktop\\\\tracking\\\\gru_model.keras')  "
   ]
  },
  {
   "cell_type": "code",
   "execution_count": 63,
   "metadata": {},
   "outputs": [
    {
     "name": "stderr",
     "output_type": "stream",
     "text": [
      "c:\\Users\\Hp\\AppData\\Local\\Programs\\Python\\Python310\\lib\\site-packages\\keras\\src\\saving\\saving_lib.py:757: UserWarning: Skipping variable loading for optimizer 'rmsprop', because it has 14 variables whereas the saved optimizer has 26 variables. \n",
      "  saveable.load_own_variables(weights_store.get(inner_path))\n"
     ]
    },
    {
     "data": {
      "text/html": [
       "<pre style=\"white-space:pre;overflow-x:auto;line-height:normal;font-family:Menlo,'DejaVu Sans Mono',consolas,'Courier New',monospace\"><span style=\"font-weight: bold\">Model: \"sequential\"</span>\n",
       "</pre>\n"
      ],
      "text/plain": [
       "\u001b[1mModel: \"sequential\"\u001b[0m\n"
      ]
     },
     "metadata": {},
     "output_type": "display_data"
    },
    {
     "data": {
      "text/html": [
       "<pre style=\"white-space:pre;overflow-x:auto;line-height:normal;font-family:Menlo,'DejaVu Sans Mono',consolas,'Courier New',monospace\">┏━━━━━━━━━━━━━━━━━━━━━━━━━━━━━━━━━┳━━━━━━━━━━━━━━━━━━━━━━━━┳━━━━━━━━━━━━━━━┓\n",
       "┃<span style=\"font-weight: bold\"> Layer (type)                    </span>┃<span style=\"font-weight: bold\"> Output Shape           </span>┃<span style=\"font-weight: bold\">       Param # </span>┃\n",
       "┡━━━━━━━━━━━━━━━━━━━━━━━━━━━━━━━━━╇━━━━━━━━━━━━━━━━━━━━━━━━╇━━━━━━━━━━━━━━━┩\n",
       "│ gru (<span style=\"color: #0087ff; text-decoration-color: #0087ff\">GRU</span>)                       │ (<span style=\"color: #00d7ff; text-decoration-color: #00d7ff\">None</span>, <span style=\"color: #00af00; text-decoration-color: #00af00\">16</span>, <span style=\"color: #00af00; text-decoration-color: #00af00\">50</span>)         │         <span style=\"color: #00af00; text-decoration-color: #00af00\">7,950</span> │\n",
       "├─────────────────────────────────┼────────────────────────┼───────────────┤\n",
       "│ gru_1 (<span style=\"color: #0087ff; text-decoration-color: #0087ff\">GRU</span>)                     │ (<span style=\"color: #00d7ff; text-decoration-color: #00d7ff\">None</span>, <span style=\"color: #00af00; text-decoration-color: #00af00\">64</span>)             │        <span style=\"color: #00af00; text-decoration-color: #00af00\">22,272</span> │\n",
       "├─────────────────────────────────┼────────────────────────┼───────────────┤\n",
       "│ dense (<span style=\"color: #0087ff; text-decoration-color: #0087ff\">Dense</span>)                   │ (<span style=\"color: #00d7ff; text-decoration-color: #00d7ff\">None</span>, <span style=\"color: #00af00; text-decoration-color: #00af00\">32</span>)             │         <span style=\"color: #00af00; text-decoration-color: #00af00\">2,080</span> │\n",
       "├─────────────────────────────────┼────────────────────────┼───────────────┤\n",
       "│ dense_1 (<span style=\"color: #0087ff; text-decoration-color: #0087ff\">Dense</span>)                 │ (<span style=\"color: #00d7ff; text-decoration-color: #00d7ff\">None</span>, <span style=\"color: #00af00; text-decoration-color: #00af00\">16</span>)             │           <span style=\"color: #00af00; text-decoration-color: #00af00\">528</span> │\n",
       "├─────────────────────────────────┼────────────────────────┼───────────────┤\n",
       "│ dense_2 (<span style=\"color: #0087ff; text-decoration-color: #0087ff\">Dense</span>)                 │ (<span style=\"color: #00d7ff; text-decoration-color: #00d7ff\">None</span>, <span style=\"color: #00af00; text-decoration-color: #00af00\">1</span>)              │            <span style=\"color: #00af00; text-decoration-color: #00af00\">17</span> │\n",
       "└─────────────────────────────────┴────────────────────────┴───────────────┘\n",
       "</pre>\n"
      ],
      "text/plain": [
       "┏━━━━━━━━━━━━━━━━━━━━━━━━━━━━━━━━━┳━━━━━━━━━━━━━━━━━━━━━━━━┳━━━━━━━━━━━━━━━┓\n",
       "┃\u001b[1m \u001b[0m\u001b[1mLayer (type)                   \u001b[0m\u001b[1m \u001b[0m┃\u001b[1m \u001b[0m\u001b[1mOutput Shape          \u001b[0m\u001b[1m \u001b[0m┃\u001b[1m \u001b[0m\u001b[1m      Param #\u001b[0m\u001b[1m \u001b[0m┃\n",
       "┡━━━━━━━━━━━━━━━━━━━━━━━━━━━━━━━━━╇━━━━━━━━━━━━━━━━━━━━━━━━╇━━━━━━━━━━━━━━━┩\n",
       "│ gru (\u001b[38;5;33mGRU\u001b[0m)                       │ (\u001b[38;5;45mNone\u001b[0m, \u001b[38;5;34m16\u001b[0m, \u001b[38;5;34m50\u001b[0m)         │         \u001b[38;5;34m7,950\u001b[0m │\n",
       "├─────────────────────────────────┼────────────────────────┼───────────────┤\n",
       "│ gru_1 (\u001b[38;5;33mGRU\u001b[0m)                     │ (\u001b[38;5;45mNone\u001b[0m, \u001b[38;5;34m64\u001b[0m)             │        \u001b[38;5;34m22,272\u001b[0m │\n",
       "├─────────────────────────────────┼────────────────────────┼───────────────┤\n",
       "│ dense (\u001b[38;5;33mDense\u001b[0m)                   │ (\u001b[38;5;45mNone\u001b[0m, \u001b[38;5;34m32\u001b[0m)             │         \u001b[38;5;34m2,080\u001b[0m │\n",
       "├─────────────────────────────────┼────────────────────────┼───────────────┤\n",
       "│ dense_1 (\u001b[38;5;33mDense\u001b[0m)                 │ (\u001b[38;5;45mNone\u001b[0m, \u001b[38;5;34m16\u001b[0m)             │           \u001b[38;5;34m528\u001b[0m │\n",
       "├─────────────────────────────────┼────────────────────────┼───────────────┤\n",
       "│ dense_2 (\u001b[38;5;33mDense\u001b[0m)                 │ (\u001b[38;5;45mNone\u001b[0m, \u001b[38;5;34m1\u001b[0m)              │            \u001b[38;5;34m17\u001b[0m │\n",
       "└─────────────────────────────────┴────────────────────────┴───────────────┘\n"
      ]
     },
     "metadata": {},
     "output_type": "display_data"
    },
    {
     "data": {
      "text/html": [
       "<pre style=\"white-space:pre;overflow-x:auto;line-height:normal;font-family:Menlo,'DejaVu Sans Mono',consolas,'Courier New',monospace\"><span style=\"font-weight: bold\"> Total params: </span><span style=\"color: #00af00; text-decoration-color: #00af00\">65,696</span> (256.63 KB)\n",
       "</pre>\n"
      ],
      "text/plain": [
       "\u001b[1m Total params: \u001b[0m\u001b[38;5;34m65,696\u001b[0m (256.63 KB)\n"
      ]
     },
     "metadata": {},
     "output_type": "display_data"
    },
    {
     "data": {
      "text/html": [
       "<pre style=\"white-space:pre;overflow-x:auto;line-height:normal;font-family:Menlo,'DejaVu Sans Mono',consolas,'Courier New',monospace\"><span style=\"font-weight: bold\"> Trainable params: </span><span style=\"color: #00af00; text-decoration-color: #00af00\">32,847</span> (128.31 KB)\n",
       "</pre>\n"
      ],
      "text/plain": [
       "\u001b[1m Trainable params: \u001b[0m\u001b[38;5;34m32,847\u001b[0m (128.31 KB)\n"
      ]
     },
     "metadata": {},
     "output_type": "display_data"
    },
    {
     "data": {
      "text/html": [
       "<pre style=\"white-space:pre;overflow-x:auto;line-height:normal;font-family:Menlo,'DejaVu Sans Mono',consolas,'Courier New',monospace\"><span style=\"font-weight: bold\"> Non-trainable params: </span><span style=\"color: #00af00; text-decoration-color: #00af00\">0</span> (0.00 B)\n",
       "</pre>\n"
      ],
      "text/plain": [
       "\u001b[1m Non-trainable params: \u001b[0m\u001b[38;5;34m0\u001b[0m (0.00 B)\n"
      ]
     },
     "metadata": {},
     "output_type": "display_data"
    },
    {
     "data": {
      "text/html": [
       "<pre style=\"white-space:pre;overflow-x:auto;line-height:normal;font-family:Menlo,'DejaVu Sans Mono',consolas,'Courier New',monospace\"><span style=\"font-weight: bold\"> Optimizer params: </span><span style=\"color: #00af00; text-decoration-color: #00af00\">32,849</span> (128.32 KB)\n",
       "</pre>\n"
      ],
      "text/plain": [
       "\u001b[1m Optimizer params: \u001b[0m\u001b[38;5;34m32,849\u001b[0m (128.32 KB)\n"
      ]
     },
     "metadata": {},
     "output_type": "display_data"
    }
   ],
   "source": [
    "from tensorflow.keras.models import load_model\n",
    "\n",
    "# Load the saved model\n",
    "loaded_model = load_model('C:\\\\Users\\\\Hp\\\\Desktop\\\\tracking\\\\gru_model.keras')\n",
    "\n",
    "# Check the loaded model's summary to verify\n",
    "loaded_model.summary()"
   ]
  },
  {
   "cell_type": "code",
   "execution_count": null,
   "metadata": {},
   "outputs": [],
   "source": []
  }
 ],
 "metadata": {
  "colab": {
   "provenance": []
  },
  "kernelspec": {
   "display_name": "Python 3",
   "language": "python",
   "name": "python3"
  },
  "language_info": {
   "codemirror_mode": {
    "name": "ipython",
    "version": 3
   },
   "file_extension": ".py",
   "mimetype": "text/x-python",
   "name": "python",
   "nbconvert_exporter": "python",
   "pygments_lexer": "ipython3",
   "version": "3.10.0"
  }
 },
 "nbformat": 4,
 "nbformat_minor": 0
}
